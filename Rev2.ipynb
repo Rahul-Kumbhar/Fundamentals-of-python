{
  "nbformat": 4,
  "nbformat_minor": 0,
  "metadata": {
    "colab": {
      "name": "Rev2.ipynb",
      "provenance": [],
      "collapsed_sections": []
    },
    "kernelspec": {
      "name": "python3",
      "display_name": "Python 3"
    }
  },
  "cells": [
    {
      "cell_type": "code",
      "metadata": {
        "id": "tSTQHN2kqd2S"
      },
      "source": [
        ""
      ],
      "execution_count": null,
      "outputs": []
    },
    {
      "cell_type": "markdown",
      "metadata": {
        "id": "0bztlgRKsPHS"
      },
      "source": [
        ""
      ]
    },
    {
      "cell_type": "markdown",
      "metadata": {
        "id": "k3gGqjussPUi"
      },
      "source": [
        "Getting Started with Numpy"
      ]
    },
    {
      "cell_type": "code",
      "metadata": {
        "colab": {
          "base_uri": "https://localhost:8080/"
        },
        "id": "uYNFQkr_sWF7",
        "outputId": "534bd0d6-f5d5-4d94-d6a6-f2a9e191749e"
      },
      "source": [
        "import numpy as np\n",
        "arr = np.array([1,2,3,4,5])\n",
        "print(arr)"
      ],
      "execution_count": null,
      "outputs": [
        {
          "output_type": "stream",
          "text": [
            "[1 2 3 4 5]\n"
          ],
          "name": "stdout"
        }
      ]
    },
    {
      "cell_type": "code",
      "metadata": {
        "colab": {
          "base_uri": "https://localhost:8080/"
        },
        "id": "dUDd12mgsnBs",
        "outputId": "c99bb58d-c0b6-4721-ea51-43af4fadd66f"
      },
      "source": [
        "import numpy \n",
        "arr = numpy.array([1,2,3,4,5])\n",
        "print(arr)"
      ],
      "execution_count": null,
      "outputs": [
        {
          "output_type": "stream",
          "text": [
            "[1 2 3 4 5]\n"
          ],
          "name": "stdout"
        }
      ]
    },
    {
      "cell_type": "code",
      "metadata": {
        "colab": {
          "base_uri": "https://localhost:8080/"
        },
        "id": "CjYO_Z97s0iu",
        "outputId": "8658b3a7-ba71-4ea5-9308-c36ae88b5466"
      },
      "source": [
        "import numpy as np\n",
        "print(np.__version__)"
      ],
      "execution_count": null,
      "outputs": [
        {
          "output_type": "stream",
          "text": [
            "1.19.4\n"
          ],
          "name": "stdout"
        }
      ]
    },
    {
      "cell_type": "code",
      "metadata": {
        "id": "Vz1-eQFdtCZl"
      },
      "source": [
        ""
      ],
      "execution_count": null,
      "outputs": []
    },
    {
      "cell_type": "markdown",
      "metadata": {
        "id": "x2Tzawb_tG_O"
      },
      "source": [
        "Create a Numpy ndarray object"
      ]
    },
    {
      "cell_type": "code",
      "metadata": {
        "colab": {
          "base_uri": "https://localhost:8080/"
        },
        "id": "nJM9WLCUtQFl",
        "outputId": "13c4c474-2ee7-45a2-9ade-e17ee1d4b486"
      },
      "source": [
        "import numpy as np\n",
        "arr = np.array([1,2,3,4,5])\n",
        "print(arr)\n",
        "print(type(arr))"
      ],
      "execution_count": null,
      "outputs": [
        {
          "output_type": "stream",
          "text": [
            "[1 2 3 4 5]\n",
            "<class 'numpy.ndarray'>\n"
          ],
          "name": "stdout"
        }
      ]
    },
    {
      "cell_type": "code",
      "metadata": {
        "colab": {
          "base_uri": "https://localhost:8080/"
        },
        "id": "t7Se01k0tclJ",
        "outputId": "b3792a96-60ad-457c-c9e9-72adc97aa5b4"
      },
      "source": [
        "import numpy as np\n",
        "arr = np.array([[1,2,3,4,5],[6,7,8,9,10]])\n",
        "print(arr)\n",
        "print(type(arr))"
      ],
      "execution_count": null,
      "outputs": [
        {
          "output_type": "stream",
          "text": [
            "[[ 1  2  3  4  5]\n",
            " [ 6  7  8  9 10]]\n",
            "<class 'numpy.ndarray'>\n"
          ],
          "name": "stdout"
        }
      ]
    },
    {
      "cell_type": "code",
      "metadata": {
        "colab": {
          "base_uri": "https://localhost:8080/"
        },
        "id": "ruZTNPbqttjH",
        "outputId": "8c2929cb-3376-415f-d147-7d15cc4905d7"
      },
      "source": [
        "import numpy as np\n",
        "arr = np.array([[[1,2,3],[4,5,6]],[[6,7,8],[9,10,11]]])\n",
        "print(arr)\n",
        "print(type(arr))"
      ],
      "execution_count": null,
      "outputs": [
        {
          "output_type": "stream",
          "text": [
            "[[[ 1  2  3]\n",
            "  [ 4  5  6]]\n",
            "\n",
            " [[ 6  7  8]\n",
            "  [ 9 10 11]]]\n",
            "<class 'numpy.ndarray'>\n"
          ],
          "name": "stdout"
        }
      ]
    },
    {
      "cell_type": "code",
      "metadata": {
        "colab": {
          "base_uri": "https://localhost:8080/"
        },
        "id": "62qGRbnMug4X",
        "outputId": "650cd1e5-97ca-45bf-c934-6d06c95f085f"
      },
      "source": [
        "import numpy as np\n",
        "a = np.array(456)\n",
        "b = np.array([1,2,3,4,5,6,7])\n",
        "c = np.array([[1,2,3,4,5],[6,7,8,9,10]])\n",
        "d = np.array([[[1,2,3],[4,5,6]],[[6,7,8],[9,10,11]]])\n",
        "print(a.ndim)\n",
        "print(b.ndim)\n",
        "print(c.ndim)\n",
        "print(d.ndim)"
      ],
      "execution_count": null,
      "outputs": [
        {
          "output_type": "stream",
          "text": [
            "0\n",
            "1\n",
            "2\n",
            "3\n"
          ],
          "name": "stdout"
        }
      ]
    },
    {
      "cell_type": "code",
      "metadata": {
        "colab": {
          "base_uri": "https://localhost:8080/"
        },
        "id": "9FjcOtj4vvBV",
        "outputId": "b6fe1517-2746-4c6f-e027-e0b572ce197a"
      },
      "source": [
        "import numpy as np\n",
        "\n",
        "arr = np.array([1,2,3,4,5,6,7])\n",
        "print(arr[0])"
      ],
      "execution_count": null,
      "outputs": [
        {
          "output_type": "stream",
          "text": [
            "1\n"
          ],
          "name": "stdout"
        }
      ]
    },
    {
      "cell_type": "code",
      "metadata": {
        "colab": {
          "base_uri": "https://localhost:8080/"
        },
        "id": "s9V1NBhPwET9",
        "outputId": "c93982a4-a371-410f-865f-08f3cea05eb1"
      },
      "source": [
        "import numpy as np\n",
        "\n",
        "arr = np.array([1,2,3,4,5,6,7])\n",
        "print(arr[2])"
      ],
      "execution_count": null,
      "outputs": [
        {
          "output_type": "stream",
          "text": [
            "3\n"
          ],
          "name": "stdout"
        }
      ]
    },
    {
      "cell_type": "code",
      "metadata": {
        "colab": {
          "base_uri": "https://localhost:8080/"
        },
        "id": "4zmPcXGxwHeC",
        "outputId": "6e2bd4fd-0516-489d-a73c-a52bce0d866f"
      },
      "source": [
        "import numpy as np\n",
        "\n",
        "arr = np.array([1,2,3,4,5,6,7])\n",
        "print(arr[2]+ arr[4])"
      ],
      "execution_count": null,
      "outputs": [
        {
          "output_type": "stream",
          "text": [
            "8\n"
          ],
          "name": "stdout"
        }
      ]
    },
    {
      "cell_type": "code",
      "metadata": {
        "colab": {
          "base_uri": "https://localhost:8080/"
        },
        "id": "SLabG2X0wNlt",
        "outputId": "ecbe866c-5611-451e-a497-171de5a48b46"
      },
      "source": [
        "import numpy as np\n",
        "c = np.array([[1,2,3,4,5],[6,7,8,9,10]])\n",
        "print('5th element on 2nd dim:',c[1,4])"
      ],
      "execution_count": null,
      "outputs": [
        {
          "output_type": "stream",
          "text": [
            "5th element on 2nd dim: 10\n"
          ],
          "name": "stdout"
        }
      ]
    },
    {
      "cell_type": "code",
      "metadata": {
        "colab": {
          "base_uri": "https://localhost:8080/"
        },
        "id": "fw-7t3lkw2Xl",
        "outputId": "5b91b131-2377-4d7b-db7f-6bab8cbba2d2"
      },
      "source": [
        "import numpy as np\n",
        "c = np.array([[1,2,3,4,5],[6,7,8,9,10]])\n",
        "print(c)\n",
        "print('5th element on 2nd dim:',c[1,4])"
      ],
      "execution_count": null,
      "outputs": [
        {
          "output_type": "stream",
          "text": [
            "[[ 1  2  3  4  5]\n",
            " [ 6  7  8  9 10]]\n",
            "5th element on 2nd dim: 10\n"
          ],
          "name": "stdout"
        }
      ]
    },
    {
      "cell_type": "code",
      "metadata": {
        "colab": {
          "base_uri": "https://localhost:8080/"
        },
        "id": "6nNR1EOHxAxg",
        "outputId": "c167f555-7c45-493c-c334-157dbdd9abd0"
      },
      "source": [
        "import numpy as np\n",
        "c = np.array([[[1,2,3],[4,5,6]],[[6,7,8],[9,10,11]]])\n",
        "print('Print the third element of second array of the first array:',c[0,1,2])"
      ],
      "execution_count": null,
      "outputs": [
        {
          "output_type": "stream",
          "text": [
            "Print the third element of second array of the first array: 6\n"
          ],
          "name": "stdout"
        }
      ]
    },
    {
      "cell_type": "code",
      "metadata": {
        "colab": {
          "base_uri": "https://localhost:8080/"
        },
        "id": "BKvjQM61xJlV",
        "outputId": "3469e98d-d364-46ff-8324-e39ecba342f8"
      },
      "source": [
        "import numpy as np\n",
        "c = np.array([[1,2,3,4,5],[6,7,8,9,10]])\n",
        "print(c)\n",
        "print('Last element from 2nd dis:',c[1,-1])"
      ],
      "execution_count": null,
      "outputs": [
        {
          "output_type": "stream",
          "text": [
            "[[ 1  2  3  4  5]\n",
            " [ 6  7  8  9 10]]\n",
            "Last element from 2nd dis: 10\n"
          ],
          "name": "stdout"
        }
      ]
    },
    {
      "cell_type": "code",
      "metadata": {
        "colab": {
          "base_uri": "https://localhost:8080/"
        },
        "id": "AnqIiDURy3od",
        "outputId": "591da4a7-7397-4edd-a959-5ae4da55d182"
      },
      "source": [
        "import numpy as np\n",
        "c = np.array([1,2,3,4,5,6,7,8,9,10])\n",
        "print(c[1:6])\n"
      ],
      "execution_count": null,
      "outputs": [
        {
          "output_type": "stream",
          "text": [
            "[2 3 4 5 6]\n"
          ],
          "name": "stdout"
        }
      ]
    },
    {
      "cell_type": "code",
      "metadata": {
        "colab": {
          "base_uri": "https://localhost:8080/"
        },
        "id": "IFfHzvkCzOoC",
        "outputId": "c236cfc6-b03f-4054-a6c1-541483e93a59"
      },
      "source": [
        "import numpy as np\n",
        "c = np.array([1,2,3,4,5,6,7,8,9,10])\n",
        "print(c[1:5])"
      ],
      "execution_count": null,
      "outputs": [
        {
          "output_type": "stream",
          "text": [
            "[2 3 4 5]\n"
          ],
          "name": "stdout"
        }
      ]
    },
    {
      "cell_type": "code",
      "metadata": {
        "colab": {
          "base_uri": "https://localhost:8080/"
        },
        "id": "aXq56h4WzeEM",
        "outputId": "c5979591-e0b5-4866-b558-3c9f5974c3d7"
      },
      "source": [
        "import numpy as np\n",
        "c = np.array([1,2,3,4,5,6,7,8,9,10,22,22,22,22,22,22])\n",
        "print(c[5:1])"
      ],
      "execution_count": null,
      "outputs": [
        {
          "output_type": "stream",
          "text": [
            "[]\n"
          ],
          "name": "stdout"
        }
      ]
    },
    {
      "cell_type": "code",
      "metadata": {
        "colab": {
          "base_uri": "https://localhost:8080/"
        },
        "id": "rgAwMMIfzowA",
        "outputId": "87a00200-f31c-458f-b381-cd182aa7cc2f"
      },
      "source": [
        "import numpy as np\n",
        "c = np.array([1,2,3,4,5,6,7,8,9,10,22,22,22,22,22,22])\n",
        "print(c[7:])"
      ],
      "execution_count": null,
      "outputs": [
        {
          "output_type": "stream",
          "text": [
            "[ 8  9 10 22 22 22 22 22 22]\n"
          ],
          "name": "stdout"
        }
      ]
    },
    {
      "cell_type": "code",
      "metadata": {
        "colab": {
          "base_uri": "https://localhost:8080/"
        },
        "id": "IwJagfzFz4Qo",
        "outputId": "5911187c-f1cd-4e6f-fc2a-daffc4f623c6"
      },
      "source": [
        "import numpy as np\n",
        "c = np.array([1,2,3,4,5,6,7,8,9,10])\n",
        "print(c[-3:-1])"
      ],
      "execution_count": null,
      "outputs": [
        {
          "output_type": "stream",
          "text": [
            "[8 9]\n"
          ],
          "name": "stdout"
        }
      ]
    },
    {
      "cell_type": "code",
      "metadata": {
        "colab": {
          "base_uri": "https://localhost:8080/"
        },
        "id": "B02SexSl0BbG",
        "outputId": "5beef9f1-b6c4-4f74-fbb6-bec0fa5d83c8"
      },
      "source": [
        "import numpy as np\n",
        "c = np.array([1,2,3,4,5,6,7,8,9,10,22,22,22,22,22,22,22])\n",
        "print(c[-3:-1])"
      ],
      "execution_count": null,
      "outputs": [
        {
          "output_type": "stream",
          "text": [
            "[22 22]\n"
          ],
          "name": "stdout"
        }
      ]
    },
    {
      "cell_type": "code",
      "metadata": {
        "colab": {
          "base_uri": "https://localhost:8080/"
        },
        "id": "rGNuPdvl0Fiy",
        "outputId": "f055aaf1-9eba-44a1-da20-c4865289ab16"
      },
      "source": [
        "import numpy as np\n",
        "c = np.array([1,2,3,4,5,6,7,8,9,10,22,22,22,22,22,22,22])\n",
        "print(c[1:5:3])"
      ],
      "execution_count": null,
      "outputs": [
        {
          "output_type": "stream",
          "text": [
            "[2 5]\n"
          ],
          "name": "stdout"
        }
      ]
    },
    {
      "cell_type": "code",
      "metadata": {
        "colab": {
          "base_uri": "https://localhost:8080/"
        },
        "id": "GtBDSES70R8j",
        "outputId": "d01a9676-852b-4d3a-c2dc-b0b888b4346d"
      },
      "source": [
        "import numpy as np\n",
        "c = np.array([1,2,3,4,5,6,7,8,9,10,22,22,22,22,22,22,22])\n",
        "print(c[1:5:2])"
      ],
      "execution_count": null,
      "outputs": [
        {
          "output_type": "stream",
          "text": [
            "[2 4]\n"
          ],
          "name": "stdout"
        }
      ]
    },
    {
      "cell_type": "code",
      "metadata": {
        "colab": {
          "base_uri": "https://localhost:8080/"
        },
        "id": "Gx96utvl0XL_",
        "outputId": "519ed959-cf7d-45a5-e5e4-916bbad7098b"
      },
      "source": [
        "import numpy as np\n",
        "c = np.array([1,2,3,4,5,6,7,8,9,10,22,23,24,25,26,27,28])\n",
        "print(c[::2])"
      ],
      "execution_count": null,
      "outputs": [
        {
          "output_type": "stream",
          "text": [
            "[ 1  3  5  7  9 22 24 26 28]\n"
          ],
          "name": "stdout"
        }
      ]
    },
    {
      "cell_type": "code",
      "metadata": {
        "colab": {
          "base_uri": "https://localhost:8080/"
        },
        "id": "GLLwpT3Q02NG",
        "outputId": "28733361-0823-4bc8-825a-7030376f706f"
      },
      "source": [
        "import numpy as np\n",
        "c = np.array([[1,2,3,4,5],[9,10,22,23,24]])\n",
        "print(c[0:2,1:4])"
      ],
      "execution_count": null,
      "outputs": [
        {
          "output_type": "stream",
          "text": [
            "[[ 2  3  4]\n",
            " [10 22 23]]\n"
          ],
          "name": "stdout"
        }
      ]
    },
    {
      "cell_type": "code",
      "metadata": {
        "colab": {
          "base_uri": "https://localhost:8080/"
        },
        "id": "LIUeg-aT2WlG",
        "outputId": "50686e39-a3da-4d78-a13c-e0b371fe01c7"
      },
      "source": [
        "import numpy as np\n",
        "c = np.array([1,2,3,4,5,6,7,8,9,10,22,23,24,25,26,27,28])\n",
        "print(c.dtype)"
      ],
      "execution_count": null,
      "outputs": [
        {
          "output_type": "stream",
          "text": [
            "int64\n"
          ],
          "name": "stdout"
        }
      ]
    },
    {
      "cell_type": "code",
      "metadata": {
        "colab": {
          "base_uri": "https://localhost:8080/"
        },
        "id": "ArkzAWNYsorx",
        "outputId": "8be2582f-f26c-409c-917c-142bf082a5b1"
      },
      "source": [
        "b=np.array([1,2,3,4,5])\r\n",
        "newarr=b.astype(str)\r\n",
        "print(newarr)\r\n",
        "print(newarr.dtype)"
      ],
      "execution_count": null,
      "outputs": [
        {
          "output_type": "stream",
          "text": [
            "['1' '2' '3' '4' '5']\n",
            "<U21\n"
          ],
          "name": "stdout"
        }
      ]
    },
    {
      "cell_type": "code",
      "metadata": {
        "colab": {
          "base_uri": "https://localhost:8080/"
        },
        "id": "vIGvinN1ssLh",
        "outputId": "547f9a81-8562-4f2e-ecdc-45f477dfd69c"
      },
      "source": [
        "b=np.array([1.2,2.3,3.4,4.5,5.6])\r\n",
        "newarr=b.astype(int)\r\n",
        "print(newarr.dtype)"
      ],
      "execution_count": null,
      "outputs": [
        {
          "output_type": "stream",
          "text": [
            "int64\n"
          ],
          "name": "stdout"
        }
      ]
    },
    {
      "cell_type": "code",
      "metadata": {
        "colab": {
          "base_uri": "https://localhost:8080/"
        },
        "id": "1Hnx23DMsueu",
        "outputId": "b72f04b5-4c1c-47ee-bf82-19a583f21d1c"
      },
      "source": [
        "b=np.array([1.2,2.3,3.4,4.5,5.6])\r\n",
        "newarr=b.copy()\r\n",
        "print(b)\r\n",
        "print(newarr)\r\n",
        "print(newarr.dtype)"
      ],
      "execution_count": null,
      "outputs": [
        {
          "output_type": "stream",
          "text": [
            "[1.2 2.3 3.4 4.5 5.6]\n",
            "[1.2 2.3 3.4 4.5 5.6]\n",
            "float64\n"
          ],
          "name": "stdout"
        }
      ]
    },
    {
      "cell_type": "code",
      "metadata": {
        "colab": {
          "base_uri": "https://localhost:8080/"
        },
        "id": "qO2Gm0Ods3Za",
        "outputId": "77a2a931-6a48-49c8-f201-12be84733c69"
      },
      "source": [
        "b=np.array([1.2,2.3,3.4,4.5,5.6])\r\n",
        "newarr=b.view()\r\n",
        "print(b)\r\n",
        "newarr[0]=34\r\n",
        "print(b)\r\n",
        "print(newarr)\r\n",
        "print(newarr.dtype)"
      ],
      "execution_count": null,
      "outputs": [
        {
          "output_type": "stream",
          "text": [
            "[1.2 2.3 3.4 4.5 5.6]\n",
            "[34.   2.3  3.4  4.5  5.6]\n",
            "[34.   2.3  3.4  4.5  5.6]\n",
            "float64\n"
          ],
          "name": "stdout"
        }
      ]
    },
    {
      "cell_type": "code",
      "metadata": {
        "colab": {
          "base_uri": "https://localhost:8080/"
        },
        "id": "vG_rAsN3scGD",
        "outputId": "de41ff0b-de06-4e5a-be25-7c50aba78bb7"
      },
      "source": [
        "import numpy as np\r\n",
        "c=np.array(['Manas','Jhon','Stark','Levi','stark','Charles'])\r\n",
        "print(c)\r\n",
        "print(c.dtype)"
      ],
      "execution_count": null,
      "outputs": [
        {
          "output_type": "stream",
          "text": [
            "['Manas' 'Jhon' 'Stark' 'Levi' 'stark' 'Charles']\n",
            "<U7\n"
          ],
          "name": "stdout"
        }
      ]
    },
    {
      "cell_type": "code",
      "metadata": {
        "colab": {
          "base_uri": "https://localhost:8080/"
        },
        "id": "sYXpB97y3Gd3",
        "outputId": "b59256b4-6d23-490b-bf63-76fd0c3988ee"
      },
      "source": [
        "import numpy as np\n",
        "c = np.array([1.23,2.34,3.44,4.44])\n",
        "newarray =c.astype(int)\n",
        "print(newarray)\n",
        "print(newarray.dtype)"
      ],
      "execution_count": null,
      "outputs": [
        {
          "output_type": "stream",
          "text": [
            "[1 2 3 4]\n",
            "int64\n"
          ],
          "name": "stdout"
        }
      ]
    },
    {
      "cell_type": "code",
      "metadata": {
        "colab": {
          "base_uri": "https://localhost:8080/"
        },
        "id": "muehFurF3mrK",
        "outputId": "b7ad3f0f-ac97-4a6b-a36a-f0e5092f7192"
      },
      "source": [
        "import numpy as np\n",
        "c = np.array([1.23,2.34,3.44,4.44])\n",
        "newarray =c.astype(bool)\n",
        "print(newarray)\n",
        "print(newarray.dtype)"
      ],
      "execution_count": null,
      "outputs": [
        {
          "output_type": "stream",
          "text": [
            "[ True  True  True  True]\n",
            "bool\n"
          ],
          "name": "stdout"
        }
      ]
    },
    {
      "cell_type": "code",
      "metadata": {
        "colab": {
          "base_uri": "https://localhost:8080/"
        },
        "id": "GitPFJmX50ZL",
        "outputId": "de56dee7-359b-42a3-f859-0cc016086400"
      },
      "source": [
        "import numpy as np\n",
        "c = np.array([1.23,2.34,3.44,4.44])\n",
        "x = c.copy()\n",
        "print(x)\n",
        "print(c)\n",
        "print(x.dtype)"
      ],
      "execution_count": null,
      "outputs": [
        {
          "output_type": "stream",
          "text": [
            "[1.23 2.34 3.44 4.44]\n",
            "[1.23 2.34 3.44 4.44]\n",
            "float64\n"
          ],
          "name": "stdout"
        }
      ]
    },
    {
      "cell_type": "code",
      "metadata": {
        "colab": {
          "base_uri": "https://localhost:8080/"
        },
        "id": "AqjxATg76vx2",
        "outputId": "e29553c7-5d23-454d-b95d-d6031fe5e44e"
      },
      "source": [
        "import numpy as np\n",
        "c = np.array([1.23,2.34,3.44,4.44])\n",
        "x = c.view()\n",
        "x[0]=34\n",
        "print(x)\n",
        "print(c)\n",
        "print(x.dtype)"
      ],
      "execution_count": null,
      "outputs": [
        {
          "output_type": "stream",
          "text": [
            "[34.    2.34  3.44  4.44]\n",
            "[34.    2.34  3.44  4.44]\n",
            "float64\n"
          ],
          "name": "stdout"
        }
      ]
    },
    {
      "cell_type": "code",
      "metadata": {
        "id": "hVx0Lpy-s-JF",
        "colab": {
          "base_uri": "https://localhost:8080/"
        },
        "outputId": "83197888-94ed-4e62-f958-fa8794bfa761"
      },
      "source": [
        "b=np.array([1.2,2.3,3.4,4.5,5.6,7.7])\r\n",
        "newarr=b.reshape(2,3,1)\r\n",
        "print(newarr)"
      ],
      "execution_count": null,
      "outputs": [
        {
          "output_type": "stream",
          "text": [
            "[[[1.2]\n",
            "  [2.3]\n",
            "  [3.4]]\n",
            "\n",
            " [[4.5]\n",
            "  [5.6]\n",
            "  [7.7]]]\n"
          ],
          "name": "stdout"
        }
      ]
    },
    {
      "cell_type": "code",
      "metadata": {
        "colab": {
          "base_uri": "https://localhost:8080/"
        },
        "id": "cWWA6dvN7Lv1",
        "outputId": "2ade1367-9998-4231-8da9-149ab76b7fa6"
      },
      "source": [
        "import numpy as np\n",
        "c = np.array([1.23,2.34,3.44,4.44])\n",
        "x = c.view()## print the value of the base attribute to check if any array owns its data or not\n",
        "y = c.copy()\n",
        "print(x.base)\n",
        "print(y.base)\n"
      ],
      "execution_count": null,
      "outputs": [
        {
          "output_type": "stream",
          "text": [
            "[1.23 2.34 3.44 4.44]\n",
            "None\n"
          ],
          "name": "stdout"
        }
      ]
    },
    {
      "cell_type": "code",
      "metadata": {
        "colab": {
          "base_uri": "https://localhost:8080/"
        },
        "id": "Y2MIgXAQ7e8T",
        "outputId": "7119c915-c3d5-4cbe-ee85-ecfe7eedf54a"
      },
      "source": [
        "import numpy as np\n",
        "c = np.array([1.23,2.34,3.44,4.44])\n",
        "y = np.array([[1,2,3,4,5],[9,10,22,23,24]])\n",
        "print(c.shape)\n",
        "print(y.shape)\n"
      ],
      "execution_count": null,
      "outputs": [
        {
          "output_type": "stream",
          "text": [
            "(4,)\n",
            "(2, 5)\n"
          ],
          "name": "stdout"
        }
      ]
    },
    {
      "cell_type": "code",
      "metadata": {
        "colab": {
          "base_uri": "https://localhost:8080/"
        },
        "id": "_inlNNQ58je8",
        "outputId": "89fc0fa1-c50a-4348-ad97-361533bbdeed"
      },
      "source": [
        "import numpy as np\n",
        "c = np.array([1,2,3,4,5,6,7,8,9,10,11,12])\n",
        "newarr = c.reshape(4,3)\n",
        "print(newarr)\n"
      ],
      "execution_count": null,
      "outputs": [
        {
          "output_type": "stream",
          "text": [
            "[[ 1  2  3]\n",
            " [ 4  5  6]\n",
            " [ 7  8  9]\n",
            " [10 11 12]]\n"
          ],
          "name": "stdout"
        }
      ]
    },
    {
      "cell_type": "code",
      "metadata": {
        "colab": {
          "base_uri": "https://localhost:8080/"
        },
        "id": "1XJEt9ic9h54",
        "outputId": "29382214-9ebb-4420-afee-29e50c6df963"
      },
      "source": [
        "import numpy as np\n",
        "c = np.array([1,2,3,4,5,6,7,8,9,10,11,12])\n",
        "newarr = c.reshape(2,3,2)\n",
        "print(newarr)\n"
      ],
      "execution_count": null,
      "outputs": [
        {
          "output_type": "stream",
          "text": [
            "[[[ 1  2]\n",
            "  [ 3  4]\n",
            "  [ 5  6]]\n",
            "\n",
            " [[ 7  8]\n",
            "  [ 9 10]\n",
            "  [11 12]]]\n"
          ],
          "name": "stdout"
        }
      ]
    },
    {
      "cell_type": "code",
      "metadata": {
        "id": "YSRucRuR9oPU",
        "colab": {
          "base_uri": "https://localhost:8080/"
        },
        "outputId": "86a37c65-78e6-48f3-d7eb-0fa5178606e1"
      },
      "source": [
        "import numpy as np\n",
        "arr1 = np.array([1,2,3])\n",
        "arr2 = np.array([4,5,6])\n",
        "newarr = np.concatenate((arr1,arr2))\n",
        "print(arr1)\n",
        "print(arr2)\n",
        "print(newarr)"
      ],
      "execution_count": null,
      "outputs": [
        {
          "output_type": "stream",
          "text": [
            "[1 2 3]\n",
            "[4 5 6]\n",
            "[1 2 3 4 5 6]\n"
          ],
          "name": "stdout"
        }
      ]
    },
    {
      "cell_type": "code",
      "metadata": {
        "colab": {
          "base_uri": "https://localhost:8080/"
        },
        "id": "EhccZtLZw_Cc",
        "outputId": "899c5e57-838f-4123-d9f2-d88c6b31e2fe"
      },
      "source": [
        "import numpy as np\n",
        "arr = np.array([1,2,3,4,5,6])\n",
        "newarr = np.array_split(arr,3)\n",
        "print(arr)\n",
        "print(newarr)\n"
      ],
      "execution_count": null,
      "outputs": [
        {
          "output_type": "stream",
          "text": [
            "[1 2 3 4 5 6]\n",
            "[array([1, 2]), array([3, 4]), array([5, 6])]\n"
          ],
          "name": "stdout"
        }
      ]
    },
    {
      "cell_type": "code",
      "metadata": {
        "colab": {
          "base_uri": "https://localhost:8080/"
        },
        "id": "QNc9BWBSxbDl",
        "outputId": "351d2f0e-bb5e-43ab-a666-befd7a0fd2a1"
      },
      "source": [
        "import numpy as np\n",
        "arr = np.array([1,2,3,4,5,6,7,8])\n",
        "newarr = np.array_split(arr,3)\n",
        "print(arr)\n",
        "print(newarr[0])\n",
        "print(newarr[2])\n",
        "print(newarr[1])\n"
      ],
      "execution_count": null,
      "outputs": [
        {
          "output_type": "stream",
          "text": [
            "[1 2 3 4 5 6 7 8]\n",
            "[1 2 3]\n",
            "[7 8]\n",
            "[4 5 6]\n"
          ],
          "name": "stdout"
        }
      ]
    },
    {
      "cell_type": "code",
      "metadata": {
        "id": "_H2iegnRyb57",
        "colab": {
          "base_uri": "https://localhost:8080/"
        },
        "outputId": "1db7cd05-7c07-41ea-ffe4-ac8849f69f42"
      },
      "source": [
        "import numpy as np\n",
        "arr=np.array([1,2,3,4,5,4,4])\n",
        "newarr=np.where(arr==4)\n",
        "print(newarr)"
      ],
      "execution_count": null,
      "outputs": [
        {
          "output_type": "stream",
          "text": [
            "(array([3, 5, 6]),)\n"
          ],
          "name": "stdout"
        }
      ]
    },
    {
      "cell_type": "code",
      "metadata": {
        "colab": {
          "base_uri": "https://localhost:8080/"
        },
        "id": "QSfewWaPte8E",
        "outputId": "f06f840f-1591-4d73-c38c-6ada89e092a8"
      },
      "source": [
        "import numpy as np\r\n",
        "arr1 = np.array([1,2,3])\r\n",
        "arr2 = np.array([4,5,6])\r\n",
        "newarr = np.stack((arr1,arr2),axis=1)\r\n",
        "print(arr1)\r\n",
        "print(arr2)\r\n",
        "print(newarr)"
      ],
      "execution_count": null,
      "outputs": [
        {
          "output_type": "stream",
          "text": [
            "[1 2 3]\n",
            "[4 5 6]\n",
            "[[1 4]\n",
            " [2 5]\n",
            " [3 6]]\n"
          ],
          "name": "stdout"
        }
      ]
    },
    {
      "cell_type": "code",
      "metadata": {
        "colab": {
          "base_uri": "https://localhost:8080/"
        },
        "id": "qGQItJXDthn2",
        "outputId": "9d43525c-da35-4b66-81b0-a611e0d406a8"
      },
      "source": [
        "import numpy as np\r\n",
        "arr1 = np.array([1,2,3])\r\n",
        "arr2 = np.array([4,5,6])\r\n",
        "newarr = np.stack((arr1,arr2),axis=0)\r\n",
        "print(arr1)\r\n",
        "print(arr2)\r\n",
        "print(newarr)"
      ],
      "execution_count": null,
      "outputs": [
        {
          "output_type": "stream",
          "text": [
            "[1 2 3]\n",
            "[4 5 6]\n",
            "[[1 2 3]\n",
            " [4 5 6]]\n"
          ],
          "name": "stdout"
        }
      ]
    },
    {
      "cell_type": "code",
      "metadata": {
        "colab": {
          "base_uri": "https://localhost:8080/"
        },
        "id": "0gMW2d6atqlE",
        "outputId": "b498a606-156c-46cc-bcd3-72de4f479ab5"
      },
      "source": [
        "import numpy as np\r\n",
        "arr1 = np.array([1,2,3])\r\n",
        "arr2 = np.array([4,5,6])\r\n",
        "newarr = np.hstack((arr1,arr2))\r\n",
        "print(arr1)\r\n",
        "print(arr2)\r\n",
        "print(newarr)"
      ],
      "execution_count": null,
      "outputs": [
        {
          "output_type": "stream",
          "text": [
            "[1 2 3]\n",
            "[4 5 6]\n",
            "[1 2 3 4 5 6]\n"
          ],
          "name": "stdout"
        }
      ]
    },
    {
      "cell_type": "code",
      "metadata": {
        "colab": {
          "base_uri": "https://localhost:8080/"
        },
        "id": "YJliQMQgttEI",
        "outputId": "0d92f704-2d29-45a3-8f55-9c2b1b32a56d"
      },
      "source": [
        "import numpy as np\r\n",
        "arr1 = np.array([1,2,3])\r\n",
        "arr2 = np.array([4,5,6])\r\n",
        "newarr = np.vstack((arr1,arr2))\r\n",
        "print(arr1)\r\n",
        "print(arr2)\r\n",
        "print(newarr)"
      ],
      "execution_count": null,
      "outputs": [
        {
          "output_type": "stream",
          "text": [
            "[1 2 3]\n",
            "[4 5 6]\n",
            "[[1 2 3]\n",
            " [4 5 6]]\n"
          ],
          "name": "stdout"
        }
      ]
    },
    {
      "cell_type": "code",
      "metadata": {
        "colab": {
          "base_uri": "https://localhost:8080/"
        },
        "id": "035-IMz8twG8",
        "outputId": "94399937-d676-4fc1-8468-bd2bd03f4e4b"
      },
      "source": [
        "import numpy as np\r\n",
        "arr1 = np.array([1,2,3])\r\n",
        "arr2 = np.array([4,5,6])\r\n",
        "newarr = np.dstack((arr1,arr2))\r\n",
        "print(newarr)"
      ],
      "execution_count": null,
      "outputs": [
        {
          "output_type": "stream",
          "text": [
            "[[[1 4]\n",
            "  [2 5]\n",
            "  [3 6]]]\n"
          ],
          "name": "stdout"
        }
      ]
    },
    {
      "cell_type": "markdown",
      "metadata": {
        "id": "qjWxadjht2r8"
      },
      "source": [
        "splitting of given array"
      ]
    },
    {
      "cell_type": "code",
      "metadata": {
        "colab": {
          "base_uri": "https://localhost:8080/"
        },
        "id": "suAiOf8atztu",
        "outputId": "b14385a6-71ef-4fa3-87c4-82accb25e1c5"
      },
      "source": [
        "import numpy as np\r\n",
        "arr1 = np.array([1,2,3,4,5,6])\r\n",
        "newarr = np.array_split(arr1,3)\r\n",
        "print(arr1)\r\n",
        "print(newarr)"
      ],
      "execution_count": null,
      "outputs": [
        {
          "output_type": "stream",
          "text": [
            "[1 2 3 4 5 6]\n",
            "[array([1, 2]), array([3, 4]), array([5, 6])]\n"
          ],
          "name": "stdout"
        }
      ]
    },
    {
      "cell_type": "code",
      "metadata": {
        "colab": {
          "base_uri": "https://localhost:8080/"
        },
        "id": "lxOln7y8uEoZ",
        "outputId": "3dfeb346-0fd9-4510-ab09-f7a40558367f"
      },
      "source": [
        "import numpy as np\r\n",
        "arr1 = np.array([1,2,3,4,5,6])\r\n",
        "newarr = np.array_split(arr1,4)\r\n",
        "print(arr1)\r\n",
        "print(newarr)"
      ],
      "execution_count": null,
      "outputs": [
        {
          "output_type": "stream",
          "text": [
            "[1 2 3 4 5 6]\n",
            "[array([1, 2]), array([3, 4]), array([5]), array([6])]\n"
          ],
          "name": "stdout"
        }
      ]
    },
    {
      "cell_type": "code",
      "metadata": {
        "colab": {
          "base_uri": "https://localhost:8080/"
        },
        "id": "u59ExZJ7uG64",
        "outputId": "3a953fdb-5b6c-4a0e-96fe-5abffdc17531"
      },
      "source": [
        "import numpy as np\r\n",
        "arr1 = np.array([1,2,3,4,5,6])\r\n",
        "newarr = np.array_split(arr1,4)\r\n",
        "print(newarr[0])\r\n",
        "print(newarr[2])\r\n",
        "print(newarr[3])"
      ],
      "execution_count": null,
      "outputs": [
        {
          "output_type": "stream",
          "text": [
            "[1 2]\n",
            "[5]\n",
            "[6]\n"
          ],
          "name": "stdout"
        }
      ]
    },
    {
      "cell_type": "code",
      "metadata": {
        "colab": {
          "base_uri": "https://localhost:8080/"
        },
        "id": "O9xl9mzXuJik",
        "outputId": "8a9f9c84-4850-4eee-d77d-b7b6b403b7bd"
      },
      "source": [
        "import numpy as np\r\n",
        "arr1 = np.array([1,2,3,4,5,6])\r\n",
        "newarr = np.array_split(arr1,3)\r\n",
        "print(newarr[0])\r\n",
        "print(newarr[2])\r\n",
        "print(newarr[1])"
      ],
      "execution_count": null,
      "outputs": [
        {
          "output_type": "stream",
          "text": [
            "[1 2]\n",
            "[5 6]\n",
            "[3 4]\n"
          ],
          "name": "stdout"
        }
      ]
    },
    {
      "cell_type": "code",
      "metadata": {
        "colab": {
          "base_uri": "https://localhost:8080/"
        },
        "id": "v0IhYFrYuMDZ",
        "outputId": "06d48cbf-3b9e-44cd-c7a2-fb52b55a7d2b"
      },
      "source": [
        "import numpy as np\r\n",
        "arr1 = np.array([1,2,3,4,5,6,4])\r\n",
        "newarr = np.where(arr1==4)\r\n",
        "print(newarr)"
      ],
      "execution_count": null,
      "outputs": [
        {
          "output_type": "stream",
          "text": [
            "(array([3, 6]),)\n"
          ],
          "name": "stdout"
        }
      ]
    },
    {
      "cell_type": "code",
      "metadata": {
        "colab": {
          "base_uri": "https://localhost:8080/"
        },
        "id": "OUriURiauaHM",
        "outputId": "95dc804f-8e02-48a1-9367-eeadb7bbeefb"
      },
      "source": [
        "import numpy as np\r\n",
        "arr1 = np.array([1,2,3,4,5,6,7,8])\r\n",
        "newarr = np.where(arr1%2==0)\r\n",
        "print(newarr)"
      ],
      "execution_count": null,
      "outputs": [
        {
          "output_type": "stream",
          "text": [
            "(array([1, 3, 5, 7]),)\n"
          ],
          "name": "stdout"
        }
      ]
    },
    {
      "cell_type": "code",
      "metadata": {
        "colab": {
          "base_uri": "https://localhost:8080/"
        },
        "id": "2bDSl85Buco7",
        "outputId": "fe4ebbc7-a5fb-49b8-a774-e1e0a3e2da18"
      },
      "source": [
        "import numpy as np\r\n",
        "arr1 = np.array([1,2,3,4,5,6,7,8])\r\n",
        "newarr = np.where(arr1%2==1)\r\n",
        "print(newarr)"
      ],
      "execution_count": null,
      "outputs": [
        {
          "output_type": "stream",
          "text": [
            "(array([0, 2, 4, 6]),)\n"
          ],
          "name": "stdout"
        }
      ]
    },
    {
      "cell_type": "code",
      "metadata": {
        "colab": {
          "base_uri": "https://localhost:8080/"
        },
        "id": "tLsaGgWkufW1",
        "outputId": "8a8204a5-2d69-40ba-eb1c-d3fc9b5c859f"
      },
      "source": [
        "import numpy as np\r\n",
        "arr1 = np.array([1,2,3,4,5,6,7,8])\r\n",
        "newarr = np.searchsorted(arr1,5)\r\n",
        "print(newarr)"
      ],
      "execution_count": null,
      "outputs": [
        {
          "output_type": "stream",
          "text": [
            "4\n"
          ],
          "name": "stdout"
        }
      ]
    },
    {
      "cell_type": "code",
      "metadata": {
        "colab": {
          "base_uri": "https://localhost:8080/"
        },
        "id": "NI0DLbMCuinx",
        "outputId": "5f77662f-dbc0-4f4c-faa6-45e0ac0ea9a2"
      },
      "source": [
        "import numpy as np\r\n",
        "arr1 = np.array([1,2,3,4,5,6,7,8])\r\n",
        "newarr = np.searchsorted(arr1,5,side='right')\r\n",
        "print(newarr)"
      ],
      "execution_count": null,
      "outputs": [
        {
          "output_type": "stream",
          "text": [
            "5\n"
          ],
          "name": "stdout"
        }
      ]
    },
    {
      "cell_type": "code",
      "metadata": {
        "colab": {
          "base_uri": "https://localhost:8080/"
        },
        "id": "mBsbQXv8ul3l",
        "outputId": "2207acca-6341-4ae7-8efb-6d91b23d9a6d"
      },
      "source": [
        "import numpy as np\r\n",
        "arr1 = np.array([1,2,3,4])\r\n",
        "newarr = arr1[[True,False,True,False]]\r\n",
        "print(newarr)"
      ],
      "execution_count": null,
      "outputs": [
        {
          "output_type": "stream",
          "text": [
            "[1 3]\n"
          ],
          "name": "stdout"
        }
      ]
    },
    {
      "cell_type": "code",
      "metadata": {
        "id": "5CdKXUROu52u",
        "colab": {
          "base_uri": "https://localhost:8080/"
        },
        "outputId": "6e14fe5b-2bfd-4a25-fc8b-146bb1b085be"
      },
      "source": [
        "import numpy as np\r\n",
        "arr1 = np.array([2,28,63,45,54,6,7,8])\r\n",
        "filter=arr1>15\r\n",
        "newarr=arr1[filter]\r\n",
        "print(newarr)"
      ],
      "execution_count": null,
      "outputs": [
        {
          "output_type": "stream",
          "text": [
            "[28 63 45 54]\n"
          ],
          "name": "stdout"
        }
      ]
    },
    {
      "cell_type": "code",
      "metadata": {
        "colab": {
          "base_uri": "https://localhost:8080/",
          "height": 265
        },
        "id": "-BDRTQiqusT1",
        "outputId": "f4bce499-9353-423e-e516-8b219ea911d5"
      },
      "source": [
        "import matplotlib.pyplot as plt\r\n",
        "import numpy as np\r\n",
        "x=np.array([0,6])\r\n",
        "y=np.array([0,6])\r\n",
        "plt.plot(x,y)\r\n",
        "plt.show()"
      ],
      "execution_count": null,
      "outputs": [
        {
          "output_type": "display_data",
          "data": {
            "image/png": "[encoded data removed]",
            "text/plain": [
              "<Figure size 432x288 with 1 Axes>"
            ]
          },
          "metadata": {
            "tags": [],
            "needs_background": "light"
          }
        }
      ]
    },
    {
      "cell_type": "code",
      "metadata": {
        "colab": {
          "base_uri": "https://localhost:8080/",
          "height": 265
        },
        "id": "r-TWmFbeuuyL",
        "outputId": "27c5bfe5-7178-4750-bfa9-2b3e7d861143"
      },
      "source": [
        "import matplotlib.pyplot as plt\r\n",
        "import numpy as np\r\n",
        "x=np.array([1,3])\r\n",
        "y=np.array([5,8])\r\n",
        "plt.plot(x,y)\r\n",
        "plt.show()"
      ],
      "execution_count": null,
      "outputs": [
        {
          "output_type": "display_data",
          "data": {
            "image/png": "[encoded data removed]",
            "text/plain": [
              "<Figure size 432x288 with 1 Axes>"
            ]
          },
          "metadata": {
            "tags": [],
            "needs_background": "light"
          }
        }
      ]
    },
    {
      "cell_type": "code",
      "metadata": {
        "colab": {
          "base_uri": "https://localhost:8080/",
          "height": 265
        },
        "id": "OPV0qYh-83iO",
        "outputId": "276da93f-49fd-4c68-dcbb-6be1e9175694"
      },
      "source": [
        "import matplotlib.pyplot as plt\r\n",
        "import numpy as np\r\n",
        "x=np.array([1,3,5,4,8,12,5,22])\r\n",
        "y=np.array([5,8,9,2,12,3,7,9])\r\n",
        "plt.plot(x,y)\r\n",
        "plt.show()"
      ],
      "execution_count": null,
      "outputs": [
        {
          "output_type": "display_data",
          "data": {
            "image/png": "[encoded data removed]",
            "text/plain": [
              "<Figure size 432x288 with 1 Axes>"
            ]
          },
          "metadata": {
            "tags": [],
            "needs_background": "light"
          }
        }
      ]
    },
    {
      "cell_type": "code",
      "metadata": {
        "id": "e_lmPh5b6gFk",
        "colab": {
          "base_uri": "https://localhost:8080/",
          "height": 265
        },
        "outputId": "49c59279-d2f0-41d6-8eb0-5e7a6c8e0ed2"
      },
      "source": [
        "import matplotlib.pyplot as plt\n",
        "import numpy as np\n",
        "xpoints=np.array([1,8])\n",
        "ypoints=np.array([3,10])\n",
        "plt.plot(xpoints,ypoints,'o')\n",
        "plt.show()"
      ],
      "execution_count": null,
      "outputs": [
        {
          "output_type": "display_data",
          "data": {
            "image/png": "[encoded data removed]",
            "text/plain": [
              "<Figure size 432x288 with 1 Axes>"
            ]
          },
          "metadata": {
            "tags": [],
            "needs_background": "light"
          }
        }
      ]
    },
    {
      "cell_type": "code",
      "metadata": {
        "id": "OycTUAKA76HW",
        "colab": {
          "base_uri": "https://localhost:8080/",
          "height": 265
        },
        "outputId": "c70f275e-5230-414a-93d0-e6c9ab580a0c"
      },
      "source": [
        "import matplotlib.pyplot as plt\n",
        "import numpy as np\n",
        "xpoints=np.array([1,2,6,8])\n",
        "ypoints=np.array([3,8,1,10])\n",
        "plt.plot(xpoints,ypoints)\n",
        "plt.show()"
      ],
      "execution_count": null,
      "outputs": [
        {
          "output_type": "display_data",
          "data": {
            "image/png": "[encoded data removed]",
            "text/plain": [
              "<Figure size 432x288 with 1 Axes>"
            ]
          },
          "metadata": {
            "tags": [],
            "needs_background": "light"
          }
        }
      ]
    },
    {
      "cell_type": "code",
      "metadata": {
        "id": "TC85S_u18C3T",
        "colab": {
          "base_uri": "https://localhost:8080/",
          "height": 265
        },
        "outputId": "4368965f-0075-4253-f0de-d01daf498008"
      },
      "source": [
        "import matplotlib.pyplot as plt\n",
        "import numpy as np\n",
        "xpoints=np.array([1,3,5,8])\n",
        "plt.plot(xpoints)\n",
        "plt.show()"
      ],
      "execution_count": null,
      "outputs": [
        {
          "output_type": "display_data",
          "data": {
            "image/png": "[encoded data removed]",
            "text/plain": [
              "<Figure size 432x288 with 1 Axes>"
            ]
          },
          "metadata": {
            "tags": [],
            "needs_background": "light"
          }
        }
      ]
    },
    {
      "cell_type": "code",
      "metadata": {
        "id": "q0Hq5jdz8cNB",
        "colab": {
          "base_uri": "https://localhost:8080/",
          "height": 265
        },
        "outputId": "e8cf8704-534a-4485-e8de-d33f92f3b27b"
      },
      "source": [
        "import matplotlib.pyplot as plt\n",
        "import numpy as np\n",
        "xpoints=np.array([1,2,7,8])\n",
        "plt.plot(xpoints, marker='o')\n",
        "plt.show()"
      ],
      "execution_count": null,
      "outputs": [
        {
          "output_type": "display_data",
          "data": {
            "image/png": "[encoded data removed]",
            "text/plain": [
              "<Figure size 432x288 with 1 Axes>"
            ]
          },
          "metadata": {
            "tags": [],
            "needs_background": "light"
          }
        }
      ]
    },
    {
      "cell_type": "code",
      "metadata": {
        "id": "AabCKd8o8sxs",
        "colab": {
          "base_uri": "https://localhost:8080/",
          "height": 265
        },
        "outputId": "87c807dd-6970-4443-faa6-5e85c52f5cf8"
      },
      "source": [
        "import matplotlib.pyplot as plt\n",
        "import numpy as np\n",
        "xpoints=np.array([1,3,6,8])\n",
        "plt.plot(xpoints,marker='*')\n",
        "plt.show()"
      ],
      "execution_count": null,
      "outputs": [
        {
          "output_type": "display_data",
          "data": {
            "image/png": "[encoded data removed]",
            "text/plain": [
              "<Figure size 432x288 with 1 Axes>"
            ]
          },
          "metadata": {
            "tags": [],
            "needs_background": "light"
          }
        }
      ]
    },
    {
      "cell_type": "code",
      "metadata": {
        "id": "Aqu8mIPZ8w9-",
        "colab": {
          "base_uri": "https://localhost:8080/",
          "height": 265
        },
        "outputId": "eff1151b-38a3-45c3-ce43-4d64ed567fcd"
      },
      "source": [
        "import matplotlib.pyplot as plt\n",
        "import numpy as np\n",
        "xpoints=np.array([3,5,6,8])\n",
        "plt.plot(xpoints,'o:r')\n",
        "plt.show()"
      ],
      "execution_count": null,
      "outputs": [
        {
          "output_type": "display_data",
          "data": {
            "image/png": "[encoded data removed]",
            "text/plain": [
              "<Figure size 432x288 with 1 Axes>"
            ]
          },
          "metadata": {
            "tags": [],
            "needs_background": "light"
          }
        }
      ]
    },
    {
      "cell_type": "code",
      "metadata": {
        "id": "XrhsJskX9SQ4",
        "colab": {
          "base_uri": "https://localhost:8080/",
          "height": 265
        },
        "outputId": "9cc78e10-e082-4c74-dd83-68fc36a26f4f"
      },
      "source": [
        "import matplotlib.pyplot as plt\n",
        "import numpy as np\n",
        "xpoints=np.array([1,2,6,7])\n",
        "plt.plot(xpoints,'o-b')\n",
        "plt.show()"
      ],
      "execution_count": null,
      "outputs": [
        {
          "output_type": "display_data",
          "data": {
            "image/png": "[encoded data removed]",
            "text/plain": [
              "<Figure size 432x288 with 1 Axes>"
            ]
          },
          "metadata": {
            "tags": [],
            "needs_background": "light"
          }
        }
      ]
    },
    {
      "cell_type": "code",
      "metadata": {
        "id": "SmzThARh9iyC",
        "colab": {
          "base_uri": "https://localhost:8080/",
          "height": 265
        },
        "outputId": "a9711b86-4599-40f4-caa1-54f41254f72c"
      },
      "source": [
        "import matplotlib.pyplot as plt\n",
        "import numpy as np\n",
        "xpoints=np.array([1,2,5,8])\n",
        "plt.plot(xpoints,'o--b')\n",
        "plt.show()"
      ],
      "execution_count": null,
      "outputs": [
        {
          "output_type": "display_data",
          "data": {
            "image/png": "[encoded data removed]",
            "text/plain": [
              "<Figure size 432x288 with 1 Axes>"
            ]
          },
          "metadata": {
            "tags": [],
            "needs_background": "light"
          }
        }
      ]
    },
    {
      "cell_type": "code",
      "metadata": {
        "id": "jlsTp4vp9sTf",
        "colab": {
          "base_uri": "https://localhost:8080/",
          "height": 265
        },
        "outputId": "3847f427-bfd9-47f1-8eed-3bb9bbfec0f6"
      },
      "source": [
        "import matplotlib.pyplot as plt\n",
        "import numpy as np\n",
        "xpoints=np.array([1,2,7,8])\n",
        "plt.plot(xpoints,'o-.b')\n",
        "plt.show()"
      ],
      "execution_count": null,
      "outputs": [
        {
          "output_type": "display_data",
          "data": {
            "image/png": "[encoded data removed]",
            "text/plain": [
              "<Figure size 432x288 with 1 Axes>"
            ]
          },
          "metadata": {
            "tags": [],
            "needs_background": "light"
          }
        }
      ]
    },
    {
      "cell_type": "code",
      "metadata": {
        "id": "agrD3Lfs9yzq",
        "colab": {
          "base_uri": "https://localhost:8080/",
          "height": 282
        },
        "outputId": "1fb80700-cfea-476c-defb-777359d74634"
      },
      "source": [
        "import matplotlib.pyplot as plt\n",
        "import numpy as np\n",
        "x=np.array([0,1,2,3])\n",
        "y=np.array([3,5,2,9])\n",
        "plt.subplot(1,2,1)\n",
        "plt.plot(x,y)"
      ],
      "execution_count": null,
      "outputs": [
        {
          "output_type": "execute_result",
          "data": {
            "text/plain": [
              "[<matplotlib.lines.Line2D at 0x7f505f443f28>]"
            ]
          },
          "metadata": {
            "tags": []
          },
          "execution_count": 57
        },
        {
          "output_type": "display_data",
          "data": {
            "image/png": "[encoded data removed]",
            "text/plain": [
              "<Figure size 432x288 with 1 Axes>"
            ]
          },
          "metadata": {
            "tags": [],
            "needs_background": "light"
          }
        }
      ]
    },
    {
      "cell_type": "code",
      "metadata": {
        "id": "kq4WNVKW-kFV",
        "colab": {
          "base_uri": "https://localhost:8080/",
          "height": 265
        },
        "outputId": "b3ad3447-2929-4819-99fa-5b40a5815c35"
      },
      "source": [
        "import matplotlib.pyplot as plt\n",
        "import numpy as np\n",
        "\n",
        "x=np.array([0,1,2,3])\n",
        "y=np.array([3,5,2,10])\n",
        "\n",
        "plt.subplot(2,1,1)\n",
        "plt.plot(x,y)\n",
        "\n",
        "x=np.array([0,1,2,3])\n",
        "y=np.array([13,25,32,40])\n",
        "plt.subplot(2,1,2)\n",
        "plt.plot(x,y)\n",
        "\n",
        "plt.show()"
      ],
      "execution_count": null,
      "outputs": [
        {
          "output_type": "display_data",
          "data": {
            "image/png": "[encoded data removed]",
            "text/plain": [
              "<Figure size 432x288 with 2 Axes>"
            ]
          },
          "metadata": {
            "tags": [],
            "needs_background": "light"
          }
        }
      ]
    },
    {
      "cell_type": "code",
      "metadata": {
        "id": "BDFwkeLY_p6m",
        "colab": {
          "base_uri": "https://localhost:8080/",
          "height": 265
        },
        "outputId": "daf31d9c-20b5-4e23-b73f-1c4b12e856b8"
      },
      "source": [
        "import matplotlib.pyplot as plt\n",
        "import numpy as np\n",
        "x = np.array([0,1,2,3])\n",
        "y = np.array([3,5,2,10])\n",
        "plt.subplot(2,3,1)\n",
        "plt.plot(x,y)\n",
        "\n",
        "x = np.array([0,1,2,3])\n",
        "y = np.array([13,25,32,40])\n",
        "plt.subplot(2,3,2)\n",
        "plt.plot(x,y)\n",
        "\n",
        "x = np.array([2,13,2,13])\n",
        "y = np.array([13,5,32,40])\n",
        "plt.subplot(2,3,3)\n",
        "plt.plot(x,y)\n",
        "\n",
        "x = np.array([10,11,12,13])\n",
        "y = np.array([3,5,32,20])\n",
        "plt.subplot(2,3,4)\n",
        "plt.plot(x,y)\n",
        "\n",
        "x = np.array([12,13,2,113])\n",
        "y = np.array([13,15,132,40])\n",
        "plt.subplot(2,3,5)\n",
        "plt.plot(x,y)\n",
        "\n",
        "plt.show()"
      ],
      "execution_count": null,
      "outputs": [
        {
          "output_type": "display_data",
          "data": {
            "image/png": "[encoded data removed]",
            "text/plain": [
              "<Figure size 432x288 with 5 Axes>"
            ]
          },
          "metadata": {
            "tags": [],
            "needs_background": "light"
          }
        }
      ]
    },
    {
      "cell_type": "code",
      "metadata": {
        "id": "iCS53-NFAfpd",
        "colab": {
          "base_uri": "https://localhost:8080/",
          "height": 294
        },
        "outputId": "c15c681f-9bdd-4864-9bcb-d4e5f0f28ead"
      },
      "source": [
        "import matplotlib.pyplot as plt\n",
        "import numpy as np\n",
        "\n",
        "x=np.array([0,1,2,3])\n",
        "y=np.array([3,5,2,10])\n",
        "\n",
        "plt.subplot(1,2,1)\n",
        "plt.plot(x,y)\n",
        "plt.title('SALES')\n",
        "\n",
        "x=np.array([0,1,2,3])\n",
        "y=np.array([13,25,32,40])\n",
        "plt.subplot(1,2,2)\n",
        "plt.plot(x,y)\n",
        "plt.title('INCOME')\n",
        "plt.suptitle('WORKSHOP OF ACHARYA COLLEGE')\n",
        "plt.show()"
      ],
      "execution_count": null,
      "outputs": [
        {
          "output_type": "display_data",
          "data": {
            "image/png": "[encoded data removed]",
            "text/plain": [
              "<Figure size 432x288 with 2 Axes>"
            ]
          },
          "metadata": {
            "tags": [],
            "needs_background": "light"
          }
        }
      ]
    },
    {
      "cell_type": "code",
      "metadata": {
        "id": "Z3azVjGzBAiO",
        "colab": {
          "base_uri": "https://localhost:8080/",
          "height": 294
        },
        "outputId": "85578488-3c1e-415f-d1e1-9b7d74ff2171"
      },
      "source": [
        "import matplotlib.pyplot as plt\n",
        "import numpy as np\n",
        "\n",
        "x=np.array([10,20,30,40])\n",
        "y=np.array([30,40,50,60])\n",
        "\n",
        "plt.subplot(1,2,1)\n",
        "plt.plot(x,y)\n",
        "plt.title('first')\n",
        "\n",
        "x=np.array([50,60,70,80])\n",
        "y=np.array([40,50,60,70])\n",
        "plt.subplot(1,2,2)\n",
        "plt.plot(x,y)\n",
        "plt.title('second')\n",
        "plt.suptitle('first & second')\n",
        "\n",
        "plt.show()"
      ],
      "execution_count": null,
      "outputs": [
        {
          "output_type": "display_data",
          "data": {
            "image/png": "[encoded data removed]",
            "text/plain": [
              "<Figure size 432x288 with 2 Axes>"
            ]
          },
          "metadata": {
            "tags": [],
            "needs_background": "light"
          }
        }
      ]
    },
    {
      "cell_type": "code",
      "metadata": {
        "colab": {
          "base_uri": "https://localhost:8080/",
          "height": 265
        },
        "id": "dwoVZPO69C9W",
        "outputId": "a18dcb95-3bb4-4b9e-bab8-e5285d003cde"
      },
      "source": [
        "import matplotlib.pyplot as plt\r\n",
        "import numpy as np\r\n",
        "\r\n",
        "x = np.array([5,7,8,7,2,17,2,9,4,11,12,9,6])\r\n",
        "y = np.array([99,86,87,88,111,86,103,87,94,78,77,85,86])\r\n",
        "colors = np.array([0,10,20,30,40,45,50,55,60,70,80,90,100])\r\n",
        "\r\n",
        "plt.scatter(x,y, c=colors,cmap = 'viridis')\r\n",
        "plt.show()"
      ],
      "execution_count": null,
      "outputs": [
        {
          "output_type": "display_data",
          "data": {
            "image/png": "[encoded data removed]",
            "text/plain": [
              "<Figure size 432x288 with 1 Axes>"
            ]
          },
          "metadata": {
            "tags": [],
            "needs_background": "light"
          }
        }
      ]
    },
    {
      "cell_type": "code",
      "metadata": {
        "colab": {
          "base_uri": "https://localhost:8080/",
          "height": 265
        },
        "id": "_e2dTz4w_ukC",
        "outputId": "d75111eb-96d1-41e7-b95b-1e6812aa8a03"
      },
      "source": [
        "import matplotlib.pyplot as plt\r\n",
        "import numpy as np\r\n",
        "\r\n",
        "x = np.array([5,7,8,7,2,17,2,9,4,11,12,9,6])\r\n",
        "y = np.array([99,86,87,88,111,86,103,87,94,78,77,85,86])\r\n",
        "colors = np.array([0,10,20,30,40,45,50,55,60,70,80,90,100])\r\n",
        "\r\n",
        "plt.scatter(x,y, c=colors,cmap = 'viridis')\r\n",
        "plt.show()"
      ],
      "execution_count": null,
      "outputs": [
        {
          "output_type": "display_data",
          "data": {
            "image/png": "[encoded data removed]",
            "text/plain": [
              "<Figure size 432x288 with 1 Axes>"
            ]
          },
          "metadata": {
            "tags": [],
            "needs_background": "light"
          }
        }
      ]
    },
    {
      "cell_type": "code",
      "metadata": {
        "colab": {
          "base_uri": "https://localhost:8080/",
          "height": 269
        },
        "id": "Eu5QfVCV_7Or",
        "outputId": "884bb8a8-47ac-4b0b-801b-d158b7b91dbd"
      },
      "source": [
        "import matplotlib.pyplot as plt\r\n",
        "import numpy as np\r\n",
        "\r\n",
        "x = np.array([5,7,8,7,2,17,2,9,4,11,12,9,6])\r\n",
        "y = np.array([99,86,87,88,111,86,103,87,94,78,77,85,86])\r\n",
        "colors = np.array([0,10,20,30,40,45,50,55,60,70,80,90,100])\r\n",
        "\r\n",
        "plt.scatter(x,y, c=colors,cmap = 'Accent')\r\n",
        "plt.colorbar()\r\n",
        "plt.show()"
      ],
      "execution_count": null,
      "outputs": [
        {
          "output_type": "display_data",
          "data": {
            "image/png": "[encoded data removed]",
            "text/plain": [
              "<Figure size 432x288 with 2 Axes>"
            ]
          },
          "metadata": {
            "tags": [],
            "needs_background": "light"
          }
        }
      ]
    },
    {
      "cell_type": "code",
      "metadata": {
        "colab": {
          "base_uri": "https://localhost:8080/",
          "height": 269
        },
        "id": "i_YSsqVfAhAE",
        "outputId": "4cc302e0-6810-4aea-ac4d-eadfd49435c8"
      },
      "source": [
        "import matplotlib.pyplot as plt\r\n",
        "import numpy as np\r\n",
        "\r\n",
        "x = np.array([5,7,8,7,2,17,2,9,4,11,12,9,6])\r\n",
        "y = np.array([99,86,87,88,111,86,103,87,94,78,77,85,86])\r\n",
        "size = np.array([0,10,20,30,40,45,50,55,60,70,80,90,100])\r\n",
        "\r\n",
        "plt.scatter(x,y, s=size)\r\n",
        "plt.colorbar()\r\n",
        "plt.show()"
      ],
      "execution_count": null,
      "outputs": [
        {
          "output_type": "display_data",
          "data": {
            "image/png": "[encoded data removed]",
            "text/plain": [
              "<Figure size 432x288 with 2 Axes>"
            ]
          },
          "metadata": {
            "tags": [],
            "needs_background": "light"
          }
        }
      ]
    },
    {
      "cell_type": "code",
      "metadata": {
        "colab": {
          "base_uri": "https://localhost:8080/",
          "height": 265
        },
        "id": "2-dL68ZpA7P1",
        "outputId": "9b9f3cc2-7f19-410d-e87e-fad5dcc499c9"
      },
      "source": [
        "import matplotlib.pyplot as plt\r\n",
        "import numpy as np\r\n",
        "\r\n",
        "x = np.array([5,7,8,7,2,17,2,9,4,11,12,9,6])\r\n",
        "y = np.array([99,86,87,88,111,86,103,87,94,78,77,85,86])\r\n",
        "size = np.array([0,10,20,30,40,45,50,55,60,70,80,90,100])\r\n",
        "\r\n",
        "plt.scatter(x,y, s=size,alpha=0.5)\r\n",
        "\r\n",
        "plt.show()"
      ],
      "execution_count": null,
      "outputs": [
        {
          "output_type": "display_data",
          "data": {
            "image/png": "[encoded data removed]",
            "text/plain": [
              "<Figure size 432x288 with 1 Axes>"
            ]
          },
          "metadata": {
            "tags": [],
            "needs_background": "light"
          }
        }
      ]
    },
    {
      "cell_type": "code",
      "metadata": {
        "colab": {
          "base_uri": "https://localhost:8080/",
          "height": 265
        },
        "id": "7u7_dwZHBOac",
        "outputId": "a6c4952d-f5d9-46cf-8f43-1a5ca950e709"
      },
      "source": [
        "import matplotlib.pyplot as plt\r\n",
        "import numpy as np\r\n",
        "\r\n",
        "x = np.random.randint(100,size=(100))\r\n",
        "y = np.random.randint(100,size=(100))\r\n",
        "colors = np.random.randint(100,size=(100))\r\n",
        "size = 10*np.random.randint(100,size=(100))\r\n",
        "\r\n",
        "plt.scatter(x,y, c=colors,s=size,alpha=0.5,cmap='nipy_spectral')\r\n",
        "plt.colorbar()\r\n",
        "plt.show()"
      ],
      "execution_count": null,
      "outputs": [
        {
          "output_type": "display_data",
          "data": {
            "image/png": "[encoded data removed]",
            "text/plain": [
              "<Figure size 432x288 with 2 Axes>"
            ]
          },
          "metadata": {
            "tags": [],
            "needs_background": "light"
          }
        }
      ]
    },
    {
      "cell_type": "code",
      "metadata": {
        "colab": {
          "base_uri": "https://localhost:8080/",
          "height": 265
        },
        "id": "n14cRTMnCl8K",
        "outputId": "1b2d7915-71ea-4bff-875c-21d3631402b1"
      },
      "source": [
        "import matplotlib.pyplot as plt\r\n",
        "import numpy as np\r\n",
        "\r\n",
        "x = np.array([\"A\",\"B\",\"C\",\"D\"])\r\n",
        "y = np.array([23,15,25,20])\r\n",
        "\r\n",
        "plt.bar(x,y)\r\n",
        "plt.show()"
      ],
      "execution_count": null,
      "outputs": [
        {
          "output_type": "display_data",
          "data": {
            "image/png": "[encoded data removed]",
            "text/plain": [
              "<Figure size 432x288 with 1 Axes>"
            ]
          },
          "metadata": {
            "tags": [],
            "needs_background": "light"
          }
        }
      ]
    },
    {
      "cell_type": "code",
      "metadata": {
        "colab": {
          "base_uri": "https://localhost:8080/",
          "height": 265
        },
        "id": "FwTRBfV0D1k7",
        "outputId": "6e95811b-a0e7-4fbc-c880-4cfb7a656d51"
      },
      "source": [
        "import matplotlib.pyplot as plt\r\n",
        "import numpy as np\r\n",
        "\r\n",
        "x = np.array([\"A\",\"B\",\"C\",\"D\"])\r\n",
        "y = np.array([23,15,25,20])\r\n",
        "\r\n",
        "plt.bar(x,y, width=0.5)\r\n",
        "plt.show()"
      ],
      "execution_count": null,
      "outputs": [
        {
          "output_type": "display_data",
          "data": {
            "image/png": "[encoded data removed]",
            "text/plain": [
              "<Figure size 432x288 with 1 Axes>"
            ]
          },
          "metadata": {
            "tags": [],
            "needs_background": "light"
          }
        }
      ]
    },
    {
      "cell_type": "code",
      "metadata": {
        "colab": {
          "base_uri": "https://localhost:8080/",
          "height": 265
        },
        "id": "S4dIFV8wFDzo",
        "outputId": "18bbc248-6f06-473b-bb51-d11d88148960"
      },
      "source": [
        "import matplotlib.pyplot as plt\r\n",
        "import numpy as np\r\n",
        "\r\n",
        "x = np.array([\"A\",\"B\",\"C\",\"D\"])\r\n",
        "y = np.array([23,15,25,20])\r\n",
        "\r\n",
        "plt.barh(x,y)\r\n",
        "plt.show()"
      ],
      "execution_count": null,
      "outputs": [
        {
          "output_type": "display_data",
          "data": {
            "image/png": "[encoded data removed]",
            "text/plain": [
              "<Figure size 432x288 with 1 Axes>"
            ]
          },
          "metadata": {
            "tags": [],
            "needs_background": "light"
          }
        }
      ]
    },
    {
      "cell_type": "code",
      "metadata": {
        "colab": {
          "base_uri": "https://localhost:8080/",
          "height": 265
        },
        "id": "pbSKMzIIFSfN",
        "outputId": "41cf9f30-2848-46cf-fbb9-008253de1d2b"
      },
      "source": [
        "import matplotlib.pyplot as plt\r\n",
        "import numpy as np\r\n",
        "\r\n",
        "x = np.array([\"A\",\"B\",\"C\",\"D\"])\r\n",
        "y = np.array([23,15,25,20])\r\n",
        "\r\n",
        "plt.barh(x,y, height=0.3)\r\n",
        "plt.show()"
      ],
      "execution_count": null,
      "outputs": [
        {
          "output_type": "display_data",
          "data": {
            "image/png": "[encoded data removed]",
            "text/plain": [
              "<Figure size 432x288 with 1 Axes>"
            ]
          },
          "metadata": {
            "tags": [],
            "needs_background": "light"
          }
        }
      ]
    },
    {
      "cell_type": "code",
      "metadata": {
        "colab": {
          "base_uri": "https://localhost:8080/",
          "height": 265
        },
        "id": "mN94wxDiFgOv",
        "outputId": "a0ac464d-0a37-4c70-c337-01c50e8a6fc8"
      },
      "source": [
        "import matplotlib.pyplot as plt\r\n",
        "import numpy as np\r\n",
        "\r\n",
        "x = np.array([\"A\",\"B\",\"C\",\"D\"])\r\n",
        "y = np.array([23,15,25,20])\r\n",
        "\r\n",
        "plt.bar(x,y,color = 'red')\r\n",
        "plt.show()"
      ],
      "execution_count": null,
      "outputs": [
        {
          "output_type": "display_data",
          "data": {
            "image/png": "[encoded data removed]",
            "text/plain": [
              "<Figure size 432x288 with 1 Axes>"
            ]
          },
          "metadata": {
            "tags": [],
            "needs_background": "light"
          }
        }
      ]
    },
    {
      "cell_type": "code",
      "metadata": {
        "id": "eMzzwalYFo7F"
      },
      "source": [
        "import matplotlib.pyplot as plt\r\n",
        "import numpy as np\r\n",
        "\r\n",
        "x = np.random"
      ],
      "execution_count": null,
      "outputs": []
    },
    {
      "cell_type": "code",
      "metadata": {
        "colab": {
          "base_uri": "https://localhost:8080/",
          "height": 248
        },
        "id": "rUDJe5g6GRJM",
        "outputId": "9cff14e9-e2f2-4108-ac0c-96c7231a8f02"
      },
      "source": [
        "import matplotlib.pyplot as plt\r\n",
        "import numpy as np\r\n",
        "\r\n",
        "y = np.array([10,35,46,30])\r\n",
        "\r\n",
        "plt.pie(y)\r\n",
        "plt.show()"
      ],
      "execution_count": null,
      "outputs": [
        {
          "output_type": "display_data",
          "data": {
            "image/png": "[encoded data removed]",
            "text/plain": [
              "<Figure size 432x288 with 1 Axes>"
            ]
          },
          "metadata": {
            "tags": []
          }
        }
      ]
    },
    {
      "cell_type": "code",
      "metadata": {
        "colab": {
          "base_uri": "https://localhost:8080/",
          "height": 248
        },
        "id": "womQrjuBHEPz",
        "outputId": "d2a61ac9-84f9-42a8-a6cc-81b83fef9c86"
      },
      "source": [
        "import matplotlib.pyplot as plt\r\n",
        "import numpy as np\r\n",
        "\r\n",
        "y = np.array([35,25,25,15])\r\n",
        "mylables = ['Mansi','Rajath','Ramesh','Varsha']\r\n",
        "\r\n",
        "myexplode = [0.2,0,0,0]\r\n",
        "\r\n",
        "plt.pie(y, labels= mylables,explode=myexplode,shadow= True)\r\n",
        "plt.legend(title='Student Names:')\r\n",
        "plt.show()"
      ],
      "execution_count": null,
      "outputs": [
        {
          "output_type": "display_data",
          "data": {
            "image/png": "[encoded data removed]",
            "text/plain": [
              "<Figure size 432x288 with 1 Axes>"
            ]
          },
          "metadata": {
            "tags": []
          }
        }
      ]
    },
    {
      "cell_type": "code",
      "metadata": {
        "id": "i3zvk2NMrmMD"
      },
      "source": [
        ""
      ],
      "execution_count": null,
      "outputs": []
    }
  ]
}