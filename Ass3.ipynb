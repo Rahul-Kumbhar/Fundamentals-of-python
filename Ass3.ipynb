{
  "nbformat": 4,
  "nbformat_minor": 0,
  "metadata": {
    "colab": {
      "name": "Ass3.ipynb",
      "provenance": [],
      "collapsed_sections": [
        "-GQWe8EOXWRz",
        "0E31Yc0xXrza",
        "Rt7MBIUZY394",
        "iIEUkNUtnxTN",
        "9EhFn-6wpwWZ",
        "edECUTmDra0w"
      ],
      "toc_visible": true
    },
    "kernelspec": {
      "name": "python3",
      "display_name": "Python 3"
    }
  },
  "cells": [
    {
      "cell_type": "code",
      "metadata": {
        "id": "29kM0PL0ggOm"
      },
      "source": [
        ""
      ],
      "execution_count": null,
      "outputs": []
    },
    {
      "cell_type": "markdown",
      "metadata": {
        "id": "YyCfKoszXGTW"
      },
      "source": [
        "# Linear Regression from Scratch!"
      ]
    },
    {
      "cell_type": "markdown",
      "metadata": {
        "id": "-GQWe8EOXWRz"
      },
      "source": [
        "### Let's first create our loss function\n",
        "![alt text](https://miro.medium.com/max/868/1*1g7XNjpxE92xo-jKxS4uow.png)"
      ]
    },
    {
      "cell_type": "code",
      "metadata": {
        "id": "N1_twfN6XKI_"
      },
      "source": [
        "# Our cost function\n",
        "def cost_function(m, b, x, y):\n",
        "    totalError = 0\n",
        "    for i in range(0, len(x)):\n",
        "        totalError += (y[i]-(m*x[i]+b))**2\n",
        "    return totalError/float(len(x))"
      ],
      "execution_count": 95,
      "outputs": []
    },
    {
      "cell_type": "code",
      "metadata": {
        "id": "NAnX97AbXMHI"
      },
      "source": [
        "# Implementation of the gradient descent algorithm\n",
        "def gradient_descent(b, m, x, y, learning_rate, num_iterations):\n",
        "    N = float(len(x))\n",
        "    # repeat for num_iterations\n",
        "    for j in range(num_iterations): \n",
        "        b_gradient = 0\n",
        "        m_gradient = 0\n",
        "        for i in range(0, len(x)):\n",
        "            b_gradient += -(2/N) * (y[i] - ((m * x[i]) + b))\n",
        "            m_gradient += -(2/N) * x[i] * (y[i] - ((m * x[i]) + b))\n",
        "        b -= (learning_rate * b_gradient)\n",
        "        m -= (learning_rate * m_gradient)\n",
        "        # Every 100  iterations we print our error \n",
        "        if j%100==0:\n",
        "            print(\"MSE after \" + str(j) + \" iterations: \" + str(cost_function(m, b, x, y)))\n",
        "    return [b, m]"
      ],
      "execution_count": 96,
      "outputs": []
    },
    {
      "cell_type": "markdown",
      "metadata": {
        "id": "0E31Yc0xXrza"
      },
      "source": [
        "### Let's test our Linear Regression algorithm on some test data"
      ]
    },
    {
      "cell_type": "code",
      "metadata": {
        "id": "mNcqg88RXNRJ",
        "colab": {
          "base_uri": "https://localhost:8080/",
          "height": 0
        },
        "outputId": "6678c872-9704-488a-d324-f4bc36a48e87"
      },
      "source": [
        "import numpy as np\n",
        "import matplotlib.pyplot as plt\n",
        "\n",
        "# Let's create a some randon data using linspace\n",
        "x = np.linspace(0, 100, 50) # creates a range of 50 numbers evenly spaced between 0 and 100\n",
        "delta = np.random.uniform(-10, 10, x.size)\n",
        "y = 0.5*x + 3 + delta\n",
        "\n",
        "plt.scatter(x, y)"
      ],
      "execution_count": 92,
      "outputs": [
        {
          "output_type": "execute_result",
          "data": {
            "text/plain": [
              "<matplotlib.collections.PathCollection at 0x7f5705d1ba58>"
            ]
          },
          "metadata": {
            "tags": []
          },
          "execution_count": 92
        },
        {
          "output_type": "display_data",
          "data": {
            "image/png": "[encoded data removed]",
            "text/plain": [
              "<Figure size 432x288 with 1 Axes>"
            ]
          },
          "metadata": {
            "tags": [],
            "needs_background": "light"
          }
        }
      ]
    },
    {
      "cell_type": "code",
      "metadata": {
        "id": "M3XgFChgXOZL",
        "colab": {
          "base_uri": "https://localhost:8080/"
        },
        "outputId": "a697437f-5622-4285-ba83-5a8f3d5cb8f5"
      },
      "source": [
        "# Defining our learning rate\n",
        "learning_rate = 0.0001\n",
        "\n",
        "# defining our initial values of b and m\n",
        "initial_b = 0\n",
        "initial_m = 0\n",
        "\n",
        "# Setting how many iterations we wish to run\n",
        "num_iterations= 1000\n",
        "\n",
        "print('Initial MSE:', cost_function(initial_m, initial_b, x, y))\n",
        "[b, m] = gradient_descent(initial_b, initial_m, x, y, learning_rate, num_iterations)\n",
        "print('b:', b)\n",
        "print('m:', m)\n",
        "print('MSE:', cost_function(m, b, x, y))"
      ],
      "execution_count": 93,
      "outputs": [
        {
          "output_type": "stream",
          "text": [
            "Initial MSE: 1077.187512332994\n",
            "MSE after 0 iterations: 140.4059478498568\n",
            "MSE after 100 iterations: 28.703111743429446\n",
            "MSE after 200 iterations: 28.68898664429466\n",
            "MSE after 300 iterations: 28.675006301301256\n",
            "MSE after 400 iterations: 28.66116923096653\n",
            "MSE after 500 iterations: 28.64747396501069\n",
            "MSE after 600 iterations: 28.63391905020114\n",
            "MSE after 700 iterations: 28.620503048198213\n",
            "MSE after 800 iterations: 28.60722453540255\n",
            "MSE after 900 iterations: 28.594082102804087\n",
            "b: 0.12501733797963654\n",
            "m: 0.5561433779777506\n",
            "MSE: 28.58120377115227\n"
          ],
          "name": "stdout"
        }
      ]
    },
    {
      "cell_type": "code",
      "metadata": {
        "id": "XZyH8YgCXQKj",
        "colab": {
          "base_uri": "https://localhost:8080/",
          "height": 0
        },
        "outputId": "10b52d25-883b-479d-bcd7-515bb85b30d0"
      },
      "source": [
        "predictions = [(m * x[i]) + b for i in range(len(x))]\n",
        "plt.scatter(x, y)\n",
        "plt.plot(x, predictions, color='r')"
      ],
      "execution_count": 94,
      "outputs": [
        {
          "output_type": "execute_result",
          "data": {
            "text/plain": [
              "[<matplotlib.lines.Line2D at 0x7f5705de8f60>]"
            ]
          },
          "metadata": {
            "tags": []
          },
          "execution_count": 94
        },
        {
          "output_type": "display_data",
          "data": {
            "image/png": "[encoded data removed]",
            "text/plain": [
              "<Figure size 432x288 with 1 Axes>"
            ]
          },
          "metadata": {
            "tags": [],
            "needs_background": "light"
          }
        }
      ]
    },
    {
      "cell_type": "markdown",
      "metadata": {
        "id": "Rt7MBIUZY394"
      },
      "source": [
        "# Let's use Sk Learn's Linear Regression model"
      ]
    },
    {
      "cell_type": "code",
      "metadata": {
        "id": "Kq-y5AaW_7D8",
        "colab": {
          "base_uri": "https://localhost:8080/"
        },
        "outputId": "318eec5b-860c-489f-b330-94d49d213425"
      },
      "source": [
        "import numpy as np\n",
        "from sklearn.linear_model import LinearRegression\n",
        "# Let's change the shape of x array to the format expected by sklearn\n",
        "print(x.shape)\n",
        "x = x.reshape((-1, 1))\n",
        "print(x.shape)"
      ],
      "execution_count": 105,
      "outputs": [
        {
          "output_type": "stream",
          "text": [
            "(50, 1)\n",
            "(50, 1)\n"
          ],
          "name": "stdout"
        }
      ]
    },
    {
      "cell_type": "code",
      "metadata": {
        "id": "PVC7TCsIZCU5",
        "colab": {
          "base_uri": "https://localhost:8080/"
        },
        "outputId": "6a15178c-9b01-44c8-8ad0-babab7723879"
      },
      "source": [
        "# Let's create the model object using LinearRegression\n",
        "model = LinearRegression()\n",
        "\n",
        "# Fit our model to our input data x and y\n",
        "model.fit(x, y)"
      ],
      "execution_count": 106,
      "outputs": [
        {
          "output_type": "execute_result",
          "data": {
            "text/plain": [
              "LinearRegression(copy_X=True, fit_intercept=True, n_jobs=None, normalize=False)"
            ]
          },
          "metadata": {
            "tags": []
          },
          "execution_count": 106
        }
      ]
    },
    {
      "cell_type": "code",
      "metadata": {
        "id": "pm7sj82pXRQB",
        "colab": {
          "base_uri": "https://localhost:8080/"
        },
        "outputId": "9f60da8c-dc2c-4b01-835f-201546ab385a"
      },
      "source": [
        "# Get our model paramters\n",
        "print('Y Intercept:', model.intercept_) #b\n",
        "print('Gradient:', model.coef_) #m"
      ],
      "execution_count": 107,
      "outputs": [
        {
          "output_type": "stream",
          "text": [
            "Y Intercept: 2.3335881393441795\n",
            "Gradient: [0.52334694]\n"
          ],
          "name": "stdout"
        }
      ]
    },
    {
      "cell_type": "code",
      "metadata": {
        "id": "9o3jcn24B3X-",
        "colab": {
          "base_uri": "https://localhost:8080/"
        },
        "outputId": "06fc328f-d594-4166-b363-843afe6dbe8f"
      },
      "source": [
        "print('Y Intercept:', b)\n",
        "print('Gradient:', m)"
      ],
      "execution_count": 108,
      "outputs": [
        {
          "output_type": "stream",
          "text": [
            "Y Intercept: 0.12501733797963654\n",
            "Gradient: 0.5561433779777506\n"
          ],
          "name": "stdout"
        }
      ]
    },
    {
      "cell_type": "code",
      "metadata": {
        "id": "-QdyYmqKZzzn"
      },
      "source": [
        "# Store all predictions in y_pred\n",
        "\n",
        "y_pred = model.predict(x)"
      ],
      "execution_count": 109,
      "outputs": []
    },
    {
      "cell_type": "code",
      "metadata": {
        "id": "jjCBNOBfCH5M",
        "colab": {
          "base_uri": "https://localhost:8080/"
        },
        "outputId": "5a0e1a76-d5ba-4881-ddd1-d2beec99e2b7"
      },
      "source": [
        "y"
      ],
      "execution_count": 110,
      "outputs": [
        {
          "output_type": "execute_result",
          "data": {
            "text/plain": [
              "array([ 8.95893261, -5.19865471,  6.67547736,  6.44750254, -2.75652793,\n",
              "       -0.98476412, 18.49422327, 17.14933487,  8.51831076, 17.0435934 ,\n",
              "        4.91255859, 16.54877854, 19.70567379, 13.23428855, 13.18412046,\n",
              "       24.50591013, 16.72471703, 13.70306136, 24.99740313, 28.05181709,\n",
              "       18.33337607, 16.9831295 , 20.76325652, 29.30627133, 23.82856467,\n",
              "       31.82514591, 29.89873923, 36.47956811, 27.36184644, 40.1019864 ,\n",
              "       38.02587464, 39.75732224, 41.13716285, 46.41713643, 37.45569139,\n",
              "       37.20887719, 45.30499382, 46.54410619, 43.48345688, 44.33480049,\n",
              "       42.98123287, 54.06188403, 40.04078466, 41.03441185, 50.37423583,\n",
              "       51.99342117, 46.49556492, 51.75812609, 49.21366574, 52.62636621])"
            ]
          },
          "metadata": {
            "tags": []
          },
          "execution_count": 110
        }
      ]
    },
    {
      "cell_type": "code",
      "metadata": {
        "id": "6KO1BykPZTgL",
        "colab": {
          "base_uri": "https://localhost:8080/",
          "height": 0
        },
        "outputId": "a2c06360-fc0a-4a11-b072-c753f2d04a2a"
      },
      "source": [
        "plt.scatter(x, y)\n",
        "plt.plot(x, y_pred, color='r')"
      ],
      "execution_count": 111,
      "outputs": [
        {
          "output_type": "execute_result",
          "data": {
            "text/plain": [
              "[<matplotlib.lines.Line2D at 0x7f5705c161d0>]"
            ]
          },
          "metadata": {
            "tags": []
          },
          "execution_count": 111
        },
        {
          "output_type": "display_data",
          "data": {
            "image/png": "[encoded data removed]",
            "text/plain": [
              "<Figure size 432x288 with 1 Axes>"
            ]
          },
          "metadata": {
            "tags": [],
            "needs_background": "light"
          }
        }
      ]
    },
    {
      "cell_type": "code",
      "metadata": {
        "id": "i8-4fnynaEO7",
        "colab": {
          "base_uri": "https://localhost:8080/"
        },
        "outputId": "1f75d72c-0577-45f9-b2ae-d5aab84ec7cc"
      },
      "source": [
        "from sklearn.metrics import mean_squared_error \n",
        "\n",
        "print(\"Mean squared error: %.2f\" % mean_squared_error(y, y_pred))"
      ],
      "execution_count": 112,
      "outputs": [
        {
          "output_type": "stream",
          "text": [
            "Mean squared error: 27.32\n"
          ],
          "name": "stdout"
        }
      ]
    },
    {
      "cell_type": "markdown",
      "metadata": {
        "id": "iIEUkNUtnxTN"
      },
      "source": [
        "# Linear Regression on Olympic 100m Gold Times\n",
        "\n",
        "![alt text](https://encrypted-tbn0.gstatic.com/images?q=tbn%3AANd9GcQTrYpw1FCRAqMEsZJRBr30sotdaZvia4NgQAWiJEuK13DAgnsZ)"
      ]
    },
    {
      "cell_type": "code",
      "metadata": {
        "id": "LDUSTJNYa4SS",
        "colab": {
          "base_uri": "https://localhost:8080/",
          "height": 0
        },
        "outputId": "fb3b2892-5dd0-409c-fe7e-9b352220a48c"
      },
      "source": [
        "import pandas as pd\n",
        "import numpy as np\n",
        "import seaborn as sns\n",
        "import matplotlib.pyplot as plt\n",
        "\n",
        "file_name = \"/content/olympic100m.csv\"\n",
        "df = pd.read_csv(file_name)\n",
        "df.tail(5)"
      ],
      "execution_count": 83,
      "outputs": [
        {
          "output_type": "execute_result",
          "data": {
            "text/html": [
              "<div>\n",
              "<style scoped>\n",
              "    .dataframe tbody tr th:only-of-type {\n",
              "        vertical-align: middle;\n",
              "    }\n",
              "\n",
              "    .dataframe tbody tr th {\n",
              "        vertical-align: top;\n",
              "    }\n",
              "\n",
              "    .dataframe thead th {\n",
              "        text-align: right;\n",
              "    }\n",
              "</style>\n",
              "<table border=\"1\" class=\"dataframe\">\n",
              "  <thead>\n",
              "    <tr style=\"text-align: right;\">\n",
              "      <th></th>\n",
              "      <th>year</th>\n",
              "      <th>time</th>\n",
              "    </tr>\n",
              "  </thead>\n",
              "  <tbody>\n",
              "    <tr>\n",
              "      <th>24</th>\n",
              "      <td>2000</td>\n",
              "      <td>9.87</td>\n",
              "    </tr>\n",
              "    <tr>\n",
              "      <th>25</th>\n",
              "      <td>2004</td>\n",
              "      <td>9.85</td>\n",
              "    </tr>\n",
              "    <tr>\n",
              "      <th>26</th>\n",
              "      <td>2008</td>\n",
              "      <td>9.69</td>\n",
              "    </tr>\n",
              "    <tr>\n",
              "      <th>27</th>\n",
              "      <td>2012</td>\n",
              "      <td>9.63</td>\n",
              "    </tr>\n",
              "    <tr>\n",
              "      <th>28</th>\n",
              "      <td>2016</td>\n",
              "      <td>9.81</td>\n",
              "    </tr>\n",
              "  </tbody>\n",
              "</table>\n",
              "</div>"
            ],
            "text/plain": [
              "    year  time\n",
              "24  2000  9.87\n",
              "25  2004  9.85\n",
              "26  2008  9.69\n",
              "27  2012  9.63\n",
              "28  2016  9.81"
            ]
          },
          "metadata": {
            "tags": []
          },
          "execution_count": 83
        }
      ]
    },
    {
      "cell_type": "code",
      "metadata": {
        "id": "MxhWp6BLnwei",
        "colab": {
          "base_uri": "https://localhost:8080/"
        },
        "outputId": "425ebd3d-d21c-482a-a882-d66e90b3c3f3"
      },
      "source": [
        "# Format data into correct shape\n",
        "x = df['year']\n",
        "x_train = np.array(x).reshape((-1, 1))\n",
        "x_train.shape"
      ],
      "execution_count": 84,
      "outputs": [
        {
          "output_type": "execute_result",
          "data": {
            "text/plain": [
              "(29, 1)"
            ]
          },
          "metadata": {
            "tags": []
          },
          "execution_count": 84
        }
      ]
    },
    {
      "cell_type": "code",
      "metadata": {
        "id": "ABcvFsPYodnn"
      },
      "source": [
        "y_train = np.array(df['time'])"
      ],
      "execution_count": 85,
      "outputs": []
    },
    {
      "cell_type": "code",
      "metadata": {
        "id": "pgbw5xh2CuwD",
        "colab": {
          "base_uri": "https://localhost:8080/"
        },
        "outputId": "eb005c0e-f12d-4f91-93ac-63ffcbfe08ce"
      },
      "source": [
        "y_train.shape"
      ],
      "execution_count": 86,
      "outputs": [
        {
          "output_type": "execute_result",
          "data": {
            "text/plain": [
              "(29,)"
            ]
          },
          "metadata": {
            "tags": []
          },
          "execution_count": 86
        }
      ]
    },
    {
      "cell_type": "code",
      "metadata": {
        "id": "ik9NQ1N5oHsZ",
        "colab": {
          "base_uri": "https://localhost:8080/",
          "height": 0
        },
        "outputId": "2b8c4e59-208d-45df-fbd0-d039f582b6bd"
      },
      "source": [
        "import numpy as np\n",
        "from sklearn.linear_model import LinearRegression\n",
        "\n",
        "# Let's create the model object using LinearRegression\n",
        "model = LinearRegression()\n",
        "\n",
        "# Fit our model to our input data x and y\n",
        "model.fit(x_train, y_train)\n",
        "\n",
        "y_pred = model.predict(x_train)\n",
        "plt.scatter(x_train, y_train)\n",
        "plt.plot(x, y_pred, color='r')"
      ],
      "execution_count": 87,
      "outputs": [
        {
          "output_type": "execute_result",
          "data": {
            "text/plain": [
              "[<matplotlib.lines.Line2D at 0x7f5708186240>]"
            ]
          },
          "metadata": {
            "tags": []
          },
          "execution_count": 87
        },
        {
          "output_type": "display_data",
          "data": {
            "image/png": "[encoded data removed]",
            "text/plain": [
              "<Figure size 432x288 with 1 Axes>"
            ]
          },
          "metadata": {
            "tags": [],
            "needs_background": "light"
          }
        }
      ]
    },
    {
      "cell_type": "code",
      "metadata": {
        "id": "7qUmxJZuommJ",
        "colab": {
          "base_uri": "https://localhost:8080/"
        },
        "outputId": "b5ac0a58-6982-4541-8730-d6228f98ee38"
      },
      "source": [
        "# Predict for 2020 Olympics\n",
        "\n",
        "x_2020 = np.array([2020]).reshape(-1, 1)\n",
        "x_2020.shape"
      ],
      "execution_count": 88,
      "outputs": [
        {
          "output_type": "execute_result",
          "data": {
            "text/plain": [
              "(1, 1)"
            ]
          },
          "metadata": {
            "tags": []
          },
          "execution_count": 88
        }
      ]
    },
    {
      "cell_type": "code",
      "metadata": {
        "id": "TYdej89cDE4H",
        "colab": {
          "base_uri": "https://localhost:8080/"
        },
        "outputId": "4483a096-ae01-48bc-9769-4f2e7244fced"
      },
      "source": [
        "model.predict(x_2020)"
      ],
      "execution_count": 89,
      "outputs": [
        {
          "output_type": "execute_result",
          "data": {
            "text/plain": [
              "array([9.52679525])"
            ]
          },
          "metadata": {
            "tags": []
          },
          "execution_count": 89
        }
      ]
    },
    {
      "cell_type": "markdown",
      "metadata": {
        "id": "9EhFn-6wpwWZ"
      },
      "source": [
        "# Polynomial Regressions"
      ]
    },
    {
      "cell_type": "code",
      "metadata": {
        "id": "bUUJLEIdpyLS",
        "colab": {
          "base_uri": "https://localhost:8080/",
          "height": 0
        },
        "outputId": "544fd66e-9ded-4792-8337-66569e0842a2"
      },
      "source": [
        "# Importing the libraries \n",
        "import numpy as np \n",
        "import matplotlib.pyplot as plt \n",
        "import pandas as pd \n",
        "  \n",
        "# Importing the dataset \n",
        "file_name = \"/content/polylinearregression.csv\"\n",
        "df = pd.read_csv(file_name)\n",
        "df.head(7)"
      ],
      "execution_count": 78,
      "outputs": [
        {
          "output_type": "execute_result",
          "data": {
            "text/html": [
              "<div>\n",
              "<style scoped>\n",
              "    .dataframe tbody tr th:only-of-type {\n",
              "        vertical-align: middle;\n",
              "    }\n",
              "\n",
              "    .dataframe tbody tr th {\n",
              "        vertical-align: top;\n",
              "    }\n",
              "\n",
              "    .dataframe thead th {\n",
              "        text-align: right;\n",
              "    }\n",
              "</style>\n",
              "<table border=\"1\" class=\"dataframe\">\n",
              "  <thead>\n",
              "    <tr style=\"text-align: right;\">\n",
              "      <th></th>\n",
              "      <th>sno</th>\n",
              "      <th>Temperature</th>\n",
              "      <th>Pressure</th>\n",
              "    </tr>\n",
              "  </thead>\n",
              "  <tbody>\n",
              "    <tr>\n",
              "      <th>0</th>\n",
              "      <td>1</td>\n",
              "      <td>0</td>\n",
              "      <td>0.0002</td>\n",
              "    </tr>\n",
              "    <tr>\n",
              "      <th>1</th>\n",
              "      <td>2</td>\n",
              "      <td>20</td>\n",
              "      <td>0.0012</td>\n",
              "    </tr>\n",
              "    <tr>\n",
              "      <th>2</th>\n",
              "      <td>3</td>\n",
              "      <td>40</td>\n",
              "      <td>0.0060</td>\n",
              "    </tr>\n",
              "    <tr>\n",
              "      <th>3</th>\n",
              "      <td>4</td>\n",
              "      <td>60</td>\n",
              "      <td>0.0300</td>\n",
              "    </tr>\n",
              "    <tr>\n",
              "      <th>4</th>\n",
              "      <td>5</td>\n",
              "      <td>80</td>\n",
              "      <td>0.0900</td>\n",
              "    </tr>\n",
              "    <tr>\n",
              "      <th>5</th>\n",
              "      <td>6</td>\n",
              "      <td>100</td>\n",
              "      <td>0.2700</td>\n",
              "    </tr>\n",
              "  </tbody>\n",
              "</table>\n",
              "</div>"
            ],
            "text/plain": [
              "   sno  Temperature  Pressure\n",
              "0    1            0    0.0002\n",
              "1    2           20    0.0012\n",
              "2    3           40    0.0060\n",
              "3    4           60    0.0300\n",
              "4    5           80    0.0900\n",
              "5    6          100    0.2700"
            ]
          },
          "metadata": {
            "tags": []
          },
          "execution_count": 78
        }
      ]
    },
    {
      "cell_type": "code",
      "metadata": {
        "id": "INW0aIQioz89"
      },
      "source": [
        "# Extract our x values, the column Temperature\n",
        "x = df.iloc[:, 1:2].values \n",
        "\n",
        "# Extract our y or target variable Pressure\n",
        "y = df.iloc[:, 2].values "
      ],
      "execution_count": 79,
      "outputs": []
    },
    {
      "cell_type": "code",
      "metadata": {
        "id": "GQH_IywSGeBR",
        "colab": {
          "base_uri": "https://localhost:8080/"
        },
        "outputId": "ea4154cf-fc7c-4fd3-a563-9fbef77be465"
      },
      "source": [
        "x"
      ],
      "execution_count": 80,
      "outputs": [
        {
          "output_type": "execute_result",
          "data": {
            "text/plain": [
              "array([[  0],\n",
              "       [ 20],\n",
              "       [ 40],\n",
              "       [ 60],\n",
              "       [ 80],\n",
              "       [100]])"
            ]
          },
          "metadata": {
            "tags": []
          },
          "execution_count": 80
        }
      ]
    },
    {
      "cell_type": "code",
      "metadata": {
        "id": "8SIGc1sHqd_-",
        "colab": {
          "base_uri": "https://localhost:8080/"
        },
        "outputId": "b2fe7663-eb46-4b72-c267-40c99f7ebc56"
      },
      "source": [
        "# Fitting Polynomial Regression to the dataset \n",
        "# Fitting the Polynomial Regression model on two components X and y.\n",
        "from sklearn.linear_model import LinearRegression\n",
        "from sklearn.preprocessing import PolynomialFeatures \n",
        "  \n",
        "poly = PolynomialFeatures(degree = 9) \n",
        "model_Poly = poly.fit_transform(x) \n",
        "  \n",
        "lin_poly = LinearRegression() \n",
        "lin_poly.fit(model_Poly, y) "
      ],
      "execution_count": 81,
      "outputs": [
        {
          "output_type": "execute_result",
          "data": {
            "text/plain": [
              "LinearRegression(copy_X=True, fit_intercept=True, n_jobs=None, normalize=False)"
            ]
          },
          "metadata": {
            "tags": []
          },
          "execution_count": 81
        }
      ]
    },
    {
      "cell_type": "code",
      "metadata": {
        "id": "je242pZfq1-d",
        "colab": {
          "base_uri": "https://localhost:8080/",
          "height": 0
        },
        "outputId": "2786548e-7f41-405e-c58e-01370a06f057"
      },
      "source": [
        "# Visualising the Polynomial Regression results \n",
        "plt.scatter(x, y, color = 'blue') \n",
        "  \n",
        "plt.plot(x, lin_poly.predict(model_Poly), color = 'red') \n",
        "plt.title('Polynomial Regression') \n",
        "plt.xlabel('Temperature') \n",
        "plt.ylabel('Pressure') \n",
        "  \n",
        "plt.show() "
      ],
      "execution_count": 82,
      "outputs": [
        {
          "output_type": "display_data",
          "data": {
            "image/png": "[encoded data removed]",
            "text/plain": [
              "<Figure size 432x288 with 1 Axes>"
            ]
          },
          "metadata": {
            "tags": [],
            "needs_background": "light"
          }
        }
      ]
    },
    {
      "cell_type": "markdown",
      "metadata": {
        "id": "edECUTmDra0w"
      },
      "source": [
        "# Multivariate Linear Regression"
      ]
    },
    {
      "cell_type": "code",
      "metadata": {
        "id": "Sy4aoJx8rdHU",
        "colab": {
          "base_uri": "https://localhost:8080/",
          "height": 0
        },
        "outputId": "2fa7775d-b324-4173-fe58-0a9841f2e1c8"
      },
      "source": [
        "# Importing the libraries \n",
        "import numpy as np \n",
        "import matplotlib.pyplot as plt \n",
        "import pandas as pd \n",
        "  \n",
        "# Importing the dataset \n",
        "file_name = \"/content/autompg.csv\"\n",
        "auto_df = pd.read_csv(file_name)\n",
        "auto_df.head()"
      ],
      "execution_count": 67,
      "outputs": [
        {
          "output_type": "execute_result",
          "data": {
            "text/html": [
              "<div>\n",
              "<style scoped>\n",
              "    .dataframe tbody tr th:only-of-type {\n",
              "        vertical-align: middle;\n",
              "    }\n",
              "\n",
              "    .dataframe tbody tr th {\n",
              "        vertical-align: top;\n",
              "    }\n",
              "\n",
              "    .dataframe thead th {\n",
              "        text-align: right;\n",
              "    }\n",
              "</style>\n",
              "<table border=\"1\" class=\"dataframe\">\n",
              "  <thead>\n",
              "    <tr style=\"text-align: right;\">\n",
              "      <th></th>\n",
              "      <th>mpg</th>\n",
              "      <th>cylinders</th>\n",
              "      <th>displacement</th>\n",
              "      <th>horsepower</th>\n",
              "      <th>weight</th>\n",
              "      <th>acceleration</th>\n",
              "      <th>model year</th>\n",
              "      <th>origin</th>\n",
              "      <th>car name</th>\n",
              "    </tr>\n",
              "  </thead>\n",
              "  <tbody>\n",
              "    <tr>\n",
              "      <th>0</th>\n",
              "      <td>18.0</td>\n",
              "      <td>8</td>\n",
              "      <td>307.0</td>\n",
              "      <td>130</td>\n",
              "      <td>3504</td>\n",
              "      <td>12.0</td>\n",
              "      <td>70</td>\n",
              "      <td>1</td>\n",
              "      <td>chevrolet chevelle malibu</td>\n",
              "    </tr>\n",
              "    <tr>\n",
              "      <th>1</th>\n",
              "      <td>15.0</td>\n",
              "      <td>8</td>\n",
              "      <td>350.0</td>\n",
              "      <td>165</td>\n",
              "      <td>3693</td>\n",
              "      <td>11.5</td>\n",
              "      <td>70</td>\n",
              "      <td>1</td>\n",
              "      <td>buick skylark 320</td>\n",
              "    </tr>\n",
              "    <tr>\n",
              "      <th>2</th>\n",
              "      <td>18.0</td>\n",
              "      <td>8</td>\n",
              "      <td>318.0</td>\n",
              "      <td>150</td>\n",
              "      <td>3436</td>\n",
              "      <td>11.0</td>\n",
              "      <td>70</td>\n",
              "      <td>1</td>\n",
              "      <td>plymouth satellite</td>\n",
              "    </tr>\n",
              "    <tr>\n",
              "      <th>3</th>\n",
              "      <td>16.0</td>\n",
              "      <td>8</td>\n",
              "      <td>304.0</td>\n",
              "      <td>150</td>\n",
              "      <td>3433</td>\n",
              "      <td>12.0</td>\n",
              "      <td>70</td>\n",
              "      <td>1</td>\n",
              "      <td>amc rebel sst</td>\n",
              "    </tr>\n",
              "    <tr>\n",
              "      <th>4</th>\n",
              "      <td>17.0</td>\n",
              "      <td>8</td>\n",
              "      <td>302.0</td>\n",
              "      <td>140</td>\n",
              "      <td>3449</td>\n",
              "      <td>10.5</td>\n",
              "      <td>70</td>\n",
              "      <td>1</td>\n",
              "      <td>ford torino</td>\n",
              "    </tr>\n",
              "  </tbody>\n",
              "</table>\n",
              "</div>"
            ],
            "text/plain": [
              "    mpg  cylinders  displacement  ... model year  origin                   car name\n",
              "0  18.0          8         307.0  ...         70       1  chevrolet chevelle malibu\n",
              "1  15.0          8         350.0  ...         70       1          buick skylark 320\n",
              "2  18.0          8         318.0  ...         70       1         plymouth satellite\n",
              "3  16.0          8         304.0  ...         70       1              amc rebel sst\n",
              "4  17.0          8         302.0  ...         70       1                ford torino\n",
              "\n",
              "[5 rows x 9 columns]"
            ]
          },
          "metadata": {
            "tags": []
          },
          "execution_count": 67
        }
      ]
    },
    {
      "cell_type": "code",
      "metadata": {
        "id": "tKF2XaDgKKWW",
        "colab": {
          "base_uri": "https://localhost:8080/",
          "height": 0
        },
        "outputId": "1f870bb3-08a9-454b-ce39-805071fecd75"
      },
      "source": [
        "# Check for the rows that contain \"?\"\n",
        "auto_df[auto_df['horsepower'] == '?']"
      ],
      "execution_count": 68,
      "outputs": [
        {
          "output_type": "execute_result",
          "data": {
            "text/html": [
              "<div>\n",
              "<style scoped>\n",
              "    .dataframe tbody tr th:only-of-type {\n",
              "        vertical-align: middle;\n",
              "    }\n",
              "\n",
              "    .dataframe tbody tr th {\n",
              "        vertical-align: top;\n",
              "    }\n",
              "\n",
              "    .dataframe thead th {\n",
              "        text-align: right;\n",
              "    }\n",
              "</style>\n",
              "<table border=\"1\" class=\"dataframe\">\n",
              "  <thead>\n",
              "    <tr style=\"text-align: right;\">\n",
              "      <th></th>\n",
              "      <th>mpg</th>\n",
              "      <th>cylinders</th>\n",
              "      <th>displacement</th>\n",
              "      <th>horsepower</th>\n",
              "      <th>weight</th>\n",
              "      <th>acceleration</th>\n",
              "      <th>model year</th>\n",
              "      <th>origin</th>\n",
              "      <th>car name</th>\n",
              "    </tr>\n",
              "  </thead>\n",
              "  <tbody>\n",
              "    <tr>\n",
              "      <th>32</th>\n",
              "      <td>25.0</td>\n",
              "      <td>4</td>\n",
              "      <td>98.0</td>\n",
              "      <td>?</td>\n",
              "      <td>2046</td>\n",
              "      <td>19.0</td>\n",
              "      <td>71</td>\n",
              "      <td>1</td>\n",
              "      <td>ford pinto</td>\n",
              "    </tr>\n",
              "    <tr>\n",
              "      <th>123</th>\n",
              "      <td>21.0</td>\n",
              "      <td>6</td>\n",
              "      <td>200.0</td>\n",
              "      <td>?</td>\n",
              "      <td>2875</td>\n",
              "      <td>17.0</td>\n",
              "      <td>74</td>\n",
              "      <td>1</td>\n",
              "      <td>ford maverick</td>\n",
              "    </tr>\n",
              "    <tr>\n",
              "      <th>327</th>\n",
              "      <td>40.9</td>\n",
              "      <td>4</td>\n",
              "      <td>85.0</td>\n",
              "      <td>?</td>\n",
              "      <td>1835</td>\n",
              "      <td>17.3</td>\n",
              "      <td>80</td>\n",
              "      <td>2</td>\n",
              "      <td>renault lecar deluxe</td>\n",
              "    </tr>\n",
              "    <tr>\n",
              "      <th>333</th>\n",
              "      <td>23.6</td>\n",
              "      <td>4</td>\n",
              "      <td>140.0</td>\n",
              "      <td>?</td>\n",
              "      <td>2905</td>\n",
              "      <td>14.3</td>\n",
              "      <td>80</td>\n",
              "      <td>1</td>\n",
              "      <td>ford mustang cobra</td>\n",
              "    </tr>\n",
              "    <tr>\n",
              "      <th>351</th>\n",
              "      <td>34.5</td>\n",
              "      <td>4</td>\n",
              "      <td>100.0</td>\n",
              "      <td>?</td>\n",
              "      <td>2320</td>\n",
              "      <td>15.8</td>\n",
              "      <td>81</td>\n",
              "      <td>2</td>\n",
              "      <td>renault 18i</td>\n",
              "    </tr>\n",
              "    <tr>\n",
              "      <th>371</th>\n",
              "      <td>23.0</td>\n",
              "      <td>4</td>\n",
              "      <td>151.0</td>\n",
              "      <td>?</td>\n",
              "      <td>3035</td>\n",
              "      <td>20.5</td>\n",
              "      <td>82</td>\n",
              "      <td>1</td>\n",
              "      <td>amc concord dl</td>\n",
              "    </tr>\n",
              "  </tbody>\n",
              "</table>\n",
              "</div>"
            ],
            "text/plain": [
              "      mpg  cylinders  displacement  ... model year  origin              car name\n",
              "32   25.0          4          98.0  ...         71       1            ford pinto\n",
              "123  21.0          6         200.0  ...         74       1         ford maverick\n",
              "327  40.9          4          85.0  ...         80       2  renault lecar deluxe\n",
              "333  23.6          4         140.0  ...         80       1    ford mustang cobra\n",
              "351  34.5          4         100.0  ...         81       2           renault 18i\n",
              "371  23.0          4         151.0  ...         82       1        amc concord dl\n",
              "\n",
              "[6 rows x 9 columns]"
            ]
          },
          "metadata": {
            "tags": []
          },
          "execution_count": 68
        }
      ]
    },
    {
      "cell_type": "code",
      "metadata": {
        "id": "E0cRzKJuKkh_"
      },
      "source": [
        "# Get the indexes that have \"?\" instead of numbers\n",
        "indexNames = auto_df[auto_df['horsepower'] == \"?\" ].index\n",
        " \n",
        "# Delete these row indexes from dataFrame\n",
        "auto_df.drop(indexNames , inplace=True)"
      ],
      "execution_count": 69,
      "outputs": []
    },
    {
      "cell_type": "code",
      "metadata": {
        "id": "GgmCaG7_LVPd",
        "colab": {
          "base_uri": "https://localhost:8080/",
          "height": 0
        },
        "outputId": "b559d46d-b058-4a1c-ac59-d02c8876eb06"
      },
      "source": [
        "# Just checking to see if they've been removed\n",
        "auto_df[auto_df['horsepower'] == '?']"
      ],
      "execution_count": 70,
      "outputs": [
        {
          "output_type": "execute_result",
          "data": {
            "text/html": [
              "<div>\n",
              "<style scoped>\n",
              "    .dataframe tbody tr th:only-of-type {\n",
              "        vertical-align: middle;\n",
              "    }\n",
              "\n",
              "    .dataframe tbody tr th {\n",
              "        vertical-align: top;\n",
              "    }\n",
              "\n",
              "    .dataframe thead th {\n",
              "        text-align: right;\n",
              "    }\n",
              "</style>\n",
              "<table border=\"1\" class=\"dataframe\">\n",
              "  <thead>\n",
              "    <tr style=\"text-align: right;\">\n",
              "      <th></th>\n",
              "      <th>mpg</th>\n",
              "      <th>cylinders</th>\n",
              "      <th>displacement</th>\n",
              "      <th>horsepower</th>\n",
              "      <th>weight</th>\n",
              "      <th>acceleration</th>\n",
              "      <th>model year</th>\n",
              "      <th>origin</th>\n",
              "      <th>car name</th>\n",
              "    </tr>\n",
              "  </thead>\n",
              "  <tbody>\n",
              "  </tbody>\n",
              "</table>\n",
              "</div>"
            ],
            "text/plain": [
              "Empty DataFrame\n",
              "Columns: [mpg, cylinders, displacement, horsepower, weight, acceleration, model year, origin, car name]\n",
              "Index: []"
            ]
          },
          "metadata": {
            "tags": []
          },
          "execution_count": 70
        }
      ]
    },
    {
      "cell_type": "code",
      "metadata": {
        "id": "WTaTt_GaUToo"
      },
      "source": [
        "auto_df['horsepower'] = auto_df['horsepower'].astype(float)"
      ],
      "execution_count": 71,
      "outputs": []
    },
    {
      "cell_type": "code",
      "metadata": {
        "id": "oAn6n5OiUd-x",
        "colab": {
          "base_uri": "https://localhost:8080/"
        },
        "outputId": "f619e802-a725-4ef8-9590-640347540290"
      },
      "source": [
        "auto_df.info()"
      ],
      "execution_count": 72,
      "outputs": [
        {
          "output_type": "stream",
          "text": [
            "<class 'pandas.core.frame.DataFrame'>\n",
            "Int64Index: 389 entries, 0 to 394\n",
            "Data columns (total 9 columns):\n",
            " #   Column        Non-Null Count  Dtype  \n",
            "---  ------        --------------  -----  \n",
            " 0   mpg           389 non-null    float64\n",
            " 1   cylinders     389 non-null    int64  \n",
            " 2   displacement  389 non-null    float64\n",
            " 3   horsepower    389 non-null    float64\n",
            " 4   weight        389 non-null    int64  \n",
            " 5   acceleration  389 non-null    float64\n",
            " 6   model year    389 non-null    int64  \n",
            " 7   origin        389 non-null    int64  \n",
            " 8   car name      389 non-null    object \n",
            "dtypes: float64(4), int64(4), object(1)\n",
            "memory usage: 30.4+ KB\n"
          ],
          "name": "stdout"
        }
      ]
    },
    {
      "cell_type": "code",
      "metadata": {
        "id": "MkulGQNgq6Jo"
      },
      "source": [
        "x = auto_df.iloc[:,1:8].values\n",
        "y = auto_df.iloc[:,0].values"
      ],
      "execution_count": 73,
      "outputs": []
    },
    {
      "cell_type": "code",
      "metadata": {
        "id": "OCbUAKEtxcWu",
        "colab": {
          "base_uri": "https://localhost:8080/"
        },
        "outputId": "e854ef8c-42e2-41f9-fbfe-38e45dbb54e0"
      },
      "source": [
        "x.shape"
      ],
      "execution_count": 74,
      "outputs": [
        {
          "output_type": "execute_result",
          "data": {
            "text/plain": [
              "(389, 7)"
            ]
          },
          "metadata": {
            "tags": []
          },
          "execution_count": 74
        }
      ]
    },
    {
      "cell_type": "code",
      "metadata": {
        "id": "l_qHc71QxgBh",
        "colab": {
          "base_uri": "https://localhost:8080/"
        },
        "outputId": "94bfef1f-e219-4e1b-a262-1cbd4a6108e2"
      },
      "source": [
        "from sklearn.model_selection import train_test_split\n",
        "from sklearn.linear_model import LinearRegression\n",
        "from sklearn.metrics import mean_squared_error\n",
        "\n",
        "X_train,X_test,Y_train,Y_test = train_test_split(x,y,test_size=0.3,random_state=0)\n",
        "\n",
        "regressor = LinearRegression()\n",
        "regressor.fit(X_train,Y_train)"
      ],
      "execution_count": 75,
      "outputs": [
        {
          "output_type": "execute_result",
          "data": {
            "text/plain": [
              "LinearRegression(copy_X=True, fit_intercept=True, n_jobs=None, normalize=False)"
            ]
          },
          "metadata": {
            "tags": []
          },
          "execution_count": 75
        }
      ]
    },
    {
      "cell_type": "code",
      "metadata": {
        "id": "4YNAxlW7OYR4"
      },
      "source": [
        "# cylinders\tdisplacement\thorsepower\tweight\tacceleration\tmodel year\torigin\n",
        "\n",
        "# Data for Honda Prelude actual mpg is 24\n",
        "Trial_Data = np.array([8, 220, 195, 3042 , 6.7, 98, 3])\n",
        "Trial_Data = Trial_Data.reshape((-1, 7))\n",
        "Trial_Data = Trial_Data.astype(float)"
      ],
      "execution_count": 76,
      "outputs": []
    },
    {
      "cell_type": "code",
      "metadata": {
        "id": "7gTi12fbTB4I",
        "colab": {
          "base_uri": "https://localhost:8080/"
        },
        "outputId": "d6e51101-7f6b-483c-a6aa-5f8b9808c5fa"
      },
      "source": [
        "regressor.predict(Trial_Data)[0]"
      ],
      "execution_count": 77,
      "outputs": [
        {
          "output_type": "execute_result",
          "data": {
            "text/plain": [
              "38.18699460555594"
            ]
          },
          "metadata": {
            "tags": []
          },
          "execution_count": 77
        }
      ]
    },
    {
      "cell_type": "code",
      "metadata": {
        "id": "DeEq8arnj1W5"
      },
      "source": [
        ""
      ],
      "execution_count": 77,
      "outputs": []
    }
  ]
}