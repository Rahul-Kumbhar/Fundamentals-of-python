{
  "nbformat": 4,
  "nbformat_minor": 0,
  "metadata": {
    "colab": {
      "name": "Rev1.ipynb",
      "provenance": [],
      "collapsed_sections": []
    },
    "kernelspec": {
      "name": "python3",
      "display_name": "Python 3"
    }
  },
  "cells": [
    {
      "cell_type": "code",
      "metadata": {
        "colab": {
          "base_uri": "https://localhost:8080/"
        },
        "id": "S43iGwXksCV1",
        "outputId": "5be8402b-4643-4273-a3a9-dd6c7ae4891d"
      },
      "source": [
        "print('Welcome to the Revision Class of Python')"
      ],
      "execution_count": null,
      "outputs": [
        {
          "output_type": "stream",
          "text": [
            "Welcome to the Revision Class of Python\n"
          ],
          "name": "stdout"
        }
      ]
    },
    {
      "cell_type": "code",
      "metadata": {
        "colab": {
          "base_uri": "https://localhost:8080/"
        },
        "id": "j5enSTSPsevD",
        "outputId": "d3762792-dd39-4587-90ae-21d8dcb86791"
      },
      "source": [
        "print(\"Welcome to the Revision Class of Python\")"
      ],
      "execution_count": null,
      "outputs": [
        {
          "output_type": "stream",
          "text": [
            "Welcome to the Revision Class of Python\n"
          ],
          "name": "stdout"
        }
      ]
    },
    {
      "cell_type": "code",
      "metadata": {
        "colab": {
          "base_uri": "https://localhost:8080/"
        },
        "id": "eXqBGMkpscil",
        "outputId": "afd4cd30-2d42-4246-9fe2-114ce58cacb8"
      },
      "source": [
        "if 5>2:\n",
        "  print(\"Welcome to the Revision Class of Python\")\n",
        "  "
      ],
      "execution_count": null,
      "outputs": [
        {
          "output_type": "stream",
          "text": [
            "Welcome to the Revision Class of Python\n"
          ],
          "name": "stdout"
        }
      ]
    },
    {
      "cell_type": "code",
      "metadata": {
        "id": "LE3vglx2tc2r"
      },
      "source": [
        "if 5>12:\n",
        "  print(\"Welcome to the Revision Class of Python\")\n",
        "  "
      ],
      "execution_count": null,
      "outputs": []
    },
    {
      "cell_type": "code",
      "metadata": {
        "id": "n4m_l-Crs_eB"
      },
      "source": [
        "x=5\n",
        "y='Hello world'"
      ],
      "execution_count": null,
      "outputs": []
    },
    {
      "cell_type": "code",
      "metadata": {
        "colab": {
          "base_uri": "https://localhost:8080/"
        },
        "id": "lwOVKvtptKTV",
        "outputId": "2abb832e-a315-460a-96b9-1e3eb5be2985"
      },
      "source": [
        "x"
      ],
      "execution_count": null,
      "outputs": [
        {
          "output_type": "execute_result",
          "data": {
            "text/plain": [
              "5"
            ]
          },
          "metadata": {
            "tags": []
          },
          "execution_count": 6
        }
      ]
    },
    {
      "cell_type": "code",
      "metadata": {
        "colab": {
          "base_uri": "https://localhost:8080/",
          "height": 35
        },
        "id": "yCRi5NPCtLou",
        "outputId": "5014ae94-e210-4a4a-aeb6-b48c0ea40ea7"
      },
      "source": [
        "y"
      ],
      "execution_count": null,
      "outputs": [
        {
          "output_type": "execute_result",
          "data": {
            "application/vnd.google.colaboratory.intrinsic+json": {
              "type": "string"
            },
            "text/plain": [
              "'Hello world'"
            ]
          },
          "metadata": {
            "tags": []
          },
          "execution_count": 7
        }
      ]
    },
    {
      "cell_type": "code",
      "metadata": {
        "colab": {
          "base_uri": "https://localhost:8080/"
        },
        "id": "49hfezR4tMcb",
        "outputId": "27d62cf7-ca5c-45f6-a8df-736d610d23b6"
      },
      "source": [
        "#This is a comment\n",
        "print(\"Welcome to the Revision Class of Python\")\n"
      ],
      "execution_count": null,
      "outputs": [
        {
          "output_type": "stream",
          "text": [
            "Welcome to the Revision Class of Python\n"
          ],
          "name": "stdout"
        }
      ]
    },
    {
      "cell_type": "code",
      "metadata": {
        "colab": {
          "base_uri": "https://localhost:8080/"
        },
        "id": "6hzh4VhDtuHA",
        "outputId": "89c53084-9a03-4676-a41b-b5e5652f828f"
      },
      "source": [
        "x=7\n",
        "y='Hello world'\n",
        "print(x)\n",
        "print(y)"
      ],
      "execution_count": null,
      "outputs": [
        {
          "output_type": "stream",
          "text": [
            "7\n",
            "Hello world\n"
          ],
          "name": "stdout"
        }
      ]
    },
    {
      "cell_type": "code",
      "metadata": {
        "colab": {
          "base_uri": "https://localhost:8080/"
        },
        "id": "4jpdWt2suBOV",
        "outputId": "cd527654-0bdd-4400-cdeb-313f1c756473"
      },
      "source": [
        "x=7\n",
        "y='Hello world'\n",
        "print(type(x))\n",
        "print(type(y))"
      ],
      "execution_count": null,
      "outputs": [
        {
          "output_type": "stream",
          "text": [
            "<class 'int'>\n",
            "<class 'str'>\n"
          ],
          "name": "stdout"
        }
      ]
    },
    {
      "cell_type": "code",
      "metadata": {
        "colab": {
          "base_uri": "https://localhost:8080/"
        },
        "id": "AXK03p1PuUIx",
        "outputId": "6d368788-aae1-4570-cb7e-5916ab9da3fc"
      },
      "source": [
        "x=87.6\n",
        "y=8j\n",
        "print(type(x))\n",
        "print(type(y))"
      ],
      "execution_count": null,
      "outputs": [
        {
          "output_type": "stream",
          "text": [
            "<class 'float'>\n",
            "<class 'complex'>\n"
          ],
          "name": "stdout"
        }
      ]
    },
    {
      "cell_type": "code",
      "metadata": {
        "colab": {
          "base_uri": "https://localhost:8080/"
        },
        "id": "bRDaJ85-ucO9",
        "outputId": "3c364902-784a-4a26-f613-325efbc69935"
      },
      "source": [
        "x=[\"apple\",\"banana\",\"watermelon\"]\n",
        "y=range(6)\n",
        "print(type(x))\n",
        "print(type(y))"
      ],
      "execution_count": null,
      "outputs": [
        {
          "output_type": "stream",
          "text": [
            "<class 'list'>\n",
            "<class 'range'>\n"
          ],
          "name": "stdout"
        }
      ]
    },
    {
      "cell_type": "code",
      "metadata": {
        "colab": {
          "base_uri": "https://localhost:8080/"
        },
        "id": "qGPDLL8OuuGf",
        "outputId": "ec0eeeee-1544-4675-becb-a440e33a54c5"
      },
      "source": [
        "x=(\"apple\",\"banana\",\"watermelon\")\n",
        "print(type(x))\n"
      ],
      "execution_count": null,
      "outputs": [
        {
          "output_type": "stream",
          "text": [
            "<class 'tuple'>\n"
          ],
          "name": "stdout"
        }
      ]
    },
    {
      "cell_type": "code",
      "metadata": {
        "colab": {
          "base_uri": "https://localhost:8080/"
        },
        "id": "lrjf0gyuu8rz",
        "outputId": "d923a9a3-e376-4835-eef1-6bef00fa012d"
      },
      "source": [
        "x={\"Name\":\"apple\",\"Type\":\"Fruit\"}\n",
        "print(type(x))\n",
        "print(x)"
      ],
      "execution_count": null,
      "outputs": [
        {
          "output_type": "stream",
          "text": [
            "<class 'dict'>\n",
            "{'Name': 'apple', 'Type': 'Fruit'}\n"
          ],
          "name": "stdout"
        }
      ]
    },
    {
      "cell_type": "code",
      "metadata": {
        "colab": {
          "base_uri": "https://localhost:8080/"
        },
        "id": "abzaHIVzvQKp",
        "outputId": "e8ae9cf4-d98a-4a70-d707-5a1689833c58"
      },
      "source": [
        "x=frozenset({\"Name\",\"apple\",\"Orange\",\"Chherry\"})\n",
        "print(x)\n",
        "print(type(x))"
      ],
      "execution_count": null,
      "outputs": [
        {
          "output_type": "stream",
          "text": [
            "frozenset({'Orange', 'Chherry', 'Name', 'apple'})\n",
            "<class 'frozenset'>\n"
          ],
          "name": "stdout"
        }
      ]
    },
    {
      "cell_type": "code",
      "metadata": {
        "colab": {
          "base_uri": "https://localhost:8080/"
        },
        "id": "2GulpNu4vsup",
        "outputId": "e58b10d8-2498-458b-958d-07105245db17"
      },
      "source": [
        "x=True\n",
        "print(x)\n",
        "print(type(x))"
      ],
      "execution_count": null,
      "outputs": [
        {
          "output_type": "stream",
          "text": [
            "True\n",
            "<class 'bool'>\n"
          ],
          "name": "stdout"
        }
      ]
    },
    {
      "cell_type": "code",
      "metadata": {
        "colab": {
          "base_uri": "https://localhost:8080/"
        },
        "id": "9Gff_SM3v6e-",
        "outputId": "e488b5ca-2a7d-459e-8a94-af445ed320cd"
      },
      "source": [
        "x=b\"Hello\"\n",
        "print(x)\n",
        "print(type(x))"
      ],
      "execution_count": null,
      "outputs": [
        {
          "output_type": "stream",
          "text": [
            "b'Hello'\n",
            "<class 'bytes'>\n"
          ],
          "name": "stdout"
        }
      ]
    },
    {
      "cell_type": "code",
      "metadata": {
        "colab": {
          "base_uri": "https://localhost:8080/"
        },
        "id": "lOYNG2jDwJeK",
        "outputId": "e6fbb603-1742-4e5d-cd86-4a287a2b64d9"
      },
      "source": [
        "x=bytearray(5)\n",
        "print(x)\n",
        "print(type(x))"
      ],
      "execution_count": null,
      "outputs": [
        {
          "output_type": "stream",
          "text": [
            "bytearray(b'\\x00\\x00\\x00\\x00\\x00')\n",
            "<class 'bytearray'>\n"
          ],
          "name": "stdout"
        }
      ]
    },
    {
      "cell_type": "code",
      "metadata": {
        "id": "HMaeyJLiwbnB"
      },
      "source": [
        "x=memoryview(bytes(5))"
      ],
      "execution_count": null,
      "outputs": []
    },
    {
      "cell_type": "code",
      "metadata": {
        "colab": {
          "base_uri": "https://localhost:8080/"
        },
        "id": "_0nDC3JiwpQN",
        "outputId": "e54dbc09-7e53-441c-8d2d-954fee175ba7"
      },
      "source": [
        "x"
      ],
      "execution_count": null,
      "outputs": [
        {
          "output_type": "execute_result",
          "data": {
            "text/plain": [
              "<memory at 0x7f50a38584c8>"
            ]
          },
          "metadata": {
            "tags": []
          },
          "execution_count": 26
        }
      ]
    },
    {
      "cell_type": "code",
      "metadata": {
        "id": "N5MlqbYgwp29"
      },
      "source": [
        "x=1 # int\n",
        "y=2.8 #float\n",
        "z=3j # complex"
      ],
      "execution_count": null,
      "outputs": []
    },
    {
      "cell_type": "code",
      "metadata": {
        "colab": {
          "base_uri": "https://localhost:8080/"
        },
        "id": "_ibLzOJ_xRH0",
        "outputId": "2cba9eec-f64b-43d9-aa80-dc796fdf9b47"
      },
      "source": [
        "y"
      ],
      "execution_count": null,
      "outputs": [
        {
          "output_type": "execute_result",
          "data": {
            "text/plain": [
              "2.8"
            ]
          },
          "metadata": {
            "tags": []
          },
          "execution_count": 28
        }
      ]
    },
    {
      "cell_type": "code",
      "metadata": {
        "colab": {
          "base_uri": "https://localhost:8080/"
        },
        "id": "AcxUjzzSxi4c",
        "outputId": "a1843a36-2510-46a5-a02e-d1fc4e2c5b24"
      },
      "source": [
        "type(x)\n",
        "type(y)\n",
        "type(z)"
      ],
      "execution_count": null,
      "outputs": [
        {
          "output_type": "execute_result",
          "data": {
            "text/plain": [
              "complex"
            ]
          },
          "metadata": {
            "tags": []
          },
          "execution_count": 31
        }
      ]
    },
    {
      "cell_type": "code",
      "metadata": {
        "colab": {
          "base_uri": "https://localhost:8080/"
        },
        "id": "wRsqVsRJxRxu",
        "outputId": "62f69ff6-cfec-4869-cfbe-af592ecba1b3"
      },
      "source": [
        "print(type(x))\n",
        "print(type(y))\n",
        "print(type(z))"
      ],
      "execution_count": null,
      "outputs": [
        {
          "output_type": "stream",
          "text": [
            "<class 'int'>\n",
            "<class 'float'>\n",
            "<class 'complex'>\n"
          ],
          "name": "stdout"
        }
      ]
    },
    {
      "cell_type": "code",
      "metadata": {
        "colab": {
          "base_uri": "https://localhost:8080/"
        },
        "id": "eg12dxCFxXuq",
        "outputId": "aa10489a-e3dc-4fc4-bd38-a88f2f38d0b7"
      },
      "source": [
        "x= int(1)\n",
        "y= int(9.6)\n",
        "x= int(\"3\")\n",
        "print(type(x))\n",
        "print(type(y))\n",
        "print(type(z))\n"
      ],
      "execution_count": null,
      "outputs": [
        {
          "output_type": "stream",
          "text": [
            "<class 'int'>\n",
            "<class 'int'>\n",
            "<class 'complex'>\n"
          ],
          "name": "stdout"
        }
      ]
    },
    {
      "cell_type": "code",
      "metadata": {
        "colab": {
          "base_uri": "https://localhost:8080/"
        },
        "id": "UmCzb2wax8tY",
        "outputId": "75ca87d1-9127-4c7a-8253-e202765a528c"
      },
      "source": [
        "x= str(\"PKN\")\n",
        "y =str(9.6)\n",
        "z =str(\"3\")\n",
        "print(type(x))\n",
        "print(type(y))\n",
        "print(type(z))\n"
      ],
      "execution_count": null,
      "outputs": [
        {
          "output_type": "stream",
          "text": [
            "<class 'str'>\n",
            "<class 'str'>\n",
            "<class 'str'>\n"
          ],
          "name": "stdout"
        }
      ]
    },
    {
      "cell_type": "code",
      "metadata": {
        "colab": {
          "base_uri": "https://localhost:8080/"
        },
        "id": "7-xZd-ffyV-T",
        "outputId": "b872120f-ba18-4f2c-ecca-27e3f7922c72"
      },
      "source": [
        "a =\"\"\" adithya has a dought,\n",
        "which is regarding scan,\n",
        "which we need to address,\n",
        "the concept.\"\"\"\n",
        "print(a)"
      ],
      "execution_count": null,
      "outputs": [
        {
          "output_type": "stream",
          "text": [
            " adithya has a dought,\n",
            "which is regarding scan,\n",
            "which we need to address,\n",
            "the concept.\n"
          ],
          "name": "stdout"
        }
      ]
    },
    {
      "cell_type": "code",
      "metadata": {
        "colab": {
          "base_uri": "https://localhost:8080/"
        },
        "id": "gP6pXV1Oy3fX",
        "outputId": "4700f7a6-2ec7-41bb-b191-885f1b5ec198"
      },
      "source": [
        "a =''' adithya has a dought,\n",
        "which is regarding scan,\n",
        "which we need to address,\n",
        "the concept.'''\n",
        "print(a)"
      ],
      "execution_count": null,
      "outputs": [
        {
          "output_type": "stream",
          "text": [
            " adithya has a dought,\n",
            "which is regarding scan,\n",
            "which we need to address,\n",
            "the concept.\n"
          ],
          "name": "stdout"
        }
      ]
    },
    {
      "cell_type": "code",
      "metadata": {
        "colab": {
          "base_uri": "https://localhost:8080/"
        },
        "id": "FxmOGnOszH_h",
        "outputId": "453621a6-8e4b-41a1-a4dd-d8f309ae259c"
      },
      "source": [
        "print(10>9)\n",
        "print(10==9)\n",
        "print(10<9)"
      ],
      "execution_count": null,
      "outputs": [
        {
          "output_type": "stream",
          "text": [
            "True\n",
            "False\n",
            "False\n"
          ],
          "name": "stdout"
        }
      ]
    },
    {
      "cell_type": "code",
      "metadata": {
        "colab": {
          "base_uri": "https://localhost:8080/"
        },
        "id": "vKPNfc0vzoKO",
        "outputId": "ab5dfacd-f496-4880-f0fa-00ee16fcc80c"
      },
      "source": [
        "a=200\n",
        "b=33\n",
        "if b>a:\n",
        "  print(\"b is greater than a\")\n",
        "else:\n",
        "  print(\"b is not greater than a\")  \n"
      ],
      "execution_count": null,
      "outputs": [
        {
          "output_type": "stream",
          "text": [
            "b is not greater than a\n"
          ],
          "name": "stdout"
        }
      ]
    },
    {
      "cell_type": "code",
      "metadata": {
        "colab": {
          "base_uri": "https://localhost:8080/"
        },
        "id": "8PfOfAGp0Bhm",
        "outputId": "855c40cc-8af1-4e7b-e1ba-3d83f5ebb1af"
      },
      "source": [
        "print(10+5)"
      ],
      "execution_count": null,
      "outputs": [
        {
          "output_type": "stream",
          "text": [
            "15\n"
          ],
          "name": "stdout"
        }
      ]
    },
    {
      "cell_type": "code",
      "metadata": {
        "colab": {
          "base_uri": "https://localhost:8080/"
        },
        "id": "M0JXuo640LzN",
        "outputId": "62448155-af92-4608-e290-e5f493f15539"
      },
      "source": [
        "x=2\n",
        "y=4\n",
        "x+y\n",
        "x-y"
      ],
      "execution_count": null,
      "outputs": [
        {
          "output_type": "execute_result",
          "data": {
            "text/plain": [
              "-2"
            ]
          },
          "metadata": {
            "tags": []
          },
          "execution_count": 41
        }
      ]
    },
    {
      "cell_type": "code",
      "metadata": {
        "colab": {
          "base_uri": "https://localhost:8080/"
        },
        "id": "ra9H320O0VY9",
        "outputId": "41ab62d4-fe82-4f0d-b99c-dca32149a4f6"
      },
      "source": [
        "x=2\n",
        "y=4\n",
        "print(x+y)\n",
        "print(x-y)\n",
        "print(x*y)\n",
        "print(x/y)\n",
        "print(x%y)\n",
        "print(x//y)\n",
        "print(x**y)"
      ],
      "execution_count": null,
      "outputs": [
        {
          "output_type": "stream",
          "text": [
            "6\n",
            "-2\n",
            "8\n",
            "0.5\n",
            "2\n",
            "0\n",
            "16\n"
          ],
          "name": "stdout"
        }
      ]
    },
    {
      "cell_type": "code",
      "metadata": {
        "id": "5YenQH00024c"
      },
      "source": [
        "thisisalist =[\"apple\",\"banana\",\"grapes\"]"
      ],
      "execution_count": null,
      "outputs": []
    },
    {
      "cell_type": "code",
      "metadata": {
        "colab": {
          "base_uri": "https://localhost:8080/"
        },
        "id": "Tu4n-wzf1cOm",
        "outputId": "60a366a0-0f90-4ab4-96a9-3ead4da392e6"
      },
      "source": [
        "thisisalist"
      ],
      "execution_count": null,
      "outputs": [
        {
          "output_type": "execute_result",
          "data": {
            "text/plain": [
              "['apple', 'banana', 'grapes']"
            ]
          },
          "metadata": {
            "tags": []
          },
          "execution_count": 44
        }
      ]
    },
    {
      "cell_type": "code",
      "metadata": {
        "colab": {
          "base_uri": "https://localhost:8080/"
        },
        "id": "5e5MAY8E1eRt",
        "outputId": "b38aa5ac-ead0-4ae3-ba57-08a98fb610c9"
      },
      "source": [
        "type(thisisalist)"
      ],
      "execution_count": null,
      "outputs": [
        {
          "output_type": "execute_result",
          "data": {
            "text/plain": [
              "list"
            ]
          },
          "metadata": {
            "tags": []
          },
          "execution_count": 45
        }
      ]
    },
    {
      "cell_type": "code",
      "metadata": {
        "colab": {
          "base_uri": "https://localhost:8080/"
        },
        "id": "MR2mamm81jY7",
        "outputId": "62d4037d-d024-45d1-9efb-10df5017f5bd"
      },
      "source": [
        "thisisalist =[\"apple\",\"banana\",\"grapes\",\"apple1\",\"banana1\",\"grapes1\"]\n",
        "print(thisisalist)"
      ],
      "execution_count": null,
      "outputs": [
        {
          "output_type": "stream",
          "text": [
            "['apple', 'banana', 'grapes', 'apple1', 'banana1', 'grapes1']\n"
          ],
          "name": "stdout"
        }
      ]
    },
    {
      "cell_type": "code",
      "metadata": {
        "colab": {
          "base_uri": "https://localhost:8080/"
        },
        "id": "dCi3zm0418yY",
        "outputId": "cee24dd5-ad38-408d-9bc3-4c93d10cb555"
      },
      "source": [
        "thisisalist =[\"apple\",\"banana\",\"grapes\",\"apple1\",\"banana1\",\"grapes1\"]\n",
        "print(thisisalist[1])"
      ],
      "execution_count": null,
      "outputs": [
        {
          "output_type": "stream",
          "text": [
            "banana\n"
          ],
          "name": "stdout"
        }
      ]
    },
    {
      "cell_type": "code",
      "metadata": {
        "colab": {
          "base_uri": "https://localhost:8080/"
        },
        "id": "fX-I4sGc2CGG",
        "outputId": "d13cd9dc-5540-4207-b7e6-f7583fdd2919"
      },
      "source": [
        "thisisalist =[\"apple\",\"banana\",\"grapes\",\"apple1\",\"banana1\",\"grapes1\"]\n",
        "print(thisisalist[0:4])"
      ],
      "execution_count": null,
      "outputs": [
        {
          "output_type": "stream",
          "text": [
            "['apple', 'banana', 'grapes', 'apple1']\n"
          ],
          "name": "stdout"
        }
      ]
    },
    {
      "cell_type": "code",
      "metadata": {
        "colab": {
          "base_uri": "https://localhost:8080/"
        },
        "id": "qhAwO-Yc2Fcd",
        "outputId": "4243858f-c356-4db0-c122-db8a5ec637bf"
      },
      "source": [
        "thisisalist =[\"apple\",\"banana\",\"grapes\",\"apple1\",\"banana1\",\"grapes1\"]\n",
        "print(thisisalist[-1])"
      ],
      "execution_count": null,
      "outputs": [
        {
          "output_type": "stream",
          "text": [
            "grapes1\n"
          ],
          "name": "stdout"
        }
      ]
    },
    {
      "cell_type": "code",
      "metadata": {
        "colab": {
          "base_uri": "https://localhost:8080/"
        },
        "id": "ErQoz5Ly2Keb",
        "outputId": "517acbc7-e880-4520-c2a8-5f6e3762608d"
      },
      "source": [
        "thisisalist =[\"apple\",\"banana\",\"grapes\",\"apple1\",\"banana1\",\"grapes1\"]\n",
        "print(thisisalist[:4])"
      ],
      "execution_count": null,
      "outputs": [
        {
          "output_type": "stream",
          "text": [
            "['apple', 'banana', 'grapes', 'apple1']\n"
          ],
          "name": "stdout"
        }
      ]
    },
    {
      "cell_type": "code",
      "metadata": {
        "colab": {
          "base_uri": "https://localhost:8080/"
        },
        "id": "p6Qnpc982XkR",
        "outputId": "f9bf6104-bc7e-41dc-9cb1-3081a0df17bb"
      },
      "source": [
        "thisisalist =[\"apple\",\"banana\",\"grapes\",\"apple1\",\"banana1\",\"grapes1\"]\n",
        "print(thisisalist[2:])"
      ],
      "execution_count": null,
      "outputs": [
        {
          "output_type": "stream",
          "text": [
            "['grapes', 'apple1', 'banana1', 'grapes1']\n"
          ],
          "name": "stdout"
        }
      ]
    },
    {
      "cell_type": "code",
      "metadata": {
        "colab": {
          "base_uri": "https://localhost:8080/"
        },
        "id": "HUme7qgp2bzX",
        "outputId": "303c1268-c323-4669-a758-d6c64d67f648"
      },
      "source": [
        "thisisalist =[\"apple\",\"banana\",\"grapes\",\"apple1\",\"banana1\",\"grapes1\"]\n",
        "thisisalist[1]=\"Blackcurrent\"\n",
        "print(thisisalist)"
      ],
      "execution_count": null,
      "outputs": [
        {
          "output_type": "stream",
          "text": [
            "['apple', 'Blackcurrent', 'grapes', 'apple1', 'banana1', 'grapes1']\n"
          ],
          "name": "stdout"
        }
      ]
    },
    {
      "cell_type": "code",
      "metadata": {
        "colab": {
          "base_uri": "https://localhost:8080/"
        },
        "id": "XK9ns5Pf3Gsy",
        "outputId": "88a6f14c-0633-4e73-dc3c-bad9bdf1c450"
      },
      "source": [
        "thisisalist =[\"apple\",\"banana\",\"grapes\",\"apple1\",\"banana1\",\"grapes1\"]\n",
        "thisisalist[1]=[\"Blackcurrent\",\"Watermelon\"]\n",
        "print(thisisalist)"
      ],
      "execution_count": null,
      "outputs": [
        {
          "output_type": "stream",
          "text": [
            "['apple', ['Blackcurrent', 'Watermelon'], 'grapes', 'apple1', 'banana1', 'grapes1']\n"
          ],
          "name": "stdout"
        }
      ]
    },
    {
      "cell_type": "code",
      "metadata": {
        "colab": {
          "base_uri": "https://localhost:8080/"
        },
        "id": "2zD6-ZtF3S4i",
        "outputId": "f26deacb-3c75-416c-b1d1-7e8ca5dcc569"
      },
      "source": [
        "thisisalist =[\"apple\",\"banana\",\"grapes\",\"apple1\",\"banana1\",\"grapes1\"]\n",
        "thisisalist[4]=\"Blackcurrent\"\n",
        "print(thisisalist)"
      ],
      "execution_count": null,
      "outputs": [
        {
          "output_type": "stream",
          "text": [
            "['apple', 'banana', 'grapes', 'apple1', 'Blackcurrent', 'grapes1']\n"
          ],
          "name": "stdout"
        }
      ]
    },
    {
      "cell_type": "code",
      "metadata": {
        "colab": {
          "base_uri": "https://localhost:8080/"
        },
        "id": "USh8DMVt3gZN",
        "outputId": "08ea9f21-a734-4b70-9b75-5d721a871aeb"
      },
      "source": [
        "thisisalist =[\"apple\",\"banana\",\"grapes\",\"apple1\",\"banana1\",\"grapes1\"]\n",
        "thisisalist[-2]=\"Blackcurrent\"\n",
        "print(thisisalist)"
      ],
      "execution_count": null,
      "outputs": [
        {
          "output_type": "stream",
          "text": [
            "['apple', 'banana', 'grapes', 'apple1', 'Blackcurrent', 'grapes1']\n"
          ],
          "name": "stdout"
        }
      ]
    },
    {
      "cell_type": "code",
      "metadata": {
        "colab": {
          "base_uri": "https://localhost:8080/"
        },
        "id": "qYi1M4uw3q1s",
        "outputId": "58592df1-c04e-4221-9bc4-6669bdf41fd1"
      },
      "source": [
        "thisisalist =[\"apple\",\"banana\",\"grapes\",\"apple1\",\"banana1\",\"grapes1\"]\n",
        "thisisalist.append(\"orange\")\n",
        "print(thisisalist)"
      ],
      "execution_count": null,
      "outputs": [
        {
          "output_type": "stream",
          "text": [
            "['apple', 'banana', 'grapes', 'apple1', 'banana1', 'grapes1', 'orange']\n"
          ],
          "name": "stdout"
        }
      ]
    },
    {
      "cell_type": "code",
      "metadata": {
        "colab": {
          "base_uri": "https://localhost:8080/"
        },
        "id": "uBfODkXs6ASM",
        "outputId": "6c224e2d-b367-47a9-b374-15ca570d661d"
      },
      "source": [
        "thisisalist =[\"apple\",\"banana\",\"grapes\",\"apple1\",\"banana1\",\"grapes1\"]\n",
        "thisisalist.insert(2,\"orange\")\n",
        "print(thisisalist)"
      ],
      "execution_count": null,
      "outputs": [
        {
          "output_type": "stream",
          "text": [
            "['apple', 'banana', 'orange', 'grapes', 'apple1', 'banana1', 'grapes1']\n"
          ],
          "name": "stdout"
        }
      ]
    },
    {
      "cell_type": "code",
      "metadata": {
        "colab": {
          "base_uri": "https://localhost:8080/"
        },
        "id": "rGYG76fx6Nro",
        "outputId": "cea77300-593a-4805-e163-385f6f7ae2fe"
      },
      "source": [
        "thisisalist =[\"apple\",\"banana\",\"grapes\",\"apple1\",\"banana1\",\"grapes1\"]\n",
        "tropical =[\"mango\",\"pineapple\",\"papaya\",\"mango1\",\"pineapple1\",\"papaya1\"]\n",
        "thisisalist.extend(tropical)\n",
        "print(thisisalist)"
      ],
      "execution_count": null,
      "outputs": [
        {
          "output_type": "stream",
          "text": [
            "['apple', 'banana', 'grapes', 'apple1', 'banana1', 'grapes1', 'mango', 'pineapple', 'papaya', 'mango1', 'pineapple1', 'papaya1']\n"
          ],
          "name": "stdout"
        }
      ]
    },
    {
      "cell_type": "code",
      "metadata": {
        "colab": {
          "base_uri": "https://localhost:8080/"
        },
        "id": "Aqfh4hvc6zO3",
        "outputId": "5eb13664-6dd3-49bd-e1a4-ea10fa7cf9a6"
      },
      "source": [
        "thisisalist =[\"apple\",\"banana\",\"grapes\",\"apple1\",\"banana1\",\"grapes1\"]\n",
        "thisistuple =(\"mango\",\"pineapple\",\"papaya\",\"mango1\",\"pineapple1\",\"papaya1\")\n",
        "thisisalist.extend(thisistuple)\n",
        "print(thisisalist)"
      ],
      "execution_count": null,
      "outputs": [
        {
          "output_type": "stream",
          "text": [
            "['apple', 'banana', 'grapes', 'apple1', 'banana1', 'grapes1', 'mango', 'pineapple', 'papaya', 'mango1', 'pineapple1', 'papaya1']\n"
          ],
          "name": "stdout"
        }
      ]
    },
    {
      "cell_type": "code",
      "metadata": {
        "colab": {
          "base_uri": "https://localhost:8080/"
        },
        "id": "K1gm2fbR7YaS",
        "outputId": "30f0bc19-2cc5-4f3f-e16a-5e9d91213fd9"
      },
      "source": [
        "thisisalist =[\"apple\",\"banana\",\"grapes\",\"apple1\",\"banana1\",\"grapes1\"]\n",
        "#tropical =[\"mango\",\"pineapple\",\"papaya\",\"mango1\",\"pineapple1\",\"papaya1\"]\n",
        "thisisalist.remove(\"apple1\")\n",
        "print(thisisalist)"
      ],
      "execution_count": null,
      "outputs": [
        {
          "output_type": "stream",
          "text": [
            "['apple', 'banana', 'grapes', 'banana1', 'grapes1']\n"
          ],
          "name": "stdout"
        }
      ]
    },
    {
      "cell_type": "code",
      "metadata": {
        "colab": {
          "base_uri": "https://localhost:8080/"
        },
        "id": "TRmrbNM-7nAX",
        "outputId": "e562f3ef-7ede-4059-85a6-bdda6af6a3b6"
      },
      "source": [
        "thisisalist =[\"apple\",\"banana\",\"grapes\",\"apple1\",\"banana1\",\"grapes1\"]\n",
        "#tropical =[\"mango\",\"pineapple\",\"papaya\",\"mango1\",\"pineapple1\",\"papaya1\"]\n",
        "thisisalist.pop()\n",
        "print(thisisalist)"
      ],
      "execution_count": null,
      "outputs": [
        {
          "output_type": "stream",
          "text": [
            "['apple', 'banana', 'grapes', 'apple1', 'banana1']\n"
          ],
          "name": "stdout"
        }
      ]
    },
    {
      "cell_type": "code",
      "metadata": {
        "colab": {
          "base_uri": "https://localhost:8080/"
        },
        "id": "ePadEoYO78wK",
        "outputId": "446cba65-c06f-4a89-821a-ed0a3e86f1a0"
      },
      "source": [
        "thisisalist =[\"apple\",\"banana\",\"grapes\",\"apple1\",\"banana1\",\"grapes1\"]\n",
        "#tropical =[\"mango\",\"pineapple\",\"papaya\",\"mango1\",\"pineapple1\",\"papaya1\"]\n",
        "thisisalist.pop(0)\n",
        "print(thisisalist)"
      ],
      "execution_count": null,
      "outputs": [
        {
          "output_type": "stream",
          "text": [
            "['banana', 'grapes', 'apple1', 'banana1', 'grapes1']\n"
          ],
          "name": "stdout"
        }
      ]
    },
    {
      "cell_type": "code",
      "metadata": {
        "colab": {
          "base_uri": "https://localhost:8080/"
        },
        "id": "VklYUE_A8DKZ",
        "outputId": "5aa2b162-e840-4186-a8b6-32d847eda5c5"
      },
      "source": [
        "thisisalist =[\"apple\",\"banana\",\"grapes\",\"apple1\",\"banana1\",\"grapes1\"]\n",
        "#tropical =[\"mango\",\"pineapple\",\"papaya\",\"mango1\",\"pineapple1\",\"papaya1\"]\n",
        "#del thisisalist\n",
        "thisisalist"
      ],
      "execution_count": null,
      "outputs": [
        {
          "output_type": "execute_result",
          "data": {
            "text/plain": [
              "['apple', 'banana', 'grapes', 'apple1', 'banana1', 'grapes1']"
            ]
          },
          "metadata": {
            "tags": []
          },
          "execution_count": 64
        }
      ]
    },
    {
      "cell_type": "code",
      "metadata": {
        "id": "6tBJOVo98Na8"
      },
      "source": [
        "thisisalist =[\"apple\",\"banana\",\"grapes\",\"apple1\",\"banana1\",\"grapes1\"]\n",
        "#tropical =[\"mango\",\"pineapple\",\"papaya\",\"mango1\",\"pineapple1\",\"papaya1\"]\n",
        "del thisisalist\n"
      ],
      "execution_count": null,
      "outputs": []
    },
    {
      "cell_type": "code",
      "metadata": {
        "colab": {
          "base_uri": "https://localhost:8080/"
        },
        "id": "ekNa6Sdb8m-q",
        "outputId": "2511603f-1567-473f-d53d-f791dff1da82"
      },
      "source": [
        "thisisalist =[\"apple\",\"banana\",\"grapes\",\"apple1\",\"banana1\",\"grapes1\"]\n",
        "#tropical =[\"mango\",\"pineapple\",\"papaya\",\"mango1\",\"pineapple1\",\"papaya1\"]\n",
        "thisisalist.clear()\n",
        "print(thisisalist)"
      ],
      "execution_count": null,
      "outputs": [
        {
          "output_type": "stream",
          "text": [
            "[]\n"
          ],
          "name": "stdout"
        }
      ]
    },
    {
      "cell_type": "code",
      "metadata": {
        "colab": {
          "base_uri": "https://localhost:8080/"
        },
        "id": "arZ5hGWd8w8d",
        "outputId": "c0b4501c-5da2-43d1-be76-83f38bf6a13e"
      },
      "source": [
        "thisisalist =[\"apple\",\"banana\",\"grapes\",\"apple1\",\"banana1\",\"grapes1\"]\n",
        "for x in thisisalist:\n",
        "   print(x)"
      ],
      "execution_count": null,
      "outputs": [
        {
          "output_type": "stream",
          "text": [
            "apple\n",
            "banana\n",
            "grapes\n",
            "apple1\n",
            "banana1\n",
            "grapes1\n"
          ],
          "name": "stdout"
        }
      ]
    },
    {
      "cell_type": "code",
      "metadata": {
        "colab": {
          "base_uri": "https://localhost:8080/"
        },
        "id": "nlj_eh5N9V6B",
        "outputId": "5ecffac4-04ab-40da-8213-5078d52486ec"
      },
      "source": [
        "thisisalist =[\"apple\",\"banana\",\"grapes\",\"apple1\",\"banana1\",\"grapes1\"]\n",
        "for i in range (len(thisisalist)):\n",
        "   print(thisisalist[i])"
      ],
      "execution_count": null,
      "outputs": [
        {
          "output_type": "stream",
          "text": [
            "apple\n",
            "banana\n",
            "grapes\n",
            "apple1\n",
            "banana1\n",
            "grapes1\n"
          ],
          "name": "stdout"
        }
      ]
    },
    {
      "cell_type": "code",
      "metadata": {
        "colab": {
          "base_uri": "https://localhost:8080/",
          "height": 1000
        },
        "id": "lqW9q6Wo98UV",
        "outputId": "555d8d6c-6d40-487d-9383-329a70a74543"
      },
      "source": [
        "thisisalist =[\"apple\",\"banana\",\"grapes\",\"apple1\",\"banana1\",\"grapes1\"]\n",
        "i=0\n",
        "while i < len(thisisalist):\n",
        "   print(thisisalist[i])"
      ],
      "execution_count": null,
      "outputs": [
        {
          "output_type": "stream",
          "text": [
            "\u001b[1;30;43mStreaming output truncated to the last 5000 lines.\u001b[0m\n",
            "apple\n",
            "apple\n",
            "apple\n",
            "apple\n",
            "apple\n",
            "apple\n",
            "apple\n",
            "apple\n",
            "apple\n",
            "apple\n",
            "apple\n",
            "apple\n",
            "apple\n",
            "apple\n",
            "apple\n",
            "apple\n",
            "apple\n",
            "apple\n",
            "apple\n",
            "apple\n",
            "apple\n",
            "apple\n",
            "apple\n",
            "apple\n",
            "apple\n",
            "apple\n",
            "apple\n",
            "apple\n",
            "apple\n",
            "apple\n",
            "apple\n",
            "apple\n",
            "apple\n",
            "apple\n",
            "apple\n",
            "apple\n",
            "apple\n",
            "apple\n",
            "apple\n",
            "apple\n",
            "apple\n",
            "apple\n",
            "apple\n",
            "apple\n",
            "apple\n",
            "apple\n",
            "apple\n",
            "apple\n",
            "apple\n",
            "apple\n",
            "apple\n",
            "apple\n",
            "apple\n",
            "apple\n",
            "apple\n",
            "apple\n",
            "apple\n",
            "apple\n",
            "apple\n",
            "apple\n",
            "apple\n",
            "apple\n",
            "apple\n",
            "apple\n",
            "apple\n",
            "apple\n",
            "apple\n",
            "apple\n",
            "apple\n",
            "apple\n",
            "apple\n",
            "apple\n",
            "apple\n",
            "apple\n",
            "apple\n",
            "apple\n",
            "apple\n",
            "apple\n",
            "apple\n",
            "apple\n",
            "apple\n",
            "apple\n",
            "apple\n",
            "apple\n",
            "apple\n",
            "apple\n",
            "apple\n",
            "apple\n",
            "apple\n",
            "apple\n",
            "apple\n",
            "apple\n",
            "apple\n",
            "apple\n",
            "apple\n",
            "apple\n",
            "apple\n",
            "apple\n",
            "apple\n",
            "apple\n",
            "apple\n",
            "apple\n",
            "apple\n",
            "apple\n",
            "apple\n",
            "apple\n",
            "apple\n",
            "apple\n",
            "apple\n",
            "apple\n",
            "apple\n",
            "apple\n",
            "apple\n",
            "apple\n",
            "apple\n",
            "apple\n",
            "apple\n",
            "apple\n",
            "apple\n",
            "apple\n",
            "apple\n",
            "apple\n",
            "apple\n",
            "apple\n",
            "apple\n",
            "apple\n",
            "apple\n",
            "apple\n",
            "apple\n",
            "apple\n",
            "apple\n",
            "apple\n",
            "apple\n",
            "apple\n",
            "apple\n",
            "apple\n",
            "apple\n",
            "apple\n",
            "apple\n",
            "apple\n",
            "apple\n",
            "apple\n",
            "apple\n",
            "apple\n",
            "apple\n",
            "apple\n",
            "apple\n",
            "apple\n",
            "apple\n",
            "apple\n",
            "apple\n",
            "apple\n",
            "apple\n",
            "apple\n",
            "apple\n",
            "apple\n",
            "apple\n",
            "apple\n",
            "apple\n",
            "apple\n",
            "apple\n",
            "apple\n",
            "apple\n",
            "apple\n",
            "apple\n",
            "apple\n",
            "apple\n",
            "apple\n",
            "apple\n",
            "apple\n",
            "apple\n",
            "apple\n",
            "apple\n",
            "apple\n",
            "apple\n",
            "apple\n",
            "apple\n",
            "apple\n",
            "apple\n",
            "apple\n",
            "apple\n",
            "apple\n",
            "apple\n",
            "apple\n",
            "apple\n",
            "apple\n",
            "apple\n",
            "apple\n",
            "apple\n",
            "apple\n",
            "apple\n",
            "apple\n",
            "apple\n",
            "apple\n",
            "apple\n",
            "apple\n",
            "apple\n",
            "apple\n",
            "apple\n",
            "apple\n",
            "apple\n",
            "apple\n",
            "apple\n",
            "apple\n",
            "apple\n",
            "apple\n",
            "apple\n",
            "apple\n",
            "apple\n",
            "apple\n",
            "apple\n",
            "apple\n",
            "apple\n",
            "apple\n",
            "apple\n",
            "apple\n",
            "apple\n",
            "apple\n",
            "apple\n",
            "apple\n",
            "apple\n",
            "apple\n",
            "apple\n",
            "apple\n",
            "apple\n",
            "apple\n",
            "apple\n",
            "apple\n",
            "apple\n",
            "apple\n",
            "apple\n",
            "apple\n",
            "apple\n",
            "apple\n",
            "apple\n",
            "apple\n",
            "apple\n",
            "apple\n",
            "apple\n",
            "apple\n",
            "apple\n",
            "apple\n",
            "apple\n",
            "apple\n",
            "apple\n",
            "apple\n",
            "apple\n",
            "apple\n",
            "apple\n",
            "apple\n",
            "apple\n",
            "apple\n",
            "apple\n",
            "apple\n",
            "apple\n",
            "apple\n",
            "apple\n",
            "apple\n",
            "apple\n",
            "apple\n",
            "apple\n",
            "apple\n",
            "apple\n",
            "apple\n",
            "apple\n",
            "apple\n",
            "apple\n",
            "apple\n",
            "apple\n",
            "apple\n",
            "apple\n",
            "apple\n",
            "apple\n",
            "apple\n",
            "apple\n",
            "apple\n",
            "apple\n",
            "apple\n",
            "apple\n",
            "apple\n",
            "apple\n",
            "apple\n",
            "apple\n",
            "apple\n",
            "apple\n",
            "apple\n",
            "apple\n",
            "apple\n",
            "apple\n",
            "apple\n",
            "apple\n",
            "apple\n",
            "apple\n",
            "apple\n",
            "apple\n",
            "apple\n",
            "apple\n",
            "apple\n",
            "apple\n",
            "apple\n",
            "apple\n",
            "apple\n",
            "apple\n",
            "apple\n",
            "apple\n",
            "apple\n",
            "apple\n",
            "apple\n",
            "apple\n",
            "apple\n",
            "apple\n",
            "apple\n",
            "apple\n",
            "apple\n",
            "apple\n",
            "apple\n",
            "apple\n",
            "apple\n",
            "apple\n",
            "apple\n",
            "apple\n",
            "apple\n",
            "apple\n",
            "apple\n",
            "apple\n",
            "apple\n",
            "apple\n",
            "apple\n",
            "apple\n",
            "apple\n",
            "apple\n",
            "apple\n",
            "apple\n",
            "apple\n",
            "apple\n",
            "apple\n",
            "apple\n",
            "apple\n",
            "apple\n",
            "apple\n",
            "apple\n",
            "apple\n",
            "apple\n",
            "apple\n",
            "apple\n",
            "apple\n",
            "apple\n",
            "apple\n",
            "apple\n",
            "apple\n",
            "apple\n",
            "apple\n",
            "apple\n",
            "apple\n",
            "apple\n",
            "apple\n",
            "apple\n",
            "apple\n",
            "apple\n",
            "apple\n",
            "apple\n",
            "apple\n",
            "apple\n",
            "apple\n",
            "apple\n",
            "apple\n",
            "apple\n",
            "apple\n",
            "apple\n",
            "apple\n",
            "apple\n",
            "apple\n",
            "apple\n",
            "apple\n",
            "apple\n",
            "apple\n",
            "apple\n",
            "apple\n",
            "apple\n",
            "apple\n",
            "apple\n",
            "apple\n",
            "apple\n",
            "apple\n",
            "apple\n",
            "apple\n",
            "apple\n",
            "apple\n",
            "apple\n",
            "apple\n",
            "apple\n",
            "apple\n",
            "apple\n",
            "apple\n",
            "apple\n",
            "apple\n",
            "apple\n",
            "apple\n",
            "apple\n",
            "apple\n",
            "apple\n",
            "apple\n",
            "apple\n",
            "apple\n",
            "apple\n",
            "apple\n",
            "apple\n",
            "apple\n",
            "apple\n",
            "apple\n",
            "apple\n",
            "apple\n",
            "apple\n",
            "apple\n",
            "apple\n",
            "apple\n",
            "apple\n",
            "apple\n",
            "apple\n",
            "apple\n",
            "apple\n",
            "apple\n",
            "apple\n",
            "apple\n",
            "apple\n",
            "apple\n",
            "apple\n",
            "apple\n",
            "apple\n",
            "apple\n",
            "apple\n",
            "apple\n",
            "apple\n",
            "apple\n",
            "apple\n",
            "apple\n",
            "apple\n",
            "apple\n",
            "apple\n",
            "apple\n",
            "apple\n",
            "apple\n",
            "apple\n",
            "apple\n",
            "apple\n",
            "apple\n",
            "apple\n",
            "apple\n",
            "apple\n",
            "apple\n",
            "apple\n",
            "apple\n",
            "apple\n",
            "apple\n",
            "apple\n",
            "apple\n",
            "apple\n",
            "apple\n",
            "apple\n",
            "apple\n",
            "apple\n",
            "apple\n",
            "apple\n",
            "apple\n",
            "apple\n",
            "apple\n",
            "apple\n",
            "apple\n",
            "apple\n",
            "apple\n",
            "apple\n",
            "apple\n",
            "apple\n",
            "apple\n",
            "apple\n",
            "apple\n",
            "apple\n",
            "apple\n",
            "apple\n",
            "apple\n",
            "apple\n",
            "apple\n",
            "apple\n",
            "apple\n",
            "apple\n",
            "apple\n",
            "apple\n",
            "apple\n",
            "apple\n",
            "apple\n",
            "apple\n",
            "apple\n",
            "apple\n",
            "apple\n",
            "apple\n",
            "apple\n",
            "apple\n",
            "apple\n",
            "apple\n",
            "apple\n",
            "apple\n",
            "apple\n",
            "apple\n",
            "apple\n",
            "apple\n",
            "apple\n",
            "apple\n",
            "apple\n",
            "apple\n",
            "apple\n",
            "apple\n",
            "apple\n",
            "apple\n",
            "apple\n",
            "apple\n",
            "apple\n",
            "apple\n",
            "apple\n",
            "apple\n",
            "apple\n",
            "apple\n",
            "apple\n",
            "apple\n",
            "apple\n",
            "apple\n",
            "apple\n",
            "apple\n",
            "apple\n",
            "apple\n",
            "apple\n",
            "apple\n",
            "apple\n",
            "apple\n",
            "apple\n",
            "apple\n",
            "apple\n",
            "apple\n",
            "apple\n",
            "apple\n",
            "apple\n",
            "apple\n",
            "apple\n",
            "apple\n",
            "apple\n",
            "apple\n",
            "apple\n",
            "apple\n",
            "apple\n",
            "apple\n",
            "apple\n",
            "apple\n",
            "apple\n",
            "apple\n",
            "apple\n",
            "apple\n",
            "apple\n",
            "apple\n",
            "apple\n",
            "apple\n",
            "apple\n",
            "apple\n",
            "apple\n",
            "apple\n",
            "apple\n",
            "apple\n",
            "apple\n",
            "apple\n",
            "apple\n",
            "apple\n",
            "apple\n",
            "apple\n",
            "apple\n",
            "apple\n",
            "apple\n",
            "apple\n",
            "apple\n",
            "apple\n",
            "apple\n",
            "apple\n",
            "apple\n",
            "apple\n",
            "apple\n",
            "apple\n",
            "apple\n",
            "apple\n",
            "apple\n",
            "apple\n",
            "apple\n",
            "apple\n",
            "apple\n",
            "apple\n",
            "apple\n",
            "apple\n",
            "apple\n",
            "apple\n",
            "apple\n",
            "apple\n",
            "apple\n",
            "apple\n",
            "apple\n",
            "apple\n",
            "apple\n",
            "apple\n",
            "apple\n",
            "apple\n",
            "apple\n",
            "apple\n",
            "apple\n",
            "apple\n",
            "apple\n",
            "apple\n",
            "apple\n",
            "apple\n",
            "apple\n",
            "apple\n",
            "apple\n",
            "apple\n",
            "apple\n",
            "apple\n",
            "apple\n",
            "apple\n",
            "apple\n",
            "apple\n",
            "apple\n",
            "apple\n",
            "apple\n",
            "apple\n",
            "apple\n",
            "apple\n",
            "apple\n",
            "apple\n",
            "apple\n",
            "apple\n",
            "apple\n",
            "apple\n",
            "apple\n",
            "apple\n",
            "apple\n",
            "apple\n",
            "apple\n",
            "apple\n",
            "apple\n",
            "apple\n",
            "apple\n",
            "apple\n",
            "apple\n",
            "apple\n",
            "apple\n",
            "apple\n",
            "apple\n",
            "apple\n",
            "apple\n",
            "apple\n",
            "apple\n",
            "apple\n",
            "apple\n",
            "apple\n",
            "apple\n",
            "apple\n",
            "apple\n",
            "apple\n",
            "apple\n",
            "apple\n",
            "apple\n",
            "apple\n",
            "apple\n",
            "apple\n",
            "apple\n",
            "apple\n",
            "apple\n",
            "apple\n",
            "apple\n",
            "apple\n",
            "apple\n",
            "apple\n",
            "apple\n",
            "apple\n",
            "apple\n",
            "apple\n",
            "apple\n",
            "apple\n",
            "apple\n",
            "apple\n",
            "apple\n",
            "apple\n",
            "apple\n",
            "apple\n",
            "apple\n",
            "apple\n",
            "apple\n",
            "apple\n",
            "apple\n",
            "apple\n",
            "apple\n",
            "apple\n",
            "apple\n",
            "apple\n",
            "apple\n",
            "apple\n",
            "apple\n",
            "apple\n",
            "apple\n",
            "apple\n",
            "apple\n",
            "apple\n",
            "apple\n",
            "apple\n",
            "apple\n",
            "apple\n",
            "apple\n",
            "apple\n",
            "apple\n",
            "apple\n",
            "apple\n",
            "apple\n",
            "apple\n",
            "apple\n",
            "apple\n",
            "apple\n",
            "apple\n",
            "apple\n",
            "apple\n",
            "apple\n",
            "apple\n",
            "apple\n",
            "apple\n",
            "apple\n",
            "apple\n",
            "apple\n",
            "apple\n",
            "apple\n",
            "apple\n",
            "apple\n",
            "apple\n",
            "apple\n",
            "apple\n",
            "apple\n",
            "apple\n",
            "apple\n",
            "apple\n",
            "apple\n",
            "apple\n",
            "apple\n",
            "apple\n",
            "apple\n",
            "apple\n",
            "apple\n",
            "apple\n",
            "apple\n",
            "apple\n",
            "apple\n",
            "apple\n",
            "apple\n",
            "apple\n",
            "apple\n",
            "apple\n",
            "apple\n",
            "apple\n",
            "apple\n",
            "apple\n",
            "apple\n",
            "apple\n",
            "apple\n",
            "apple\n",
            "apple\n",
            "apple\n",
            "apple\n",
            "apple\n",
            "apple\n",
            "apple\n",
            "apple\n",
            "apple\n",
            "apple\n",
            "apple\n",
            "apple\n",
            "apple\n",
            "apple\n",
            "apple\n",
            "apple\n",
            "apple\n",
            "apple\n",
            "apple\n",
            "apple\n",
            "apple\n",
            "apple\n",
            "apple\n",
            "apple\n",
            "apple\n",
            "apple\n",
            "apple\n",
            "apple\n",
            "apple\n",
            "apple\n",
            "apple\n",
            "apple\n",
            "apple\n",
            "apple\n",
            "apple\n",
            "apple\n",
            "apple\n",
            "apple\n",
            "apple\n",
            "apple\n",
            "apple\n",
            "apple\n",
            "apple\n",
            "apple\n",
            "apple\n",
            "apple\n",
            "apple\n",
            "apple\n",
            "apple\n",
            "apple\n",
            "apple\n",
            "apple\n",
            "apple\n",
            "apple\n",
            "apple\n",
            "apple\n",
            "apple\n",
            "apple\n",
            "apple\n",
            "apple\n",
            "apple\n",
            "apple\n",
            "apple\n",
            "apple\n",
            "apple\n",
            "apple\n",
            "apple\n",
            "apple\n",
            "apple\n",
            "apple\n",
            "apple\n",
            "apple\n",
            "apple\n",
            "apple\n",
            "apple\n",
            "apple\n",
            "apple\n",
            "apple\n",
            "apple\n",
            "apple\n",
            "apple\n",
            "apple\n",
            "apple\n",
            "apple\n",
            "apple\n",
            "apple\n",
            "apple\n",
            "apple\n",
            "apple\n",
            "apple\n",
            "apple\n",
            "apple\n",
            "apple\n",
            "apple\n",
            "apple\n",
            "apple\n",
            "apple\n",
            "apple\n",
            "apple\n",
            "apple\n",
            "apple\n",
            "apple\n",
            "apple\n",
            "apple\n",
            "apple\n",
            "apple\n",
            "apple\n",
            "apple\n",
            "apple\n",
            "apple\n",
            "apple\n",
            "apple\n",
            "apple\n",
            "apple\n",
            "apple\n",
            "apple\n",
            "apple\n",
            "apple\n",
            "apple\n",
            "apple\n",
            "apple\n",
            "apple\n",
            "apple\n",
            "apple\n",
            "apple\n",
            "apple\n",
            "apple\n",
            "apple\n",
            "apple\n",
            "apple\n",
            "apple\n",
            "apple\n",
            "apple\n",
            "apple\n",
            "apple\n",
            "apple\n",
            "apple\n",
            "apple\n",
            "apple\n",
            "apple\n",
            "apple\n",
            "apple\n",
            "apple\n",
            "apple\n",
            "apple\n",
            "apple\n",
            "apple\n",
            "apple\n",
            "apple\n",
            "apple\n",
            "apple\n",
            "apple\n",
            "apple\n",
            "apple\n",
            "apple\n",
            "apple\n",
            "apple\n",
            "apple\n",
            "apple\n",
            "apple\n",
            "apple\n",
            "apple\n",
            "apple\n",
            "apple\n",
            "apple\n",
            "apple\n",
            "apple\n",
            "apple\n",
            "apple\n",
            "apple\n",
            "apple\n",
            "apple\n",
            "apple\n",
            "apple\n",
            "apple\n",
            "apple\n",
            "apple\n",
            "apple\n",
            "apple\n",
            "apple\n",
            "apple\n",
            "apple\n",
            "apple\n",
            "apple\n",
            "apple\n",
            "apple\n",
            "apple\n",
            "apple\n",
            "apple\n",
            "apple\n",
            "apple\n",
            "apple\n",
            "apple\n",
            "apple\n",
            "apple\n",
            "apple\n",
            "apple\n",
            "apple\n",
            "apple\n",
            "apple\n",
            "apple\n",
            "apple\n",
            "apple\n",
            "apple\n",
            "apple\n",
            "apple\n",
            "apple\n",
            "apple\n",
            "apple\n",
            "apple\n",
            "apple\n",
            "apple\n",
            "apple\n",
            "apple\n",
            "apple\n",
            "apple\n",
            "apple\n",
            "apple\n",
            "apple\n",
            "apple\n",
            "apple\n",
            "apple\n",
            "apple\n",
            "apple\n",
            "apple\n",
            "apple\n",
            "apple\n",
            "apple\n",
            "apple\n",
            "apple\n",
            "apple\n",
            "apple\n",
            "apple\n",
            "apple\n",
            "apple\n",
            "apple\n",
            "apple\n",
            "apple\n",
            "apple\n",
            "apple\n",
            "apple\n",
            "apple\n",
            "apple\n",
            "apple\n",
            "apple\n",
            "apple\n",
            "apple\n",
            "apple\n",
            "apple\n",
            "apple\n",
            "apple\n",
            "apple\n",
            "apple\n",
            "apple\n",
            "apple\n",
            "apple\n",
            "apple\n",
            "apple\n",
            "apple\n",
            "apple\n",
            "apple\n",
            "apple\n",
            "apple\n",
            "apple\n",
            "apple\n",
            "apple\n",
            "apple\n",
            "apple\n",
            "apple\n",
            "apple\n",
            "apple\n",
            "apple\n",
            "apple\n",
            "apple\n",
            "apple\n",
            "apple\n",
            "apple\n",
            "apple\n",
            "apple\n",
            "apple\n",
            "apple\n",
            "apple\n",
            "apple\n",
            "apple\n",
            "apple\n",
            "apple\n",
            "apple\n",
            "apple\n",
            "apple\n",
            "apple\n",
            "apple\n",
            "apple\n",
            "apple\n",
            "apple\n",
            "apple\n",
            "apple\n",
            "apple\n",
            "apple\n",
            "apple\n",
            "apple\n",
            "apple\n",
            "apple\n",
            "apple\n",
            "apple\n",
            "apple\n",
            "apple\n",
            "apple\n",
            "apple\n",
            "apple\n",
            "apple\n",
            "apple\n",
            "apple\n",
            "apple\n",
            "apple\n",
            "apple\n",
            "apple\n",
            "apple\n",
            "apple\n",
            "apple\n",
            "apple\n",
            "apple\n",
            "apple\n",
            "apple\n",
            "apple\n",
            "apple\n",
            "apple\n",
            "apple\n",
            "apple\n",
            "apple\n",
            "apple\n",
            "apple\n",
            "apple\n",
            "apple\n",
            "apple\n",
            "apple\n",
            "apple\n",
            "apple\n",
            "apple\n",
            "apple\n",
            "apple\n",
            "apple\n",
            "apple\n",
            "apple\n",
            "apple\n",
            "apple\n",
            "apple\n",
            "apple\n",
            "apple\n",
            "apple\n",
            "apple\n",
            "apple\n",
            "apple\n",
            "apple\n",
            "apple\n",
            "apple\n",
            "apple\n",
            "apple\n",
            "apple\n",
            "apple\n",
            "apple\n",
            "apple\n",
            "apple\n",
            "apple\n",
            "apple\n",
            "apple\n",
            "apple\n",
            "apple\n",
            "apple\n",
            "apple\n",
            "apple\n",
            "apple\n",
            "apple\n",
            "apple\n",
            "apple\n",
            "apple\n",
            "apple\n",
            "apple\n",
            "apple\n",
            "apple\n",
            "apple\n",
            "apple\n",
            "apple\n",
            "apple\n",
            "apple\n",
            "apple\n",
            "apple\n",
            "apple\n",
            "apple\n",
            "apple\n",
            "apple\n",
            "apple\n",
            "apple\n",
            "apple\n",
            "apple\n",
            "apple\n",
            "apple\n",
            "apple\n",
            "apple\n",
            "apple\n",
            "apple\n",
            "apple\n",
            "apple\n",
            "apple\n",
            "apple\n",
            "apple\n",
            "apple\n",
            "apple\n",
            "apple\n",
            "apple\n",
            "apple\n",
            "apple\n",
            "apple\n",
            "apple\n",
            "apple\n",
            "apple\n",
            "apple\n",
            "apple\n",
            "apple\n",
            "apple\n",
            "apple\n",
            "apple\n",
            "apple\n",
            "apple\n",
            "apple\n",
            "apple\n",
            "apple\n",
            "apple\n",
            "apple\n",
            "apple\n",
            "apple\n",
            "apple\n",
            "apple\n",
            "apple\n",
            "apple\n",
            "apple\n",
            "apple\n",
            "apple\n",
            "apple\n",
            "apple\n",
            "apple\n",
            "apple\n",
            "apple\n",
            "apple\n",
            "apple\n",
            "apple\n",
            "apple\n",
            "apple\n",
            "apple\n",
            "apple\n",
            "apple\n",
            "apple\n",
            "apple\n",
            "apple\n",
            "apple\n",
            "apple\n",
            "apple\n",
            "apple\n",
            "apple\n",
            "apple\n",
            "apple\n",
            "apple\n",
            "apple\n",
            "apple\n",
            "apple\n",
            "apple\n",
            "apple\n",
            "apple\n",
            "apple\n",
            "apple\n",
            "apple\n",
            "apple\n",
            "apple\n",
            "apple\n",
            "apple\n",
            "apple\n",
            "apple\n",
            "apple\n",
            "apple\n",
            "apple\n",
            "apple\n",
            "apple\n",
            "apple\n",
            "apple\n",
            "apple\n",
            "apple\n",
            "apple\n",
            "apple\n",
            "apple\n",
            "apple\n",
            "apple\n",
            "apple\n",
            "apple\n",
            "apple\n",
            "apple\n",
            "apple\n",
            "apple\n",
            "apple\n",
            "apple\n",
            "apple\n",
            "apple\n",
            "apple\n",
            "apple\n",
            "apple\n",
            "apple\n",
            "apple\n",
            "apple\n",
            "apple\n",
            "apple\n",
            "apple\n",
            "apple\n",
            "apple\n",
            "apple\n",
            "apple\n",
            "apple\n",
            "apple\n",
            "apple\n",
            "apple\n",
            "apple\n",
            "apple\n",
            "apple\n",
            "apple\n",
            "apple\n",
            "apple\n",
            "apple\n",
            "apple\n",
            "apple\n",
            "apple\n",
            "apple\n",
            "apple\n",
            "apple\n",
            "apple\n",
            "apple\n",
            "apple\n",
            "apple\n",
            "apple\n",
            "apple\n",
            "apple\n",
            "apple\n",
            "apple\n",
            "apple\n",
            "apple\n",
            "apple\n",
            "apple\n",
            "apple\n",
            "apple\n",
            "apple\n",
            "apple\n",
            "apple\n",
            "apple\n",
            "apple\n",
            "apple\n",
            "apple\n",
            "apple\n",
            "apple\n",
            "apple\n",
            "apple\n",
            "apple\n",
            "apple\n",
            "apple\n",
            "apple\n",
            "apple\n",
            "apple\n",
            "apple\n",
            "apple\n",
            "apple\n",
            "apple\n",
            "apple\n",
            "apple\n",
            "apple\n",
            "apple\n",
            "apple\n",
            "apple\n",
            "apple\n",
            "apple\n",
            "apple\n",
            "apple\n",
            "apple\n",
            "apple\n",
            "apple\n",
            "apple\n",
            "apple\n",
            "apple\n",
            "apple\n",
            "apple\n",
            "apple\n",
            "apple\n",
            "apple\n",
            "apple\n",
            "apple\n",
            "apple\n",
            "apple\n",
            "apple\n",
            "apple\n",
            "apple\n",
            "apple\n",
            "apple\n",
            "apple\n",
            "apple\n",
            "apple\n",
            "apple\n",
            "apple\n",
            "apple\n",
            "apple\n",
            "apple\n",
            "apple\n",
            "apple\n",
            "apple\n",
            "apple\n",
            "apple\n",
            "apple\n",
            "apple\n",
            "apple\n",
            "apple\n",
            "apple\n",
            "apple\n",
            "apple\n",
            "apple\n",
            "apple\n",
            "apple\n",
            "apple\n",
            "apple\n",
            "apple\n",
            "apple\n",
            "apple\n",
            "apple\n",
            "apple\n",
            "apple\n",
            "apple\n",
            "apple\n",
            "apple\n",
            "apple\n",
            "apple\n",
            "apple\n",
            "apple\n",
            "apple\n",
            "apple\n",
            "apple\n",
            "apple\n",
            "apple\n",
            "apple\n",
            "apple\n",
            "apple\n",
            "apple\n",
            "apple\n",
            "apple\n",
            "apple\n",
            "apple\n",
            "apple\n",
            "apple\n",
            "apple\n",
            "apple\n",
            "apple\n",
            "apple\n",
            "apple\n",
            "apple\n",
            "apple\n",
            "apple\n",
            "apple\n",
            "apple\n",
            "apple\n",
            "apple\n",
            "apple\n",
            "apple\n",
            "apple\n",
            "apple\n",
            "apple\n",
            "apple\n",
            "apple\n",
            "apple\n",
            "apple\n",
            "apple\n",
            "apple\n",
            "apple\n",
            "apple\n",
            "apple\n",
            "apple\n",
            "apple\n",
            "apple\n",
            "apple\n",
            "apple\n",
            "apple\n",
            "apple\n",
            "apple\n",
            "apple\n",
            "apple\n",
            "apple\n",
            "apple\n",
            "apple\n",
            "apple\n",
            "apple\n",
            "apple\n",
            "apple\n",
            "apple\n",
            "apple\n",
            "apple\n",
            "apple\n",
            "apple\n",
            "apple\n",
            "apple\n",
            "apple\n",
            "apple\n",
            "apple\n",
            "apple\n",
            "apple\n",
            "apple\n",
            "apple\n",
            "apple\n",
            "apple\n",
            "apple\n",
            "apple\n",
            "apple\n",
            "apple\n",
            "apple\n",
            "apple\n",
            "apple\n",
            "apple\n",
            "apple\n",
            "apple\n",
            "apple\n",
            "apple\n",
            "apple\n",
            "apple\n",
            "apple\n",
            "apple\n",
            "apple\n",
            "apple\n",
            "apple\n",
            "apple\n",
            "apple\n",
            "apple\n",
            "apple\n",
            "apple\n",
            "apple\n",
            "apple\n",
            "apple\n",
            "apple\n",
            "apple\n",
            "apple\n",
            "apple\n",
            "apple\n",
            "apple\n",
            "apple\n",
            "apple\n",
            "apple\n",
            "apple\n",
            "apple\n",
            "apple\n",
            "apple\n",
            "apple\n",
            "apple\n",
            "apple\n",
            "apple\n",
            "apple\n",
            "apple\n",
            "apple\n",
            "apple\n",
            "apple\n",
            "apple\n",
            "apple\n",
            "apple\n",
            "apple\n",
            "apple\n",
            "apple\n",
            "apple\n",
            "apple\n",
            "apple\n",
            "apple\n",
            "apple\n",
            "apple\n",
            "apple\n",
            "apple\n",
            "apple\n",
            "apple\n",
            "apple\n",
            "apple\n",
            "apple\n",
            "apple\n",
            "apple\n",
            "apple\n",
            "apple\n",
            "apple\n",
            "apple\n",
            "apple\n",
            "apple\n",
            "apple\n",
            "apple\n",
            "apple\n",
            "apple\n",
            "apple\n",
            "apple\n",
            "apple\n",
            "apple\n",
            "apple\n",
            "apple\n",
            "apple\n",
            "apple\n",
            "apple\n",
            "apple\n",
            "apple\n",
            "apple\n",
            "apple\n",
            "apple\n",
            "apple\n",
            "apple\n",
            "apple\n",
            "apple\n",
            "apple\n",
            "apple\n",
            "apple\n",
            "apple\n",
            "apple\n",
            "apple\n",
            "apple\n",
            "apple\n",
            "apple\n",
            "apple\n",
            "apple\n",
            "apple\n",
            "apple\n",
            "apple\n",
            "apple\n",
            "apple\n",
            "apple\n",
            "apple\n",
            "apple\n",
            "apple\n",
            "apple\n",
            "apple\n",
            "apple\n",
            "apple\n",
            "apple\n",
            "apple\n",
            "apple\n",
            "apple\n",
            "apple\n",
            "apple\n",
            "apple\n",
            "apple\n",
            "apple\n",
            "apple\n",
            "apple\n",
            "apple\n",
            "apple\n",
            "apple\n",
            "apple\n",
            "apple\n",
            "apple\n",
            "apple\n",
            "apple\n",
            "apple\n",
            "apple\n",
            "apple\n",
            "apple\n",
            "apple\n",
            "apple\n",
            "apple\n",
            "apple\n",
            "apple\n",
            "apple\n",
            "apple\n",
            "apple\n",
            "apple\n",
            "apple\n",
            "apple\n",
            "apple\n",
            "apple\n",
            "apple\n",
            "apple\n",
            "apple\n",
            "apple\n",
            "apple\n",
            "apple\n",
            "apple\n",
            "apple\n",
            "apple\n",
            "apple\n",
            "apple\n",
            "apple\n",
            "apple\n",
            "apple\n",
            "apple\n",
            "apple\n",
            "apple\n",
            "apple\n",
            "apple\n",
            "apple\n",
            "apple\n",
            "apple\n",
            "apple\n",
            "apple\n",
            "apple\n",
            "apple\n",
            "apple\n",
            "apple\n",
            "apple\n",
            "apple\n",
            "apple\n",
            "apple\n",
            "apple\n",
            "apple\n",
            "apple\n",
            "apple\n",
            "apple\n",
            "apple\n",
            "apple\n",
            "apple\n",
            "apple\n",
            "apple\n",
            "apple\n",
            "apple\n",
            "apple\n",
            "apple\n",
            "apple\n",
            "apple\n",
            "apple\n",
            "apple\n",
            "apple\n",
            "apple\n",
            "apple\n",
            "apple\n",
            "apple\n",
            "apple\n",
            "apple\n",
            "apple\n",
            "apple\n",
            "apple\n",
            "apple\n",
            "apple\n",
            "apple\n",
            "apple\n",
            "apple\n",
            "apple\n",
            "apple\n",
            "apple\n",
            "apple\n",
            "apple\n",
            "apple\n",
            "apple\n",
            "apple\n",
            "apple\n",
            "apple\n",
            "apple\n",
            "apple\n",
            "apple\n",
            "apple\n",
            "apple\n",
            "apple\n",
            "apple\n",
            "apple\n",
            "apple\n",
            "apple\n",
            "apple\n",
            "apple\n",
            "apple\n",
            "apple\n",
            "apple\n",
            "apple\n",
            "apple\n",
            "apple\n",
            "apple\n",
            "apple\n",
            "apple\n",
            "apple\n",
            "apple\n",
            "apple\n",
            "apple\n",
            "apple\n",
            "apple\n",
            "apple\n",
            "apple\n",
            "apple\n",
            "apple\n",
            "apple\n",
            "apple\n",
            "apple\n",
            "apple\n",
            "apple\n",
            "apple\n",
            "apple\n",
            "apple\n",
            "apple\n",
            "apple\n",
            "apple\n",
            "apple\n",
            "apple\n",
            "apple\n",
            "apple\n",
            "apple\n",
            "apple\n",
            "apple\n",
            "apple\n",
            "apple\n",
            "apple\n",
            "apple\n",
            "apple\n",
            "apple\n",
            "apple\n",
            "apple\n",
            "apple\n",
            "apple\n",
            "apple\n",
            "apple\n",
            "apple\n",
            "apple\n",
            "apple\n",
            "apple\n",
            "apple\n",
            "apple\n",
            "apple\n",
            "apple\n",
            "apple\n",
            "apple\n",
            "apple\n",
            "apple\n",
            "apple\n",
            "apple\n",
            "apple\n",
            "apple\n",
            "apple\n",
            "apple\n",
            "apple\n",
            "apple\n",
            "apple\n",
            "apple\n",
            "apple\n",
            "apple\n",
            "apple\n",
            "apple\n",
            "apple\n",
            "apple\n",
            "apple\n",
            "apple\n",
            "apple\n",
            "apple\n",
            "apple\n",
            "apple\n",
            "apple\n",
            "apple\n",
            "apple\n",
            "apple\n",
            "apple\n",
            "apple\n",
            "apple\n",
            "apple\n",
            "apple\n",
            "apple\n",
            "apple\n",
            "apple\n",
            "apple\n",
            "apple\n",
            "apple\n",
            "apple\n",
            "apple\n",
            "apple\n",
            "apple\n",
            "apple\n",
            "apple\n",
            "apple\n",
            "apple\n",
            "apple\n",
            "apple\n",
            "apple\n",
            "apple\n",
            "apple\n",
            "apple\n",
            "apple\n",
            "apple\n",
            "apple\n",
            "apple\n",
            "apple\n",
            "apple\n",
            "apple\n",
            "apple\n",
            "apple\n",
            "apple\n",
            "apple\n",
            "apple\n",
            "apple\n",
            "apple\n",
            "apple\n",
            "apple\n",
            "apple\n",
            "apple\n",
            "apple\n",
            "apple\n",
            "apple\n",
            "apple\n",
            "apple\n",
            "apple\n",
            "apple\n",
            "apple\n",
            "apple\n",
            "apple\n",
            "apple\n",
            "apple\n",
            "apple\n",
            "apple\n",
            "apple\n",
            "apple\n",
            "apple\n",
            "apple\n",
            "apple\n",
            "apple\n",
            "apple\n",
            "apple\n",
            "apple\n",
            "apple\n",
            "apple\n",
            "apple\n",
            "apple\n",
            "apple\n",
            "apple\n",
            "apple\n",
            "apple\n",
            "apple\n",
            "apple\n",
            "apple\n",
            "apple\n",
            "apple\n",
            "apple\n",
            "apple\n",
            "apple\n",
            "apple\n",
            "apple\n",
            "apple\n",
            "apple\n",
            "apple\n",
            "apple\n",
            "apple\n",
            "apple\n",
            "apple\n",
            "apple\n",
            "apple\n",
            "apple\n",
            "apple\n",
            "apple\n",
            "apple\n",
            "apple\n",
            "apple\n",
            "apple\n",
            "apple\n",
            "apple\n",
            "apple\n",
            "apple\n",
            "apple\n",
            "apple\n",
            "apple\n",
            "apple\n",
            "apple\n",
            "apple\n",
            "apple\n",
            "apple\n",
            "apple\n",
            "apple\n",
            "apple\n",
            "apple\n",
            "apple\n",
            "apple\n",
            "apple\n",
            "apple\n",
            "apple\n",
            "apple\n",
            "apple\n",
            "apple\n",
            "apple\n",
            "apple\n",
            "apple\n",
            "apple\n",
            "apple\n",
            "apple\n",
            "apple\n",
            "apple\n",
            "apple\n",
            "apple\n",
            "apple\n",
            "apple\n",
            "apple\n",
            "apple\n",
            "apple\n",
            "apple\n",
            "apple\n",
            "apple\n",
            "apple\n",
            "apple\n",
            "apple\n",
            "apple\n",
            "apple\n",
            "apple\n",
            "apple\n",
            "apple\n",
            "apple\n",
            "apple\n",
            "apple\n",
            "apple\n",
            "apple\n",
            "apple\n",
            "apple\n",
            "apple\n",
            "apple\n",
            "apple\n",
            "apple\n",
            "apple\n",
            "apple\n",
            "apple\n",
            "apple\n",
            "apple\n",
            "apple\n",
            "apple\n",
            "apple\n",
            "apple\n",
            "apple\n",
            "apple\n",
            "apple\n",
            "apple\n",
            "apple\n",
            "apple\n",
            "apple\n",
            "apple\n",
            "apple\n",
            "apple\n",
            "apple\n",
            "apple\n",
            "apple\n",
            "apple\n",
            "apple\n",
            "apple\n",
            "apple\n",
            "apple\n",
            "apple\n",
            "apple\n",
            "apple\n",
            "apple\n",
            "apple\n",
            "apple\n",
            "apple\n",
            "apple\n",
            "apple\n",
            "apple\n",
            "apple\n",
            "apple\n",
            "apple\n",
            "apple\n",
            "apple\n",
            "apple\n",
            "apple\n",
            "apple\n",
            "apple\n",
            "apple\n",
            "apple\n",
            "apple\n",
            "apple\n",
            "apple\n",
            "apple\n",
            "apple\n",
            "apple\n",
            "apple\n",
            "apple\n",
            "apple\n",
            "apple\n",
            "apple\n",
            "apple\n",
            "apple\n",
            "apple\n",
            "apple\n",
            "apple\n",
            "apple\n",
            "apple\n",
            "apple\n",
            "apple\n",
            "apple\n",
            "apple\n",
            "apple\n",
            "apple\n",
            "apple\n",
            "apple\n",
            "apple\n",
            "apple\n",
            "apple\n",
            "apple\n",
            "apple\n",
            "apple\n",
            "apple\n",
            "apple\n",
            "apple\n",
            "apple\n",
            "apple\n",
            "apple\n",
            "apple\n",
            "apple\n",
            "apple\n",
            "apple\n",
            "apple\n",
            "apple\n",
            "apple\n",
            "apple\n",
            "apple\n",
            "apple\n",
            "apple\n",
            "apple\n",
            "apple\n",
            "apple\n",
            "apple\n",
            "apple\n",
            "apple\n",
            "apple\n",
            "apple\n",
            "apple\n",
            "apple\n",
            "apple\n",
            "apple\n",
            "apple\n",
            "apple\n",
            "apple\n",
            "apple\n",
            "apple\n",
            "apple\n",
            "apple\n",
            "apple\n",
            "apple\n",
            "apple\n",
            "apple\n",
            "apple\n",
            "apple\n",
            "apple\n",
            "apple\n",
            "apple\n",
            "apple\n",
            "apple\n",
            "apple\n",
            "apple\n",
            "apple\n",
            "apple\n",
            "apple\n",
            "apple\n",
            "apple\n",
            "apple\n",
            "apple\n",
            "apple\n",
            "apple\n",
            "apple\n",
            "apple\n",
            "apple\n",
            "apple\n",
            "apple\n",
            "apple\n",
            "apple\n",
            "apple\n",
            "apple\n",
            "apple\n",
            "apple\n",
            "apple\n",
            "apple\n",
            "apple\n",
            "apple\n",
            "apple\n",
            "apple\n",
            "apple\n",
            "apple\n",
            "apple\n",
            "apple\n",
            "apple\n",
            "apple\n",
            "apple\n",
            "apple\n",
            "apple\n",
            "apple\n",
            "apple\n",
            "apple\n",
            "apple\n",
            "apple\n",
            "apple\n",
            "apple\n",
            "apple\n",
            "apple\n",
            "apple\n",
            "apple\n",
            "apple\n",
            "apple\n",
            "apple\n",
            "apple\n",
            "apple\n",
            "apple\n",
            "apple\n",
            "apple\n",
            "apple\n",
            "apple\n",
            "apple\n",
            "apple\n",
            "apple\n",
            "apple\n",
            "apple\n",
            "apple\n",
            "apple\n",
            "apple\n",
            "apple\n",
            "apple\n",
            "apple\n",
            "apple\n",
            "apple\n",
            "apple\n",
            "apple\n",
            "apple\n",
            "apple\n",
            "apple\n",
            "apple\n",
            "apple\n",
            "apple\n",
            "apple\n",
            "apple\n",
            "apple\n",
            "apple\n",
            "apple\n",
            "apple\n",
            "apple\n",
            "apple\n",
            "apple\n",
            "apple\n",
            "apple\n",
            "apple\n",
            "apple\n",
            "apple\n",
            "apple\n",
            "apple\n",
            "apple\n",
            "apple\n",
            "apple\n",
            "apple\n",
            "apple\n",
            "apple\n",
            "apple\n",
            "apple\n",
            "apple\n",
            "apple\n",
            "apple\n",
            "apple\n",
            "apple\n",
            "apple\n",
            "apple\n",
            "apple\n",
            "apple\n",
            "apple\n",
            "apple\n",
            "apple\n",
            "apple\n",
            "apple\n",
            "apple\n",
            "apple\n",
            "apple\n",
            "apple\n",
            "apple\n",
            "apple\n",
            "apple\n",
            "apple\n",
            "apple\n",
            "apple\n",
            "apple\n",
            "apple\n",
            "apple\n",
            "apple\n",
            "apple\n",
            "apple\n",
            "apple\n",
            "apple\n",
            "apple\n",
            "apple\n",
            "apple\n",
            "apple\n",
            "apple\n",
            "apple\n",
            "apple\n",
            "apple\n",
            "apple\n",
            "apple\n",
            "apple\n",
            "apple\n",
            "apple\n",
            "apple\n",
            "apple\n",
            "apple\n",
            "apple\n",
            "apple\n",
            "apple\n",
            "apple\n",
            "apple\n",
            "apple\n",
            "apple\n",
            "apple\n",
            "apple\n",
            "apple\n",
            "apple\n",
            "apple\n",
            "apple\n",
            "apple\n",
            "apple\n",
            "apple\n",
            "apple\n",
            "apple\n",
            "apple\n",
            "apple\n",
            "apple\n",
            "apple\n",
            "apple\n",
            "apple\n",
            "apple\n",
            "apple\n",
            "apple\n",
            "apple\n",
            "apple\n",
            "apple\n",
            "apple\n",
            "apple\n",
            "apple\n",
            "apple\n",
            "apple\n",
            "apple\n",
            "apple\n",
            "apple\n",
            "apple\n",
            "apple\n",
            "apple\n",
            "apple\n",
            "apple\n",
            "apple\n",
            "apple\n",
            "apple\n",
            "apple\n",
            "apple\n",
            "apple\n",
            "apple\n",
            "apple\n",
            "apple\n",
            "apple\n",
            "apple\n",
            "apple\n",
            "apple\n",
            "apple\n",
            "apple\n",
            "apple\n",
            "apple\n",
            "apple\n",
            "apple\n",
            "apple\n",
            "apple\n",
            "apple\n",
            "apple\n",
            "apple\n",
            "apple\n",
            "apple\n",
            "apple\n",
            "apple\n",
            "apple\n",
            "apple\n",
            "apple\n",
            "apple\n",
            "apple\n",
            "apple\n",
            "apple\n",
            "apple\n",
            "apple\n",
            "apple\n",
            "apple\n",
            "apple\n",
            "apple\n",
            "apple\n",
            "apple\n",
            "apple\n",
            "apple\n",
            "apple\n",
            "apple\n",
            "apple\n",
            "apple\n",
            "apple\n",
            "apple\n",
            "apple\n",
            "apple\n",
            "apple\n",
            "apple\n",
            "apple\n",
            "apple\n",
            "apple\n",
            "apple\n",
            "apple\n",
            "apple\n",
            "apple\n",
            "apple\n",
            "apple\n",
            "apple\n",
            "apple\n",
            "apple\n",
            "apple\n",
            "apple\n",
            "apple\n",
            "apple\n",
            "apple\n",
            "apple\n",
            "apple\n",
            "apple\n",
            "apple\n",
            "apple\n",
            "apple\n",
            "apple\n",
            "apple\n",
            "apple\n",
            "apple\n",
            "apple\n",
            "apple\n",
            "apple\n",
            "apple\n",
            "apple\n",
            "apple\n",
            "apple\n",
            "apple\n",
            "apple\n",
            "apple\n",
            "apple\n",
            "apple\n",
            "apple\n",
            "apple\n",
            "apple\n",
            "apple\n",
            "apple\n",
            "apple\n",
            "apple\n",
            "apple\n",
            "apple\n",
            "apple\n",
            "apple\n",
            "apple\n",
            "apple\n",
            "apple\n",
            "apple\n",
            "apple\n",
            "apple\n",
            "apple\n",
            "apple\n",
            "apple\n",
            "apple\n",
            "apple\n",
            "apple\n",
            "apple\n",
            "apple\n",
            "apple\n",
            "apple\n",
            "apple\n",
            "apple\n",
            "apple\n",
            "apple\n",
            "apple\n",
            "apple\n",
            "apple\n",
            "apple\n",
            "apple\n",
            "apple\n",
            "apple\n",
            "apple\n",
            "apple\n",
            "apple\n",
            "apple\n",
            "apple\n",
            "apple\n",
            "apple\n",
            "apple\n",
            "apple\n",
            "apple\n",
            "apple\n",
            "apple\n",
            "apple\n",
            "apple\n",
            "apple\n",
            "apple\n",
            "apple\n",
            "apple\n",
            "apple\n",
            "apple\n",
            "apple\n",
            "apple\n",
            "apple\n",
            "apple\n",
            "apple\n",
            "apple\n",
            "apple\n",
            "apple\n",
            "apple\n",
            "apple\n",
            "apple\n",
            "apple\n",
            "apple\n",
            "apple\n",
            "apple\n",
            "apple\n",
            "apple\n",
            "apple\n",
            "apple\n",
            "apple\n",
            "apple\n",
            "apple\n",
            "apple\n",
            "apple\n",
            "apple\n",
            "apple\n",
            "apple\n",
            "apple\n",
            "apple\n",
            "apple\n",
            "apple\n",
            "apple\n",
            "apple\n",
            "apple\n",
            "apple\n",
            "apple\n",
            "apple\n",
            "apple\n",
            "apple\n",
            "apple\n",
            "apple\n",
            "apple\n",
            "apple\n",
            "apple\n",
            "apple\n",
            "apple\n",
            "apple\n",
            "apple\n",
            "apple\n",
            "apple\n",
            "apple\n",
            "apple\n",
            "apple\n",
            "apple\n",
            "apple\n",
            "apple\n",
            "apple\n",
            "apple\n",
            "apple\n",
            "apple\n",
            "apple\n",
            "apple\n",
            "apple\n",
            "apple\n",
            "apple\n",
            "apple\n",
            "apple\n",
            "apple\n",
            "apple\n",
            "apple\n",
            "apple\n",
            "apple\n",
            "apple\n",
            "apple\n",
            "apple\n",
            "apple\n",
            "apple\n",
            "apple\n",
            "apple\n",
            "apple\n",
            "apple\n",
            "apple\n",
            "apple\n",
            "apple\n",
            "apple\n",
            "apple\n",
            "apple\n",
            "apple\n",
            "apple\n",
            "apple\n",
            "apple\n",
            "apple\n",
            "apple\n",
            "apple\n",
            "apple\n",
            "apple\n",
            "apple\n",
            "apple\n",
            "apple\n",
            "apple\n",
            "apple\n",
            "apple\n",
            "apple\n",
            "apple\n",
            "apple\n",
            "apple\n",
            "apple\n",
            "apple\n",
            "apple\n",
            "apple\n",
            "apple\n",
            "apple\n",
            "apple\n",
            "apple\n",
            "apple\n",
            "apple\n",
            "apple\n",
            "apple\n",
            "apple\n",
            "apple\n",
            "apple\n",
            "apple\n",
            "apple\n",
            "apple\n",
            "apple\n",
            "apple\n",
            "apple\n",
            "apple\n",
            "apple\n",
            "apple\n",
            "apple\n",
            "apple\n",
            "apple\n",
            "apple\n",
            "apple\n",
            "apple\n",
            "apple\n",
            "apple\n",
            "apple\n",
            "apple\n",
            "apple\n",
            "apple\n",
            "apple\n",
            "apple\n",
            "apple\n",
            "apple\n",
            "apple\n",
            "apple\n",
            "apple\n",
            "apple\n",
            "apple\n",
            "apple\n",
            "apple\n",
            "apple\n",
            "apple\n",
            "apple\n",
            "apple\n",
            "apple\n",
            "apple\n",
            "apple\n",
            "apple\n",
            "apple\n",
            "apple\n",
            "apple\n",
            "apple\n",
            "apple\n",
            "apple\n",
            "apple\n",
            "apple\n",
            "apple\n",
            "apple\n",
            "apple\n",
            "apple\n",
            "apple\n",
            "apple\n",
            "apple\n",
            "apple\n",
            "apple\n",
            "apple\n",
            "apple\n",
            "apple\n",
            "apple\n",
            "apple\n",
            "apple\n",
            "apple\n",
            "apple\n",
            "apple\n",
            "apple\n",
            "apple\n",
            "apple\n",
            "apple\n",
            "apple\n",
            "apple\n",
            "apple\n",
            "apple\n",
            "apple\n",
            "apple\n",
            "apple\n",
            "apple\n",
            "apple\n",
            "apple\n",
            "apple\n",
            "apple\n",
            "apple\n",
            "apple\n",
            "apple\n",
            "apple\n",
            "apple\n",
            "apple\n",
            "apple\n",
            "apple\n",
            "apple\n",
            "apple\n",
            "apple\n",
            "apple\n",
            "apple\n",
            "apple\n",
            "apple\n",
            "apple\n",
            "apple\n",
            "apple\n",
            "apple\n",
            "apple\n",
            "apple\n",
            "apple\n",
            "apple\n",
            "apple\n",
            "apple\n",
            "apple\n",
            "apple\n",
            "apple\n",
            "apple\n",
            "apple\n",
            "apple\n",
            "apple\n",
            "apple\n",
            "apple\n",
            "apple\n",
            "apple\n",
            "apple\n",
            "apple\n",
            "apple\n",
            "apple\n",
            "apple\n",
            "apple\n",
            "apple\n",
            "apple\n",
            "apple\n",
            "apple\n",
            "apple\n",
            "apple\n",
            "apple\n",
            "apple\n",
            "apple\n",
            "apple\n",
            "apple\n",
            "apple\n",
            "apple\n",
            "apple\n",
            "apple\n",
            "apple\n",
            "apple\n",
            "apple\n",
            "apple\n",
            "apple\n",
            "apple\n",
            "apple\n",
            "apple\n",
            "apple\n",
            "apple\n",
            "apple\n",
            "apple\n",
            "apple\n",
            "apple\n",
            "apple\n",
            "apple\n",
            "apple\n",
            "apple\n",
            "apple\n",
            "apple\n",
            "apple\n",
            "apple\n",
            "apple\n",
            "apple\n",
            "apple\n",
            "apple\n",
            "apple\n",
            "apple\n",
            "apple\n",
            "apple\n",
            "apple\n",
            "apple\n",
            "apple\n",
            "apple\n",
            "apple\n",
            "apple\n",
            "apple\n",
            "apple\n",
            "apple\n",
            "apple\n",
            "apple\n",
            "apple\n",
            "apple\n",
            "apple\n",
            "apple\n",
            "apple\n",
            "apple\n",
            "apple\n",
            "apple\n",
            "apple\n",
            "apple\n",
            "apple\n",
            "apple\n",
            "apple\n",
            "apple\n",
            "apple\n",
            "apple\n",
            "apple\n",
            "apple\n",
            "apple\n",
            "apple\n",
            "apple\n",
            "apple\n",
            "apple\n",
            "apple\n",
            "apple\n",
            "apple\n",
            "apple\n",
            "apple\n",
            "apple\n",
            "apple\n",
            "apple\n",
            "apple\n",
            "apple\n",
            "apple\n",
            "apple\n",
            "apple\n",
            "apple\n",
            "apple\n",
            "apple\n",
            "apple\n",
            "apple\n",
            "apple\n",
            "apple\n",
            "apple\n",
            "apple\n",
            "apple\n",
            "apple\n",
            "apple\n",
            "apple\n",
            "apple\n",
            "apple\n",
            "apple\n",
            "apple\n",
            "apple\n",
            "apple\n",
            "apple\n",
            "apple\n",
            "apple\n",
            "apple\n",
            "apple\n",
            "apple\n",
            "apple\n",
            "apple\n",
            "apple\n",
            "apple\n",
            "apple\n",
            "apple\n",
            "apple\n",
            "apple\n",
            "apple\n",
            "apple\n",
            "apple\n",
            "apple\n",
            "apple\n",
            "apple\n",
            "apple\n",
            "apple\n",
            "apple\n",
            "apple\n",
            "apple\n",
            "apple\n",
            "apple\n",
            "apple\n",
            "apple\n",
            "apple\n",
            "apple\n",
            "apple\n",
            "apple\n",
            "apple\n",
            "apple\n",
            "apple\n",
            "apple\n",
            "apple\n",
            "apple\n",
            "apple\n",
            "apple\n",
            "apple\n",
            "apple\n",
            "apple\n",
            "apple\n",
            "apple\n",
            "apple\n",
            "apple\n",
            "apple\n",
            "apple\n",
            "apple\n",
            "apple\n",
            "apple\n",
            "apple\n",
            "apple\n",
            "apple\n",
            "apple\n",
            "apple\n",
            "apple\n",
            "apple\n",
            "apple\n",
            "apple\n",
            "apple\n",
            "apple\n",
            "apple\n",
            "apple\n",
            "apple\n",
            "apple\n",
            "apple\n",
            "apple\n",
            "apple\n",
            "apple\n",
            "apple\n",
            "apple\n",
            "apple\n",
            "apple\n",
            "apple\n",
            "apple\n",
            "apple\n",
            "apple\n",
            "apple\n",
            "apple\n",
            "apple\n",
            "apple\n",
            "apple\n",
            "apple\n",
            "apple\n",
            "apple\n",
            "apple\n",
            "apple\n",
            "apple\n",
            "apple\n",
            "apple\n",
            "apple\n",
            "apple\n",
            "apple\n",
            "apple\n",
            "apple\n",
            "apple\n",
            "apple\n",
            "apple\n",
            "apple\n",
            "apple\n",
            "apple\n",
            "apple\n",
            "apple\n",
            "apple\n",
            "apple\n",
            "apple\n",
            "apple\n",
            "apple\n",
            "apple\n",
            "apple\n",
            "apple\n",
            "apple\n",
            "apple\n",
            "apple\n",
            "apple\n",
            "apple\n",
            "apple\n",
            "apple\n",
            "apple\n",
            "apple\n",
            "apple\n",
            "apple\n",
            "apple\n",
            "apple\n",
            "apple\n",
            "apple\n",
            "apple\n",
            "apple\n",
            "apple\n",
            "apple\n",
            "apple\n",
            "apple\n",
            "apple\n",
            "apple\n",
            "apple\n",
            "apple\n",
            "apple\n",
            "apple\n",
            "apple\n",
            "apple\n",
            "apple\n",
            "apple\n",
            "apple\n",
            "apple\n",
            "apple\n",
            "apple\n",
            "apple\n",
            "apple\n",
            "apple\n",
            "apple\n",
            "apple\n",
            "apple\n",
            "apple\n",
            "apple\n",
            "apple\n",
            "apple\n",
            "apple\n",
            "apple\n",
            "apple\n",
            "apple\n",
            "apple\n",
            "apple\n",
            "apple\n",
            "apple\n",
            "apple\n",
            "apple\n",
            "apple\n",
            "apple\n",
            "apple\n",
            "apple\n",
            "apple\n",
            "apple\n",
            "apple\n",
            "apple\n",
            "apple\n",
            "apple\n",
            "apple\n",
            "apple\n",
            "apple\n",
            "apple\n",
            "apple\n",
            "apple\n",
            "apple\n",
            "apple\n",
            "apple\n",
            "apple\n",
            "apple\n",
            "apple\n",
            "apple\n",
            "apple\n",
            "apple\n",
            "apple\n",
            "apple\n",
            "apple\n",
            "apple\n",
            "apple\n",
            "apple\n",
            "apple\n",
            "apple\n",
            "apple\n",
            "apple\n",
            "apple\n",
            "apple\n",
            "apple\n",
            "apple\n",
            "apple\n",
            "apple\n",
            "apple\n",
            "apple\n",
            "apple\n",
            "apple\n",
            "apple\n",
            "apple\n",
            "apple\n",
            "apple\n",
            "apple\n",
            "apple\n",
            "apple\n",
            "apple\n",
            "apple\n",
            "apple\n",
            "apple\n",
            "apple\n",
            "apple\n",
            "apple\n",
            "apple\n",
            "apple\n",
            "apple\n",
            "apple\n",
            "apple\n",
            "apple\n",
            "apple\n",
            "apple\n",
            "apple\n",
            "apple\n",
            "apple\n",
            "apple\n",
            "apple\n",
            "apple\n",
            "apple\n",
            "apple\n",
            "apple\n",
            "apple\n",
            "apple\n",
            "apple\n",
            "apple\n",
            "apple\n",
            "apple\n",
            "apple\n",
            "apple\n",
            "apple\n",
            "apple\n",
            "apple\n",
            "apple\n",
            "apple\n",
            "apple\n",
            "apple\n",
            "apple\n",
            "apple\n",
            "apple\n",
            "apple\n",
            "apple\n",
            "apple\n",
            "apple\n",
            "apple\n",
            "apple\n",
            "apple\n",
            "apple\n",
            "apple\n",
            "apple\n",
            "apple\n",
            "apple\n",
            "apple\n",
            "apple\n",
            "apple\n",
            "apple\n",
            "apple\n",
            "apple\n",
            "apple\n",
            "apple\n",
            "apple\n",
            "apple\n",
            "apple\n",
            "apple\n",
            "apple\n",
            "apple\n",
            "apple\n",
            "apple\n",
            "apple\n",
            "apple\n",
            "apple\n",
            "apple\n",
            "apple\n",
            "apple\n",
            "apple\n",
            "apple\n",
            "apple\n",
            "apple\n",
            "apple\n",
            "apple\n",
            "apple\n",
            "apple\n",
            "apple\n",
            "apple\n",
            "apple\n",
            "apple\n",
            "apple\n",
            "apple\n",
            "apple\n",
            "apple\n",
            "apple\n",
            "apple\n",
            "apple\n",
            "apple\n",
            "apple\n",
            "apple\n",
            "apple\n",
            "apple\n",
            "apple\n",
            "apple\n",
            "apple\n",
            "apple\n",
            "apple\n",
            "apple\n",
            "apple\n",
            "apple\n",
            "apple\n",
            "apple\n",
            "apple\n",
            "apple\n",
            "apple\n",
            "apple\n",
            "apple\n",
            "apple\n",
            "apple\n",
            "apple\n",
            "apple\n",
            "apple\n",
            "apple\n",
            "apple\n",
            "apple\n",
            "apple\n",
            "apple\n",
            "apple\n",
            "apple\n",
            "apple\n",
            "apple\n",
            "apple\n",
            "apple\n",
            "apple\n",
            "apple\n",
            "apple\n",
            "apple\n",
            "apple\n",
            "apple\n",
            "apple\n",
            "apple\n",
            "apple\n",
            "apple\n",
            "apple\n",
            "apple\n",
            "apple\n",
            "apple\n",
            "apple\n",
            "apple\n",
            "apple\n",
            "apple\n",
            "apple\n",
            "apple\n",
            "apple\n",
            "apple\n",
            "apple\n",
            "apple\n",
            "apple\n",
            "apple\n",
            "apple\n",
            "apple\n",
            "apple\n",
            "apple\n",
            "apple\n",
            "apple\n",
            "apple\n",
            "apple\n",
            "apple\n",
            "apple\n",
            "apple\n",
            "apple\n",
            "apple\n",
            "apple\n",
            "apple\n",
            "apple\n",
            "apple\n",
            "apple\n",
            "apple\n",
            "apple\n",
            "apple\n",
            "apple\n",
            "apple\n",
            "apple\n",
            "apple\n",
            "apple\n",
            "apple\n",
            "apple\n",
            "apple\n",
            "apple\n",
            "apple\n",
            "apple\n",
            "apple\n",
            "apple\n",
            "apple\n",
            "apple\n",
            "apple\n",
            "apple\n",
            "apple\n",
            "apple\n",
            "apple\n",
            "apple\n",
            "apple\n",
            "apple\n",
            "apple\n",
            "apple\n",
            "apple\n",
            "apple\n",
            "apple\n",
            "apple\n",
            "apple\n",
            "apple\n",
            "apple\n",
            "apple\n",
            "apple\n",
            "apple\n",
            "apple\n",
            "apple\n",
            "apple\n",
            "apple\n",
            "apple\n",
            "apple\n",
            "apple\n",
            "apple\n",
            "apple\n",
            "apple\n",
            "apple\n",
            "apple\n",
            "apple\n",
            "apple\n",
            "apple\n",
            "apple\n",
            "apple\n",
            "apple\n",
            "apple\n",
            "apple\n",
            "apple\n",
            "apple\n",
            "apple\n",
            "apple\n",
            "apple\n",
            "apple\n",
            "apple\n",
            "apple\n",
            "apple\n",
            "apple\n",
            "apple\n",
            "apple\n",
            "apple\n",
            "apple\n",
            "apple\n",
            "apple\n",
            "apple\n",
            "apple\n",
            "apple\n",
            "apple\n",
            "apple\n",
            "apple\n",
            "apple\n",
            "apple\n",
            "apple\n",
            "apple\n",
            "apple\n",
            "apple\n",
            "apple\n",
            "apple\n",
            "apple\n",
            "apple\n",
            "apple\n",
            "apple\n",
            "apple\n",
            "apple\n",
            "apple\n",
            "apple\n",
            "apple\n",
            "apple\n",
            "apple\n",
            "apple\n",
            "apple\n",
            "apple\n",
            "apple\n",
            "apple\n",
            "apple\n",
            "apple\n",
            "apple\n",
            "apple\n",
            "apple\n",
            "apple\n",
            "apple\n",
            "apple\n",
            "apple\n",
            "apple\n",
            "apple\n",
            "apple\n",
            "apple\n",
            "apple\n",
            "apple\n",
            "apple\n",
            "apple\n",
            "apple\n",
            "apple\n",
            "apple\n",
            "apple\n",
            "apple\n",
            "apple\n",
            "apple\n",
            "apple\n",
            "apple\n",
            "apple\n",
            "apple\n",
            "apple\n",
            "apple\n",
            "apple\n",
            "apple\n",
            "apple\n",
            "apple\n",
            "apple\n",
            "apple\n",
            "apple\n",
            "apple\n",
            "apple\n",
            "apple\n",
            "apple\n",
            "apple\n",
            "apple\n",
            "apple\n",
            "apple\n",
            "apple\n",
            "apple\n",
            "apple\n",
            "apple\n",
            "apple\n",
            "apple\n",
            "apple\n",
            "apple\n",
            "apple\n",
            "apple\n",
            "apple\n",
            "apple\n",
            "apple\n",
            "apple\n",
            "apple\n",
            "apple\n",
            "apple\n",
            "apple\n",
            "apple\n",
            "apple\n",
            "apple\n",
            "apple\n",
            "apple\n",
            "apple\n",
            "apple\n",
            "apple\n",
            "apple\n",
            "apple\n",
            "apple\n",
            "apple\n",
            "apple\n",
            "apple\n",
            "apple\n",
            "apple\n",
            "apple\n",
            "apple\n",
            "apple\n",
            "apple\n",
            "apple\n",
            "apple\n",
            "apple\n",
            "apple\n",
            "apple\n",
            "apple\n",
            "apple\n",
            "apple\n",
            "apple\n",
            "apple\n",
            "apple\n",
            "apple\n",
            "apple\n",
            "apple\n",
            "apple\n",
            "apple\n",
            "apple\n",
            "apple\n",
            "apple\n",
            "apple\n",
            "apple\n",
            "apple\n",
            "apple\n",
            "apple\n",
            "apple\n",
            "apple\n",
            "apple\n",
            "apple\n",
            "apple\n",
            "apple\n",
            "apple\n",
            "apple\n",
            "apple\n",
            "apple\n",
            "apple\n",
            "apple\n",
            "apple\n",
            "apple\n",
            "apple\n",
            "apple\n",
            "apple\n",
            "apple\n",
            "apple\n",
            "apple\n",
            "apple\n",
            "apple\n",
            "apple\n",
            "apple\n",
            "apple\n",
            "apple\n",
            "apple\n",
            "apple\n",
            "apple\n",
            "apple\n",
            "apple\n",
            "apple\n",
            "apple\n",
            "apple\n",
            "apple\n",
            "apple\n",
            "apple\n",
            "apple\n",
            "apple\n",
            "apple\n",
            "apple\n",
            "apple\n",
            "apple\n",
            "apple\n",
            "apple\n",
            "apple\n",
            "apple\n",
            "apple\n",
            "apple\n",
            "apple\n",
            "apple\n",
            "apple\n",
            "apple\n",
            "apple\n",
            "apple\n",
            "apple\n",
            "apple\n",
            "apple\n",
            "apple\n",
            "apple\n",
            "apple\n",
            "apple\n",
            "apple\n",
            "apple\n",
            "apple\n",
            "apple\n",
            "apple\n",
            "apple\n",
            "apple\n",
            "apple\n",
            "apple\n",
            "apple\n",
            "apple\n",
            "apple\n",
            "apple\n",
            "apple\n",
            "apple\n",
            "apple\n",
            "apple\n",
            "apple\n",
            "apple\n",
            "apple\n",
            "apple\n",
            "apple\n",
            "apple\n",
            "apple\n",
            "apple\n",
            "apple\n",
            "apple\n",
            "apple\n",
            "apple\n",
            "apple\n",
            "apple\n",
            "apple\n",
            "apple\n",
            "apple\n",
            "apple\n",
            "apple\n",
            "apple\n",
            "apple\n",
            "apple\n",
            "apple\n",
            "apple\n",
            "apple\n",
            "apple\n",
            "apple\n",
            "apple\n",
            "apple\n",
            "apple\n",
            "apple\n",
            "apple\n",
            "apple\n",
            "apple\n",
            "apple\n",
            "apple\n",
            "apple\n",
            "apple\n",
            "apple\n",
            "apple\n",
            "apple\n",
            "apple\n",
            "apple\n",
            "apple\n",
            "apple\n",
            "apple\n",
            "apple\n",
            "apple\n",
            "apple\n",
            "apple\n",
            "apple\n",
            "apple\n",
            "apple\n",
            "apple\n",
            "apple\n",
            "apple\n",
            "apple\n",
            "apple\n",
            "apple\n",
            "apple\n",
            "apple\n",
            "apple\n",
            "apple\n",
            "apple\n",
            "apple\n",
            "apple\n",
            "apple\n",
            "apple\n",
            "apple\n",
            "apple\n",
            "apple\n",
            "apple\n",
            "apple\n",
            "apple\n",
            "apple\n",
            "apple\n",
            "apple\n",
            "apple\n",
            "apple\n",
            "apple\n",
            "apple\n",
            "apple\n",
            "apple\n",
            "apple\n",
            "apple\n",
            "apple\n",
            "apple\n",
            "apple\n",
            "apple\n",
            "apple\n",
            "apple\n",
            "apple\n",
            "apple\n",
            "apple\n",
            "apple\n",
            "apple\n",
            "apple\n",
            "apple\n",
            "apple\n",
            "apple\n",
            "apple\n",
            "apple\n",
            "apple\n",
            "apple\n",
            "apple\n",
            "apple\n",
            "apple\n",
            "apple\n",
            "apple\n",
            "apple\n",
            "apple\n",
            "apple\n",
            "apple\n",
            "apple\n",
            "apple\n",
            "apple\n",
            "apple\n",
            "apple\n",
            "apple\n",
            "apple\n",
            "apple\n",
            "apple\n",
            "apple\n",
            "apple\n",
            "apple\n",
            "apple\n",
            "apple\n",
            "apple\n",
            "apple\n",
            "apple\n",
            "apple\n",
            "apple\n",
            "apple\n",
            "apple\n",
            "apple\n",
            "apple\n",
            "apple\n",
            "apple\n",
            "apple\n",
            "apple\n",
            "apple\n",
            "apple\n",
            "apple\n",
            "apple\n",
            "apple\n",
            "apple\n",
            "apple\n",
            "apple\n",
            "apple\n",
            "apple\n",
            "apple\n",
            "apple\n",
            "apple\n",
            "apple\n",
            "apple\n",
            "apple\n",
            "apple\n",
            "apple\n",
            "apple\n",
            "apple\n",
            "apple\n",
            "apple\n",
            "apple\n",
            "apple\n",
            "apple\n",
            "apple\n",
            "apple\n",
            "apple\n",
            "apple\n",
            "apple\n",
            "apple\n",
            "apple\n",
            "apple\n",
            "apple\n",
            "apple\n",
            "apple\n",
            "apple\n",
            "apple\n",
            "apple\n",
            "apple\n",
            "apple\n",
            "apple\n",
            "apple\n",
            "apple\n",
            "apple\n",
            "apple\n",
            "apple\n",
            "apple\n",
            "apple\n",
            "apple\n",
            "apple\n",
            "apple\n",
            "apple\n",
            "apple\n",
            "apple\n",
            "apple\n",
            "apple\n",
            "apple\n",
            "apple\n",
            "apple\n",
            "apple\n",
            "apple\n",
            "apple\n",
            "apple\n",
            "apple\n",
            "apple\n",
            "apple\n",
            "apple\n",
            "apple\n",
            "apple\n",
            "apple\n",
            "apple\n",
            "apple\n",
            "apple\n",
            "apple\n",
            "apple\n",
            "apple\n",
            "apple\n",
            "apple\n",
            "apple\n",
            "apple\n",
            "apple\n",
            "apple\n",
            "apple\n",
            "apple\n",
            "apple\n",
            "apple\n",
            "apple\n",
            "apple\n",
            "apple\n",
            "apple\n",
            "apple\n",
            "apple\n",
            "apple\n",
            "apple\n",
            "apple\n",
            "apple\n",
            "apple\n",
            "apple\n",
            "apple\n",
            "apple\n",
            "apple\n",
            "apple\n",
            "apple\n",
            "apple\n",
            "apple\n",
            "apple\n",
            "apple\n",
            "apple\n",
            "apple\n",
            "apple\n",
            "apple\n",
            "apple\n",
            "apple\n",
            "apple\n",
            "apple\n",
            "apple\n",
            "apple\n",
            "apple\n",
            "apple\n",
            "apple\n",
            "apple\n",
            "apple\n",
            "apple\n",
            "apple\n",
            "apple\n",
            "apple\n",
            "apple\n",
            "apple\n",
            "apple\n",
            "apple\n",
            "apple\n",
            "apple\n",
            "apple\n",
            "apple\n",
            "apple\n",
            "apple\n",
            "apple\n",
            "apple\n",
            "apple\n",
            "apple\n",
            "apple\n",
            "apple\n",
            "apple\n",
            "apple\n",
            "apple\n",
            "apple\n",
            "apple\n",
            "apple\n",
            "apple\n",
            "apple\n",
            "apple\n",
            "apple\n",
            "apple\n",
            "apple\n",
            "apple\n",
            "apple\n",
            "apple\n",
            "apple\n",
            "apple\n",
            "apple\n",
            "apple\n",
            "apple\n",
            "apple\n",
            "apple\n",
            "apple\n",
            "apple\n",
            "apple\n",
            "apple\n",
            "apple\n",
            "apple\n",
            "apple\n",
            "apple\n",
            "apple\n",
            "apple\n",
            "apple\n",
            "apple\n",
            "apple\n",
            "apple\n",
            "apple\n",
            "apple\n",
            "apple\n",
            "apple\n",
            "apple\n",
            "apple\n",
            "apple\n",
            "apple\n",
            "apple\n",
            "apple\n",
            "apple\n",
            "apple\n",
            "apple\n",
            "apple\n",
            "apple\n",
            "apple\n",
            "apple\n",
            "apple\n",
            "apple\n",
            "apple\n",
            "apple\n",
            "apple\n",
            "apple\n",
            "apple\n",
            "apple\n",
            "apple\n",
            "apple\n",
            "apple\n",
            "apple\n",
            "apple\n",
            "apple\n",
            "apple\n",
            "apple\n",
            "apple\n",
            "apple\n",
            "apple\n",
            "apple\n",
            "apple\n",
            "apple\n",
            "apple\n",
            "apple\n",
            "apple\n",
            "apple\n",
            "apple\n",
            "apple\n",
            "apple\n",
            "apple\n",
            "apple\n",
            "apple\n",
            "apple\n",
            "apple\n",
            "apple\n",
            "apple\n",
            "apple\n",
            "apple\n",
            "apple\n",
            "apple\n",
            "apple\n",
            "apple\n",
            "apple\n",
            "apple\n",
            "apple\n",
            "apple\n",
            "apple\n",
            "apple\n",
            "apple\n",
            "apple\n",
            "apple\n",
            "apple\n",
            "apple\n",
            "apple\n",
            "apple\n",
            "apple\n",
            "apple\n",
            "apple\n",
            "apple\n",
            "apple\n",
            "apple\n",
            "apple\n",
            "apple\n",
            "apple\n",
            "apple\n",
            "apple\n",
            "apple\n",
            "apple\n",
            "apple\n",
            "apple\n",
            "apple\n",
            "apple\n",
            "apple\n",
            "apple\n",
            "apple\n",
            "apple\n",
            "apple\n",
            "apple\n",
            "apple\n",
            "apple\n",
            "apple\n",
            "apple\n",
            "apple\n",
            "apple\n",
            "apple\n",
            "apple\n",
            "apple\n",
            "apple\n",
            "apple\n",
            "apple\n",
            "apple\n",
            "apple\n",
            "apple\n",
            "apple\n",
            "apple\n",
            "apple\n",
            "apple\n",
            "apple\n",
            "apple\n",
            "apple\n",
            "apple\n",
            "apple\n",
            "apple\n",
            "apple\n",
            "apple\n",
            "apple\n",
            "apple\n",
            "apple\n",
            "apple\n",
            "apple\n",
            "apple\n",
            "apple\n",
            "apple\n",
            "apple\n",
            "apple\n",
            "apple\n",
            "apple\n",
            "apple\n",
            "apple\n",
            "apple\n",
            "apple\n",
            "apple\n",
            "apple\n",
            "apple\n",
            "apple\n",
            "apple\n",
            "apple\n",
            "apple\n",
            "apple\n",
            "apple\n",
            "apple\n",
            "apple\n",
            "apple\n",
            "apple\n",
            "apple\n",
            "apple\n",
            "apple\n",
            "apple\n",
            "apple\n",
            "apple\n",
            "apple\n",
            "apple\n",
            "apple\n",
            "apple\n",
            "apple\n",
            "apple\n",
            "apple\n",
            "apple\n",
            "apple\n",
            "apple\n",
            "apple\n",
            "apple\n",
            "apple\n",
            "apple\n",
            "apple\n",
            "apple\n",
            "apple\n",
            "apple\n",
            "apple\n",
            "apple\n",
            "apple\n",
            "apple\n",
            "apple\n",
            "apple\n",
            "apple\n",
            "apple\n",
            "apple\n",
            "apple\n",
            "apple\n",
            "apple\n",
            "apple\n",
            "apple\n",
            "apple\n",
            "apple\n",
            "apple\n",
            "apple\n",
            "apple\n",
            "apple\n",
            "apple\n",
            "apple\n",
            "apple\n",
            "apple\n",
            "apple\n",
            "apple\n",
            "apple\n",
            "apple\n",
            "apple\n",
            "apple\n",
            "apple\n",
            "apple\n",
            "apple\n",
            "apple\n",
            "apple\n",
            "apple\n",
            "apple\n",
            "apple\n",
            "apple\n",
            "apple\n",
            "apple\n",
            "apple\n",
            "apple\n",
            "apple\n",
            "apple\n",
            "apple\n",
            "apple\n",
            "apple\n",
            "apple\n",
            "apple\n",
            "apple\n",
            "apple\n",
            "apple\n",
            "apple\n",
            "apple\n",
            "apple\n",
            "apple\n",
            "apple\n",
            "apple\n",
            "apple\n",
            "apple\n",
            "apple\n",
            "apple\n",
            "apple\n",
            "apple\n",
            "apple\n",
            "apple\n",
            "apple\n",
            "apple\n",
            "apple\n",
            "apple\n",
            "apple\n",
            "apple\n",
            "apple\n",
            "apple\n",
            "apple\n",
            "apple\n",
            "apple\n",
            "apple\n",
            "apple\n",
            "apple\n",
            "apple\n",
            "apple\n",
            "apple\n",
            "apple\n",
            "apple\n",
            "apple\n",
            "apple\n",
            "apple\n",
            "apple\n",
            "apple\n",
            "apple\n",
            "apple\n",
            "apple\n",
            "apple\n",
            "apple\n",
            "apple\n",
            "apple\n",
            "apple\n",
            "apple\n",
            "apple\n",
            "apple\n",
            "apple\n",
            "apple\n",
            "apple\n",
            "apple\n",
            "apple\n",
            "apple\n",
            "apple\n",
            "apple\n",
            "apple\n",
            "apple\n",
            "apple\n",
            "apple\n",
            "apple\n",
            "apple\n",
            "apple\n",
            "apple\n",
            "apple\n",
            "apple\n",
            "apple\n",
            "apple\n",
            "apple\n",
            "apple\n",
            "apple\n",
            "apple\n",
            "apple\n",
            "apple\n",
            "apple\n",
            "apple\n",
            "apple\n",
            "apple\n",
            "apple\n",
            "apple\n",
            "apple\n",
            "apple\n",
            "apple\n",
            "apple\n",
            "apple\n",
            "apple\n",
            "apple\n",
            "apple\n",
            "apple\n",
            "apple\n",
            "apple\n",
            "apple\n",
            "apple\n",
            "apple\n",
            "apple\n",
            "apple\n",
            "apple\n",
            "apple\n",
            "apple\n",
            "apple\n",
            "apple\n",
            "apple\n",
            "apple\n",
            "apple\n",
            "apple\n",
            "apple\n",
            "apple\n",
            "apple\n",
            "apple\n",
            "apple\n",
            "apple\n",
            "apple\n",
            "apple\n",
            "apple\n",
            "apple\n",
            "apple\n",
            "apple\n",
            "apple\n",
            "apple\n",
            "apple\n",
            "apple\n",
            "apple\n",
            "apple\n",
            "apple\n",
            "apple\n",
            "apple\n",
            "apple\n",
            "apple\n",
            "apple\n",
            "apple\n",
            "apple\n",
            "apple\n",
            "apple\n",
            "apple\n",
            "apple\n",
            "apple\n",
            "apple\n",
            "apple\n",
            "apple\n",
            "apple\n",
            "apple\n",
            "apple\n",
            "apple\n",
            "apple\n",
            "apple\n",
            "apple\n",
            "apple\n",
            "apple\n",
            "apple\n",
            "apple\n",
            "apple\n",
            "apple\n",
            "apple\n",
            "apple\n",
            "apple\n",
            "apple\n",
            "apple\n",
            "apple\n",
            "apple\n",
            "apple\n",
            "apple\n",
            "apple\n",
            "apple\n",
            "apple\n",
            "apple\n",
            "apple\n",
            "apple\n",
            "apple\n",
            "apple\n",
            "apple\n",
            "apple\n",
            "apple\n",
            "apple\n",
            "apple\n",
            "apple\n",
            "apple\n",
            "apple\n",
            "apple\n",
            "apple\n",
            "apple\n",
            "apple\n",
            "apple\n",
            "apple\n",
            "apple\n",
            "apple\n",
            "apple\n",
            "apple\n",
            "apple\n",
            "apple\n",
            "apple\n",
            "apple\n",
            "apple\n",
            "apple\n",
            "apple\n",
            "apple\n",
            "apple\n",
            "apple\n",
            "apple\n",
            "apple\n",
            "apple\n",
            "apple\n",
            "apple\n",
            "apple\n",
            "apple\n",
            "apple\n",
            "apple\n",
            "apple\n",
            "apple\n",
            "apple\n",
            "apple\n",
            "apple\n",
            "apple\n",
            "apple\n",
            "apple\n",
            "apple\n",
            "apple\n",
            "apple\n",
            "apple\n",
            "apple\n",
            "apple\n",
            "apple\n",
            "apple\n",
            "apple\n",
            "apple\n",
            "apple\n",
            "apple\n",
            "apple\n",
            "apple\n",
            "apple\n",
            "apple\n",
            "apple\n",
            "apple\n",
            "apple\n",
            "apple\n",
            "apple\n",
            "apple\n",
            "apple\n",
            "apple\n",
            "apple\n",
            "apple\n",
            "apple\n",
            "apple\n",
            "apple\n",
            "apple\n",
            "apple\n",
            "apple\n",
            "apple\n",
            "apple\n",
            "apple\n",
            "apple\n",
            "apple\n",
            "apple\n",
            "apple\n",
            "apple\n",
            "apple\n",
            "apple\n",
            "apple\n",
            "apple\n",
            "apple\n",
            "apple\n",
            "apple\n",
            "apple\n",
            "apple\n",
            "apple\n",
            "apple\n",
            "apple\n",
            "apple\n",
            "apple\n",
            "apple\n",
            "apple\n",
            "apple\n",
            "apple\n",
            "apple\n",
            "apple\n",
            "apple\n",
            "apple\n",
            "apple\n",
            "apple\n",
            "apple\n",
            "apple\n",
            "apple\n",
            "apple\n",
            "apple\n",
            "apple\n",
            "apple\n",
            "apple\n",
            "apple\n",
            "apple\n",
            "apple\n",
            "apple\n",
            "apple\n",
            "apple\n",
            "apple\n",
            "apple\n",
            "apple\n",
            "apple\n",
            "apple\n",
            "apple\n",
            "apple\n",
            "apple\n",
            "apple\n",
            "apple\n",
            "apple\n",
            "apple\n",
            "apple\n",
            "apple\n",
            "apple\n",
            "apple\n",
            "apple\n",
            "apple\n",
            "apple\n",
            "apple\n",
            "apple\n",
            "apple\n",
            "apple\n",
            "apple\n",
            "apple\n",
            "apple\n",
            "apple\n",
            "apple\n",
            "apple\n",
            "apple\n",
            "apple\n",
            "apple\n",
            "apple\n",
            "apple\n",
            "apple\n",
            "apple\n",
            "apple\n",
            "apple\n",
            "apple\n",
            "apple\n",
            "apple\n",
            "apple\n",
            "apple\n",
            "apple\n",
            "apple\n",
            "apple\n",
            "apple\n",
            "apple\n",
            "apple\n",
            "apple\n",
            "apple\n",
            "apple\n",
            "apple\n",
            "apple\n",
            "apple\n",
            "apple\n",
            "apple\n",
            "apple\n",
            "apple\n",
            "apple\n",
            "apple\n",
            "apple\n",
            "apple\n",
            "apple\n",
            "apple\n",
            "apple\n",
            "apple\n",
            "apple\n",
            "apple\n",
            "apple\n",
            "apple\n",
            "apple\n",
            "apple\n",
            "apple\n",
            "apple\n",
            "apple\n",
            "apple\n",
            "apple\n",
            "apple\n",
            "apple\n",
            "apple\n",
            "apple\n",
            "apple\n",
            "apple\n",
            "apple\n",
            "apple\n",
            "apple\n",
            "apple\n",
            "apple\n",
            "apple\n",
            "apple\n",
            "apple\n",
            "apple\n",
            "apple\n",
            "apple\n",
            "apple\n",
            "apple\n",
            "apple\n",
            "apple\n",
            "apple\n",
            "apple\n",
            "apple\n",
            "apple\n",
            "apple\n",
            "apple\n",
            "apple\n",
            "apple\n",
            "apple\n",
            "apple\n",
            "apple\n",
            "apple\n",
            "apple\n",
            "apple\n",
            "apple\n",
            "apple\n",
            "apple\n",
            "apple\n",
            "apple\n",
            "apple\n",
            "apple\n",
            "apple\n",
            "apple\n",
            "apple\n",
            "apple\n",
            "apple\n",
            "apple\n",
            "apple\n",
            "apple\n",
            "apple\n",
            "apple\n",
            "apple\n",
            "apple\n",
            "apple\n",
            "apple\n",
            "apple\n",
            "apple\n",
            "apple\n",
            "apple\n",
            "apple\n",
            "apple\n",
            "apple\n",
            "apple\n",
            "apple\n",
            "apple\n",
            "apple\n",
            "apple\n",
            "apple\n",
            "apple\n",
            "apple\n",
            "apple\n",
            "apple\n",
            "apple\n",
            "apple\n",
            "apple\n",
            "apple\n",
            "apple\n",
            "apple\n",
            "apple\n",
            "apple\n",
            "apple\n",
            "apple\n",
            "apple\n",
            "apple\n",
            "apple\n",
            "apple\n",
            "apple\n",
            "apple\n",
            "apple\n",
            "apple\n",
            "apple\n",
            "apple\n",
            "apple\n",
            "apple\n",
            "apple\n",
            "apple\n",
            "apple\n",
            "apple\n",
            "apple\n",
            "apple\n",
            "apple\n",
            "apple\n",
            "apple\n",
            "apple\n",
            "apple\n",
            "apple\n",
            "apple\n",
            "apple\n",
            "apple\n",
            "apple\n",
            "apple\n",
            "apple\n",
            "apple\n",
            "apple\n",
            "apple\n",
            "apple\n",
            "apple\n",
            "apple\n",
            "apple\n",
            "apple\n",
            "apple\n",
            "apple\n",
            "apple\n",
            "apple\n",
            "apple\n",
            "apple\n",
            "apple\n",
            "apple\n",
            "apple\n",
            "apple\n",
            "apple\n",
            "apple\n",
            "apple\n",
            "apple\n",
            "apple\n",
            "apple\n",
            "apple\n",
            "apple\n",
            "apple\n",
            "apple\n",
            "apple\n",
            "apple\n",
            "apple\n",
            "apple\n",
            "apple\n",
            "apple\n",
            "apple\n",
            "apple\n",
            "apple\n",
            "apple\n",
            "apple\n",
            "apple\n",
            "apple\n",
            "apple\n",
            "apple\n",
            "apple\n",
            "apple\n",
            "apple\n",
            "apple\n",
            "apple\n",
            "apple\n",
            "apple\n",
            "apple\n",
            "apple\n",
            "apple\n",
            "apple\n",
            "apple\n",
            "apple\n",
            "apple\n",
            "apple\n",
            "apple\n",
            "apple\n",
            "apple\n",
            "apple\n",
            "apple\n",
            "apple\n",
            "apple\n",
            "apple\n",
            "apple\n",
            "apple\n",
            "apple\n",
            "apple\n",
            "apple\n",
            "apple\n",
            "apple\n",
            "apple\n",
            "apple\n",
            "apple\n",
            "apple\n",
            "apple\n",
            "apple\n",
            "apple\n",
            "apple\n",
            "apple\n",
            "apple\n",
            "apple\n",
            "apple\n",
            "apple\n",
            "apple\n",
            "apple\n",
            "apple\n",
            "apple\n",
            "apple\n",
            "apple\n",
            "apple\n",
            "apple\n",
            "apple\n",
            "apple\n",
            "apple\n",
            "apple\n",
            "apple\n",
            "apple\n",
            "apple\n",
            "apple\n",
            "apple\n",
            "apple\n",
            "apple\n",
            "apple\n",
            "apple\n",
            "apple\n",
            "apple\n",
            "apple\n",
            "apple\n",
            "apple\n",
            "apple\n",
            "apple\n",
            "apple\n",
            "apple\n",
            "apple\n",
            "apple\n",
            "apple\n",
            "apple\n",
            "apple\n",
            "apple\n",
            "apple\n",
            "apple\n",
            "apple\n",
            "apple\n",
            "apple\n",
            "apple\n",
            "apple\n",
            "apple\n",
            "apple\n",
            "apple\n",
            "apple\n",
            "apple\n",
            "apple\n",
            "apple\n",
            "apple\n",
            "apple\n",
            "apple\n",
            "apple\n",
            "apple\n",
            "apple\n",
            "apple\n",
            "apple\n",
            "apple\n",
            "apple\n",
            "apple\n",
            "apple\n",
            "apple\n",
            "apple\n",
            "apple\n",
            "apple\n",
            "apple\n",
            "apple\n",
            "apple\n",
            "apple\n",
            "apple\n",
            "apple\n",
            "apple\n",
            "apple\n",
            "apple\n",
            "apple\n",
            "apple\n",
            "apple\n",
            "apple\n",
            "apple\n",
            "apple\n",
            "apple\n",
            "apple\n",
            "apple\n",
            "apple\n",
            "apple\n",
            "apple\n",
            "apple\n",
            "apple\n",
            "apple\n",
            "apple\n",
            "apple\n",
            "apple\n",
            "apple\n",
            "apple\n",
            "apple\n",
            "apple\n",
            "apple\n",
            "apple\n",
            "apple\n",
            "apple\n",
            "apple\n",
            "apple\n",
            "apple\n",
            "apple\n",
            "apple\n",
            "apple\n",
            "apple\n",
            "apple\n",
            "apple\n",
            "apple\n",
            "apple\n",
            "apple\n",
            "apple\n",
            "apple\n",
            "apple\n",
            "apple\n",
            "apple\n",
            "apple\n",
            "apple\n",
            "apple\n",
            "apple\n",
            "apple\n",
            "apple\n",
            "apple\n",
            "apple\n",
            "apple\n",
            "apple\n",
            "apple\n",
            "apple\n",
            "apple\n",
            "apple\n",
            "apple\n",
            "apple\n",
            "apple\n",
            "apple\n",
            "apple\n",
            "apple\n",
            "apple\n",
            "apple\n",
            "apple\n",
            "apple\n",
            "apple\n",
            "apple\n",
            "apple\n",
            "apple\n",
            "apple\n",
            "apple\n",
            "apple\n",
            "apple\n",
            "apple\n",
            "apple\n",
            "apple\n",
            "apple\n",
            "apple\n",
            "apple\n",
            "apple\n",
            "apple\n",
            "apple\n",
            "apple\n",
            "apple\n",
            "apple\n",
            "apple\n",
            "apple\n",
            "apple\n",
            "apple\n",
            "apple\n",
            "apple\n",
            "apple\n",
            "apple\n",
            "apple\n",
            "apple\n",
            "apple\n",
            "apple\n",
            "apple\n",
            "apple\n",
            "apple\n",
            "apple\n",
            "apple\n",
            "apple\n",
            "apple\n",
            "apple\n",
            "apple\n",
            "apple\n",
            "apple\n",
            "apple\n",
            "apple\n",
            "apple\n",
            "apple\n",
            "apple\n",
            "apple\n",
            "apple\n",
            "apple\n",
            "apple\n",
            "apple\n",
            "apple\n",
            "apple\n",
            "apple\n",
            "apple\n",
            "apple\n",
            "apple\n",
            "apple\n",
            "apple\n",
            "apple\n",
            "apple\n",
            "apple\n",
            "apple\n",
            "apple\n",
            "apple\n",
            "apple\n",
            "apple\n",
            "apple\n",
            "apple\n",
            "apple\n",
            "apple\n",
            "apple\n",
            "apple\n",
            "apple\n",
            "apple\n",
            "apple\n",
            "apple\n",
            "apple\n",
            "apple\n",
            "apple\n",
            "apple\n",
            "apple\n",
            "apple\n",
            "apple\n",
            "apple\n",
            "apple\n",
            "apple\n",
            "apple\n",
            "apple\n",
            "apple\n",
            "apple\n",
            "apple\n",
            "apple\n",
            "apple\n",
            "apple\n",
            "apple\n",
            "apple\n",
            "apple\n",
            "apple\n",
            "apple\n",
            "apple\n",
            "apple\n",
            "apple\n",
            "apple\n",
            "apple\n",
            "apple\n",
            "apple\n",
            "apple\n",
            "apple\n",
            "apple\n",
            "apple\n",
            "apple\n",
            "apple\n",
            "apple\n",
            "apple\n",
            "apple\n",
            "apple\n",
            "apple\n",
            "apple\n",
            "apple\n",
            "apple\n",
            "apple\n",
            "apple\n",
            "apple\n",
            "apple\n",
            "apple\n",
            "apple\n",
            "apple\n",
            "apple\n",
            "apple\n",
            "apple\n",
            "apple\n",
            "apple\n",
            "apple\n",
            "apple\n",
            "apple\n",
            "apple\n",
            "apple\n",
            "apple\n",
            "apple\n",
            "apple\n",
            "apple\n",
            "apple\n",
            "apple\n",
            "apple\n",
            "apple\n",
            "apple\n",
            "apple\n",
            "apple\n",
            "apple\n",
            "apple\n",
            "apple\n",
            "apple\n",
            "apple\n",
            "apple\n",
            "apple\n",
            "apple\n",
            "apple\n",
            "apple\n",
            "apple\n",
            "apple\n",
            "apple\n",
            "apple\n",
            "apple\n",
            "apple\n",
            "apple\n",
            "apple\n",
            "apple\n",
            "apple\n",
            "apple\n",
            "apple\n",
            "apple\n",
            "apple\n",
            "apple\n",
            "apple\n",
            "apple\n",
            "apple\n",
            "apple\n",
            "apple\n",
            "apple\n",
            "apple\n",
            "apple\n",
            "apple\n",
            "apple\n",
            "apple\n",
            "apple\n",
            "apple\n",
            "apple\n",
            "apple\n",
            "apple\n",
            "apple\n",
            "apple\n",
            "apple\n",
            "apple\n",
            "apple\n",
            "apple\n",
            "apple\n",
            "apple\n",
            "apple\n",
            "apple\n",
            "apple\n",
            "apple\n",
            "apple\n",
            "apple\n",
            "apple\n",
            "apple\n",
            "apple\n",
            "apple\n",
            "apple\n",
            "apple\n",
            "apple\n",
            "apple\n",
            "apple\n",
            "apple\n",
            "apple\n",
            "apple\n",
            "apple\n",
            "apple\n",
            "apple\n",
            "apple\n",
            "apple\n",
            "apple\n",
            "apple\n",
            "apple\n",
            "apple\n",
            "apple\n",
            "apple\n",
            "apple\n",
            "apple\n",
            "apple\n",
            "apple\n",
            "apple\n",
            "apple\n",
            "apple\n",
            "apple\n",
            "apple\n",
            "apple\n",
            "apple\n",
            "apple\n",
            "apple\n",
            "apple\n",
            "apple\n",
            "apple\n",
            "apple\n",
            "apple\n",
            "apple\n",
            "apple\n",
            "apple\n",
            "apple\n",
            "apple\n",
            "apple\n",
            "apple\n",
            "apple\n",
            "apple\n",
            "apple\n",
            "apple\n",
            "apple\n",
            "apple\n",
            "apple\n",
            "apple"
          ],
          "name": "stdout"
        },
        {
          "output_type": "error",
          "ename": "KeyboardInterrupt",
          "evalue": "ignored",
          "traceback": [
            "\u001b[0;31m---------------------------------------------------------------------------\u001b[0m",
            "\u001b[0;31mKeyboardInterrupt\u001b[0m                         Traceback (most recent call last)",
            "\u001b[0;32m<ipython-input-73-3a4dea7bee44>\u001b[0m in \u001b[0;36m<module>\u001b[0;34m()\u001b[0m\n\u001b[1;32m      2\u001b[0m \u001b[0mi\u001b[0m\u001b[0;34m=\u001b[0m\u001b[0;36m0\u001b[0m\u001b[0;34m\u001b[0m\u001b[0;34m\u001b[0m\u001b[0m\n\u001b[1;32m      3\u001b[0m \u001b[0;32mwhile\u001b[0m \u001b[0mi\u001b[0m \u001b[0;34m<\u001b[0m \u001b[0mlen\u001b[0m\u001b[0;34m(\u001b[0m\u001b[0mthisisalist\u001b[0m\u001b[0;34m)\u001b[0m\u001b[0;34m:\u001b[0m\u001b[0;34m\u001b[0m\u001b[0;34m\u001b[0m\u001b[0m\n\u001b[0;32m----> 4\u001b[0;31m    \u001b[0mprint\u001b[0m\u001b[0;34m(\u001b[0m\u001b[0mthisisalist\u001b[0m\u001b[0;34m[\u001b[0m\u001b[0mi\u001b[0m\u001b[0;34m]\u001b[0m\u001b[0;34m)\u001b[0m\u001b[0;34m\u001b[0m\u001b[0;34m\u001b[0m\u001b[0m\n\u001b[0m",
            "\u001b[0;32m/usr/local/lib/python3.6/dist-packages/ipykernel/iostream.py\u001b[0m in \u001b[0;36mwrite\u001b[0;34m(self, string)\u001b[0m\n\u001b[1;32m    398\u001b[0m             \u001b[0mis_child\u001b[0m \u001b[0;34m=\u001b[0m \u001b[0;34m(\u001b[0m\u001b[0;32mnot\u001b[0m \u001b[0mself\u001b[0m\u001b[0;34m.\u001b[0m\u001b[0m_is_master_process\u001b[0m\u001b[0;34m(\u001b[0m\u001b[0;34m)\u001b[0m\u001b[0;34m)\u001b[0m\u001b[0;34m\u001b[0m\u001b[0;34m\u001b[0m\u001b[0m\n\u001b[1;32m    399\u001b[0m             \u001b[0;31m# only touch the buffer in the IO thread to avoid races\u001b[0m\u001b[0;34m\u001b[0m\u001b[0;34m\u001b[0m\u001b[0;34m\u001b[0m\u001b[0m\n\u001b[0;32m--> 400\u001b[0;31m             \u001b[0mself\u001b[0m\u001b[0;34m.\u001b[0m\u001b[0mpub_thread\u001b[0m\u001b[0;34m.\u001b[0m\u001b[0mschedule\u001b[0m\u001b[0;34m(\u001b[0m\u001b[0;32mlambda\u001b[0m \u001b[0;34m:\u001b[0m \u001b[0mself\u001b[0m\u001b[0;34m.\u001b[0m\u001b[0m_buffer\u001b[0m\u001b[0;34m.\u001b[0m\u001b[0mwrite\u001b[0m\u001b[0;34m(\u001b[0m\u001b[0mstring\u001b[0m\u001b[0;34m)\u001b[0m\u001b[0;34m)\u001b[0m\u001b[0;34m\u001b[0m\u001b[0;34m\u001b[0m\u001b[0m\n\u001b[0m\u001b[1;32m    401\u001b[0m             \u001b[0;32mif\u001b[0m \u001b[0mis_child\u001b[0m\u001b[0;34m:\u001b[0m\u001b[0;34m\u001b[0m\u001b[0;34m\u001b[0m\u001b[0m\n\u001b[1;32m    402\u001b[0m                 \u001b[0;31m# newlines imply flush in subprocesses\u001b[0m\u001b[0;34m\u001b[0m\u001b[0;34m\u001b[0m\u001b[0;34m\u001b[0m\u001b[0m\n",
            "\u001b[0;32m/usr/local/lib/python3.6/dist-packages/ipykernel/iostream.py\u001b[0m in \u001b[0;36mschedule\u001b[0;34m(self, f)\u001b[0m\n\u001b[1;32m    201\u001b[0m             \u001b[0mself\u001b[0m\u001b[0;34m.\u001b[0m\u001b[0m_events\u001b[0m\u001b[0;34m.\u001b[0m\u001b[0mappend\u001b[0m\u001b[0;34m(\u001b[0m\u001b[0mf\u001b[0m\u001b[0;34m)\u001b[0m\u001b[0;34m\u001b[0m\u001b[0;34m\u001b[0m\u001b[0m\n\u001b[1;32m    202\u001b[0m             \u001b[0;31m# wake event thread (message content is ignored)\u001b[0m\u001b[0;34m\u001b[0m\u001b[0;34m\u001b[0m\u001b[0;34m\u001b[0m\u001b[0m\n\u001b[0;32m--> 203\u001b[0;31m             \u001b[0mself\u001b[0m\u001b[0;34m.\u001b[0m\u001b[0m_event_pipe\u001b[0m\u001b[0;34m.\u001b[0m\u001b[0msend\u001b[0m\u001b[0;34m(\u001b[0m\u001b[0;34mb''\u001b[0m\u001b[0;34m)\u001b[0m\u001b[0;34m\u001b[0m\u001b[0;34m\u001b[0m\u001b[0m\n\u001b[0m\u001b[1;32m    204\u001b[0m         \u001b[0;32melse\u001b[0m\u001b[0;34m:\u001b[0m\u001b[0;34m\u001b[0m\u001b[0;34m\u001b[0m\u001b[0m\n\u001b[1;32m    205\u001b[0m             \u001b[0mf\u001b[0m\u001b[0;34m(\u001b[0m\u001b[0;34m)\u001b[0m\u001b[0;34m\u001b[0m\u001b[0;34m\u001b[0m\u001b[0m\n",
            "\u001b[0;32m/usr/local/lib/python3.6/dist-packages/zmq/sugar/socket.py\u001b[0m in \u001b[0;36msend\u001b[0;34m(self, data, flags, copy, track, routing_id, group)\u001b[0m\n\u001b[1;32m    414\u001b[0m                                  copy_threshold=self.copy_threshold)\n\u001b[1;32m    415\u001b[0m             \u001b[0mdata\u001b[0m\u001b[0;34m.\u001b[0m\u001b[0mgroup\u001b[0m \u001b[0;34m=\u001b[0m \u001b[0mgroup\u001b[0m\u001b[0;34m\u001b[0m\u001b[0;34m\u001b[0m\u001b[0m\n\u001b[0;32m--> 416\u001b[0;31m         \u001b[0;32mreturn\u001b[0m \u001b[0msuper\u001b[0m\u001b[0;34m(\u001b[0m\u001b[0mSocket\u001b[0m\u001b[0;34m,\u001b[0m \u001b[0mself\u001b[0m\u001b[0;34m)\u001b[0m\u001b[0;34m.\u001b[0m\u001b[0msend\u001b[0m\u001b[0;34m(\u001b[0m\u001b[0mdata\u001b[0m\u001b[0;34m,\u001b[0m \u001b[0mflags\u001b[0m\u001b[0;34m=\u001b[0m\u001b[0mflags\u001b[0m\u001b[0;34m,\u001b[0m \u001b[0mcopy\u001b[0m\u001b[0;34m=\u001b[0m\u001b[0mcopy\u001b[0m\u001b[0;34m,\u001b[0m \u001b[0mtrack\u001b[0m\u001b[0;34m=\u001b[0m\u001b[0mtrack\u001b[0m\u001b[0;34m)\u001b[0m\u001b[0;34m\u001b[0m\u001b[0;34m\u001b[0m\u001b[0m\n\u001b[0m\u001b[1;32m    417\u001b[0m \u001b[0;34m\u001b[0m\u001b[0m\n\u001b[1;32m    418\u001b[0m     \u001b[0;32mdef\u001b[0m \u001b[0msend_multipart\u001b[0m\u001b[0;34m(\u001b[0m\u001b[0mself\u001b[0m\u001b[0;34m,\u001b[0m \u001b[0mmsg_parts\u001b[0m\u001b[0;34m,\u001b[0m \u001b[0mflags\u001b[0m\u001b[0;34m=\u001b[0m\u001b[0;36m0\u001b[0m\u001b[0;34m,\u001b[0m \u001b[0mcopy\u001b[0m\u001b[0;34m=\u001b[0m\u001b[0;32mTrue\u001b[0m\u001b[0;34m,\u001b[0m \u001b[0mtrack\u001b[0m\u001b[0;34m=\u001b[0m\u001b[0;32mFalse\u001b[0m\u001b[0;34m,\u001b[0m \u001b[0;34m**\u001b[0m\u001b[0mkwargs\u001b[0m\u001b[0;34m)\u001b[0m\u001b[0;34m:\u001b[0m\u001b[0;34m\u001b[0m\u001b[0;34m\u001b[0m\u001b[0m\n",
            "\u001b[0;32mzmq/backend/cython/socket.pyx\u001b[0m in \u001b[0;36mzmq.backend.cython.socket.Socket.send\u001b[0;34m()\u001b[0m\n",
            "\u001b[0;32mzmq/backend/cython/socket.pyx\u001b[0m in \u001b[0;36mzmq.backend.cython.socket.Socket.send\u001b[0;34m()\u001b[0m\n",
            "\u001b[0;32mzmq/backend/cython/socket.pyx\u001b[0m in \u001b[0;36mzmq.backend.cython.socket._send_copy\u001b[0;34m()\u001b[0m\n",
            "\u001b[0;32m/usr/local/lib/python3.6/dist-packages/zmq/backend/cython/checkrc.pxd\u001b[0m in \u001b[0;36mzmq.backend.cython.checkrc._check_rc\u001b[0;34m()\u001b[0m\n",
            "\u001b[0;31mKeyboardInterrupt\u001b[0m: "
          ]
        }
      ]
    },
    {
      "cell_type": "code",
      "metadata": {
        "colab": {
          "base_uri": "https://localhost:8080/"
        },
        "id": "-dYwSrmg_Lzt",
        "outputId": "dafb9a5e-2990-4b7b-a3d2-b77c2accc3f1"
      },
      "source": [
        "thisisalist = [\"apple\",\"banana\",\"cherry\"]\n",
        "[print (x) for x in thisisalist]"
      ],
      "execution_count": null,
      "outputs": [
        {
          "output_type": "stream",
          "text": [
            "apple\n",
            "banana\n",
            "cherry\n"
          ],
          "name": "stdout"
        },
        {
          "output_type": "execute_result",
          "data": {
            "text/plain": [
              "[None, None, None]"
            ]
          },
          "metadata": {
            "tags": []
          },
          "execution_count": 74
        }
      ]
    },
    {
      "cell_type": "code",
      "metadata": {
        "colab": {
          "base_uri": "https://localhost:8080/"
        },
        "id": "HEHIpPDWAHVU",
        "outputId": "4e803f77-33e9-4b05-9bfe-b2d0e1d91212"
      },
      "source": [
        "fruits = [\"apple\",\"banana\",\"cherry\",\"kiwi\",\"mango\"]\n",
        "newlist = []\n",
        "\n",
        "for x in fruits:\n",
        "  if \"a\" in x:\n",
        "    newlist.append(x)\n",
        "print(newlist)"
      ],
      "execution_count": null,
      "outputs": [
        {
          "output_type": "stream",
          "text": [
            "['apple', 'banana', 'mango']\n"
          ],
          "name": "stdout"
        }
      ]
    },
    {
      "cell_type": "code",
      "metadata": {
        "colab": {
          "base_uri": "https://localhost:8080/"
        },
        "id": "C7FfPqkzBzLa",
        "outputId": "d163d763-2b37-4715-cf22-2f324fdabb81"
      },
      "source": [
        "fruits = [\"apple\",\"banana\",\"cherry\",\"kiwi\",\"mango\"]\n",
        "newlist = [x for x in fruits if \"a\" in x]\n",
        "print(newlist)"
      ],
      "execution_count": null,
      "outputs": [
        {
          "output_type": "stream",
          "text": [
            "['apple', 'banana', 'mango']\n"
          ],
          "name": "stdout"
        }
      ]
    },
    {
      "cell_type": "markdown",
      "metadata": {
        "id": "v9Zy6W-gyIvP"
      },
      "source": [
        "25-11-2020"
      ]
    },
    {
      "cell_type": "code",
      "metadata": {
        "id": "-yIdRQE0C6Fg",
        "colab": {
          "base_uri": "https://localhost:8080/"
        },
        "outputId": "089af26e-3cd4-490e-b60d-3d31b53587b1"
      },
      "source": [
        "fruits = [\"apple\",\"banana\",\"cherry\",\"kiwi\",\"mango\"]\n",
        "fruits.sort()\n",
        "print(fruits)"
      ],
      "execution_count": null,
      "outputs": [
        {
          "output_type": "stream",
          "text": [
            "['apple', 'banana', 'cherry', 'kiwi', 'mango']\n"
          ],
          "name": "stdout"
        }
      ]
    },
    {
      "cell_type": "code",
      "metadata": {
        "colab": {
          "base_uri": "https://localhost:8080/"
        },
        "id": "LVyRfT-_33w6",
        "outputId": "fca6ed13-d227-4416-f929-bb7e2147b23a"
      },
      "source": [
        "thislist =[\"orange\",\"mango\",\"kiwi\",\"pineapple\",\"banana\"]\n",
        "thislist.sort()\n",
        "print(thislist)"
      ],
      "execution_count": null,
      "outputs": [
        {
          "output_type": "stream",
          "text": [
            "['banana', 'kiwi', 'mango', 'orange', 'pineapple']\n"
          ],
          "name": "stdout"
        }
      ]
    },
    {
      "cell_type": "code",
      "metadata": {
        "colab": {
          "base_uri": "https://localhost:8080/"
        },
        "id": "kB3vcFup4d43",
        "outputId": "bbc88adc-e33b-406a-d726-c3ab7f707aa9"
      },
      "source": [
        "thislist =[100,40,50,2,22,83,78]\n",
        "thislist.sort()\n",
        "print(thislist)"
      ],
      "execution_count": null,
      "outputs": [
        {
          "output_type": "stream",
          "text": [
            "[2, 22, 40, 50, 78, 83, 100]\n"
          ],
          "name": "stdout"
        }
      ]
    },
    {
      "cell_type": "code",
      "metadata": {
        "colab": {
          "base_uri": "https://localhost:8080/"
        },
        "id": "S-RAmgx945ao",
        "outputId": "c4652ce0-3746-4eca-da6c-1462b5e83f50"
      },
      "source": [
        "thislist =[100,40,50,2,22,83,78]\n",
        "thislist.sort(reverse=True)\n",
        "print(thislist)"
      ],
      "execution_count": null,
      "outputs": [
        {
          "output_type": "stream",
          "text": [
            "[100, 83, 78, 50, 40, 22, 2]\n"
          ],
          "name": "stdout"
        }
      ]
    },
    {
      "cell_type": "code",
      "metadata": {
        "colab": {
          "base_uri": "https://localhost:8080/"
        },
        "id": "h2wLSnqD5Q0x",
        "outputId": "d7a8b609-1a70-4dda-a1e1-bb4aeb74764c"
      },
      "source": [
        "thislist =[\"orange\",\"mango\",\"kiwi\",\"pineapple\",\"banana\"]\n",
        "newlist=thislist.copy()\n",
        "\n",
        "print(newlist)"
      ],
      "execution_count": null,
      "outputs": [
        {
          "output_type": "stream",
          "text": [
            "['orange', 'mango', 'kiwi', 'pineapple', 'banana']\n"
          ],
          "name": "stdout"
        }
      ]
    },
    {
      "cell_type": "code",
      "metadata": {
        "colab": {
          "base_uri": "https://localhost:8080/"
        },
        "id": "l1erDeiz6AWy",
        "outputId": "81213d2b-abb6-42b8-ca0f-d5f456030835"
      },
      "source": [
        "thislist =[100,40,50,2,22,83,78]\n",
        "newlist=thislist.copy()\n",
        "print(newlist)"
      ],
      "execution_count": null,
      "outputs": [
        {
          "output_type": "stream",
          "text": [
            "[100, 40, 50, 2, 22, 83, 78]\n"
          ],
          "name": "stdout"
        }
      ]
    },
    {
      "cell_type": "code",
      "metadata": {
        "colab": {
          "base_uri": "https://localhost:8080/"
        },
        "id": "-8mbrGhs6L70",
        "outputId": "376c8711-0471-4277-f608-9c6893d4e489"
      },
      "source": [
        "list1 =[\"orange\",\"mango\",\"kiwi\",\"pineapple\",\"banana\"]\n",
        "list2 =[100,40,50,2,22,83,78]\n",
        "list3=list1+list2\n",
        "print(list3)"
      ],
      "execution_count": null,
      "outputs": [
        {
          "output_type": "stream",
          "text": [
            "['orange', 'mango', 'kiwi', 'pineapple', 'banana', 100, 40, 50, 2, 22, 83, 78]\n"
          ],
          "name": "stdout"
        }
      ]
    },
    {
      "cell_type": "code",
      "metadata": {
        "colab": {
          "base_uri": "https://localhost:8080/"
        },
        "id": "CV8SbrKt6e6_",
        "outputId": "ec02c890-3b08-4996-fb86-7365cbc82238"
      },
      "source": [
        "list1 =[\"orange\",\"mango\",\"kiwi\",\"pineapple\",\"banana\"]\n",
        "list2 =[100,40,50,2,22,83,78]\n",
        "\n",
        "for x in list2:\n",
        "  list1.append(x)\n",
        "print(list1)"
      ],
      "execution_count": null,
      "outputs": [
        {
          "output_type": "stream",
          "text": [
            "['orange', 'mango', 'kiwi', 'pineapple', 'banana', 100, 40, 50, 2, 22, 83, 78]\n"
          ],
          "name": "stdout"
        }
      ]
    },
    {
      "cell_type": "code",
      "metadata": {
        "colab": {
          "base_uri": "https://localhost:8080/"
        },
        "id": "tMsKRbBL62gW",
        "outputId": "ac5391f0-cf3f-48a2-fc7e-90ff5145270e"
      },
      "source": [
        "list1 =[\"orange\",\"mango\",\"kiwi\",\"pineapple\",\"banana\"]\n",
        "list2 =[100,40,50,2,22,83,78]\n",
        "list1.extend(list2)\n",
        "print(list1)"
      ],
      "execution_count": null,
      "outputs": [
        {
          "output_type": "stream",
          "text": [
            "['orange', 'mango', 'kiwi', 'pineapple', 'banana', 100, 40, 50, 2, 22, 83, 78]\n"
          ],
          "name": "stdout"
        }
      ]
    },
    {
      "cell_type": "code",
      "metadata": {
        "colab": {
          "base_uri": "https://localhost:8080/"
        },
        "id": "2NpaZgj07HtJ",
        "outputId": "06fade9e-b333-4381-8857-4bd6854e666c"
      },
      "source": [
        "lis1=[\"Ajay\",\"Rajesh\",\"Ramesh\",\"Rahul\"]\n",
        "newlist=lis1.copy()\n",
        "print(newlist)"
      ],
      "execution_count": null,
      "outputs": [
        {
          "output_type": "stream",
          "text": [
            "['Ajay', 'Rajesh', 'Ramesh', 'Rahul']\n"
          ],
          "name": "stdout"
        }
      ]
    },
    {
      "cell_type": "code",
      "metadata": {
        "colab": {
          "base_uri": "https://localhost:8080/"
        },
        "id": "pdnWt2V77tQT",
        "outputId": "a195d2a2-13d2-4bcd-92ba-5b3da3983423"
      },
      "source": [
        "lis1=[\"Ajay\",\"Rajesh\",\"Ramesh\",\"Rahul\"]\n",
        "lis2=[23,556,987,34,546,56]\n",
        "lis3=lis1+list2\n",
        "print(lis3)"
      ],
      "execution_count": null,
      "outputs": [
        {
          "output_type": "stream",
          "text": [
            "['Ajay', 'Rajesh', 'Ramesh', 'Rahul', 100, 40, 50, 2, 22, 83, 78]\n"
          ],
          "name": "stdout"
        }
      ]
    },
    {
      "cell_type": "code",
      "metadata": {
        "colab": {
          "base_uri": "https://localhost:8080/"
        },
        "id": "F7NshZZd8E5F",
        "outputId": "c91f0023-bf5d-41a8-b105-6f70e8b7f894"
      },
      "source": [
        "lis1=[\"Ajay\",\"Rajesh\",\"Ramesh\",\"Rahul\"]\n",
        "lis2=[23,556,987,34,546,56]\n",
        "for x in lis2:\n",
        "  lis1.append(x)\n",
        "print(lis1)"
      ],
      "execution_count": null,
      "outputs": [
        {
          "output_type": "stream",
          "text": [
            "['Ajay', 'Rajesh', 'Ramesh', 'Rahul', 23, 556, 987, 34, 546, 56]\n"
          ],
          "name": "stdout"
        }
      ]
    },
    {
      "cell_type": "code",
      "metadata": {
        "colab": {
          "base_uri": "https://localhost:8080/"
        },
        "id": "MMu_rn3C8Zr3",
        "outputId": "380dbb18-3514-48fb-efaf-1ce313833ec2"
      },
      "source": [
        "lis1=[\"Ajay\",\"Rajesh\",\"Ramesh\",\"Rahul\"]\n",
        "lis2=[23,556,987,34,546,56]\n",
        "lis1.extend(lis2)\n",
        "print(lis1)"
      ],
      "execution_count": null,
      "outputs": [
        {
          "output_type": "stream",
          "text": [
            "['Ajay', 'Rajesh', 'Ramesh', 'Rahul', 23, 556, 987, 34, 546, 56]\n"
          ],
          "name": "stdout"
        }
      ]
    },
    {
      "cell_type": "code",
      "metadata": {
        "colab": {
          "base_uri": "https://localhost:8080/"
        },
        "id": "cRr9z36I8mS2",
        "outputId": "d4a077e6-73c0-4520-c598-1337139db22e"
      },
      "source": [
        "list1 =[\"orange\",\"mango\",\"kiwi\",\"pineapple\",\"banana\"]\n",
        "print(list1)"
      ],
      "execution_count": null,
      "outputs": [
        {
          "output_type": "stream",
          "text": [
            "['orange', 'mango', 'kiwi', 'pineapple', 'banana']\n"
          ],
          "name": "stdout"
        }
      ]
    },
    {
      "cell_type": "code",
      "metadata": {
        "colab": {
          "base_uri": "https://localhost:8080/"
        },
        "id": "aV78pfke9Y3Q",
        "outputId": "8eda9276-1892-423c-ff3c-f616b6b29816"
      },
      "source": [
        "thistuple=(\"apple\",\"banana\",\"cherry\")\n",
        "print(thistuple)"
      ],
      "execution_count": null,
      "outputs": [
        {
          "output_type": "stream",
          "text": [
            "('apple', 'banana', 'cherry')\n"
          ],
          "name": "stdout"
        }
      ]
    },
    {
      "cell_type": "code",
      "metadata": {
        "colab": {
          "base_uri": "https://localhost:8080/"
        },
        "id": "fyzMRSbF-cI_",
        "outputId": "f7f880d1-f992-4073-e8d9-183a84f2d8e4"
      },
      "source": [
        "thistuple=(\"apple\",\"banana\",\"cherry\",\"apple\",\"banana\",\"cherry\")\n",
        "print(len(thistuple))"
      ],
      "execution_count": null,
      "outputs": [
        {
          "output_type": "stream",
          "text": [
            "6\n"
          ],
          "name": "stdout"
        }
      ]
    },
    {
      "cell_type": "code",
      "metadata": {
        "colab": {
          "base_uri": "https://localhost:8080/"
        },
        "id": "QEVMMnnY-vvg",
        "outputId": "a45f715a-ad20-4215-bbdd-78225a7be14e"
      },
      "source": [
        "tuple1=(\"orange\",\"mango\",\"kiwi\",\"pineapple\",\"banana\")\n",
        "tuple2=(100,40,50,2,22,83,78)\n",
        "tuple3=(True,False,True)\n",
        "print(tuple1)\n",
        "print(tuple2)\n",
        "print(tuple3)"
      ],
      "execution_count": null,
      "outputs": [
        {
          "output_type": "stream",
          "text": [
            "('orange', 'mango', 'kiwi', 'pineapple', 'banana')\n",
            "(100, 40, 50, 2, 22, 83, 78)\n",
            "(True, False, True)\n"
          ],
          "name": "stdout"
        }
      ]
    },
    {
      "cell_type": "code",
      "metadata": {
        "colab": {
          "base_uri": "https://localhost:8080/"
        },
        "id": "URca6Lo8_o1K",
        "outputId": "0425e831-f7e4-4ccf-d640-21f27ffde888"
      },
      "source": [
        "tuple1=(\"orange\",23,\"pineapple\",\"banana\",True,\"34\")\n",
        "print(tuple1)\n",
        "print(type(tuple1))"
      ],
      "execution_count": null,
      "outputs": [
        {
          "output_type": "stream",
          "text": [
            "('orange', 23, 'pineapple', 'banana', True, '34')\n",
            "<class 'tuple'>\n"
          ],
          "name": "stdout"
        }
      ]
    },
    {
      "cell_type": "code",
      "metadata": {
        "colab": {
          "base_uri": "https://localhost:8080/"
        },
        "id": "AZ6qY5aKAC2E",
        "outputId": "62f5cdb5-25ec-45c3-9919-ffa815d087ed"
      },
      "source": [
        "tuple1=(\"orange\",23,\"pineapple\",\"banana\",True,\"34\")\n",
        "print(tuple1[1])"
      ],
      "execution_count": null,
      "outputs": [
        {
          "output_type": "stream",
          "text": [
            "23\n"
          ],
          "name": "stdout"
        }
      ]
    },
    {
      "cell_type": "code",
      "metadata": {
        "colab": {
          "base_uri": "https://localhost:8080/"
        },
        "id": "O1PJBoaSA5FY",
        "outputId": "79f1ee93-398c-4875-849d-162bd452833e"
      },
      "source": [
        "tuple1=(\"orange\",23,\"pineapple\",\"banana\",True,\"34\")\n",
        "print(tuple1[4])"
      ],
      "execution_count": null,
      "outputs": [
        {
          "output_type": "stream",
          "text": [
            "True\n"
          ],
          "name": "stdout"
        }
      ]
    },
    {
      "cell_type": "code",
      "metadata": {
        "colab": {
          "base_uri": "https://localhost:8080/"
        },
        "id": "TQzpC3HQBAJ5",
        "outputId": "a71c8058-62ca-4972-f86a-d2ffcd5bc76e"
      },
      "source": [
        "tuple1=(\"orange\",23,\"pineapple\",\"banana\",True,\"34\")\n",
        "print(tuple1[-3])\n",
        "\n"
      ],
      "execution_count": null,
      "outputs": [
        {
          "output_type": "stream",
          "text": [
            "banana\n"
          ],
          "name": "stdout"
        }
      ]
    },
    {
      "cell_type": "code",
      "metadata": {
        "colab": {
          "base_uri": "https://localhost:8080/"
        },
        "id": "sRi0UYKUBGxB",
        "outputId": "2c1c317e-3d91-4ab7-94db-eb43aa12a100"
      },
      "source": [
        "tuple1=(\"orange\",23,\"pineapple\",\"banana\",True,\"34\")\n",
        "print(tuple1[-2])"
      ],
      "execution_count": null,
      "outputs": [
        {
          "output_type": "stream",
          "text": [
            "True\n"
          ],
          "name": "stdout"
        }
      ]
    },
    {
      "cell_type": "code",
      "metadata": {
        "colab": {
          "base_uri": "https://localhost:8080/"
        },
        "id": "dpynZyPCBO0x",
        "outputId": "cbcd45a0-1e94-46db-e525-5b963e5aaa1d"
      },
      "source": [
        "tuple1=(\"orange\",23,\"pineapple\",\"banana\",True,\"34\")\n",
        "print(tuple1[2:])"
      ],
      "execution_count": null,
      "outputs": [
        {
          "output_type": "stream",
          "text": [
            "('pineapple', 'banana', True, '34')\n"
          ],
          "name": "stdout"
        }
      ]
    },
    {
      "cell_type": "code",
      "metadata": {
        "colab": {
          "base_uri": "https://localhost:8080/"
        },
        "id": "UpJxjDPZBbfS",
        "outputId": "938d6f4c-3748-4308-e1e4-aa819b6f190c"
      },
      "source": [
        "tuple1=(\"orange\",23,\"pineapple\",\"banana\",True,\"34\")\n",
        "print(tuple1[-1:])"
      ],
      "execution_count": null,
      "outputs": [
        {
          "output_type": "stream",
          "text": [
            "('34',)\n"
          ],
          "name": "stdout"
        }
      ]
    },
    {
      "cell_type": "code",
      "metadata": {
        "colab": {
          "base_uri": "https://localhost:8080/"
        },
        "id": "iuYtlKNMBfl6",
        "outputId": "8f64b32a-f902-413b-cadb-6da31f1d6509"
      },
      "source": [
        "tuple1=(\"orange\",23,\"pineapple\",\"banana\",True,\"34\")\n",
        "print(tuple1[2:])"
      ],
      "execution_count": null,
      "outputs": [
        {
          "output_type": "stream",
          "text": [
            "('pineapple', 'banana', True, '34')\n"
          ],
          "name": "stdout"
        }
      ]
    },
    {
      "cell_type": "code",
      "metadata": {
        "colab": {
          "base_uri": "https://localhost:8080/"
        },
        "id": "jHRqADzEBsJE",
        "outputId": "0f9af0ad-0d20-4e46-bf0b-95c2dc31b122"
      },
      "source": [
        "x=(\"apple\",\"banana\",\"cherry\")\n",
        "y=list(x)\n",
        "y[1]=\"kiwi\"\n",
        "x=tuple(y)\n",
        "print(x)"
      ],
      "execution_count": null,
      "outputs": [
        {
          "output_type": "stream",
          "text": [
            "('apple', 'kiwi', 'cherry')\n"
          ],
          "name": "stdout"
        }
      ]
    },
    {
      "cell_type": "code",
      "metadata": {
        "colab": {
          "base_uri": "https://localhost:8080/"
        },
        "id": "s8VxmgNUCSBe",
        "outputId": "a5b6260c-52f2-483f-83ac-a32a0224f8b5"
      },
      "source": [
        "x=(\"apple\",\"banana\",\"cherry\")\n",
        "y=list(x)\n",
        "y.append(\"orange\")\n",
        "thistuple=tuple(y)\n",
        "print(thistuple)"
      ],
      "execution_count": null,
      "outputs": [
        {
          "output_type": "stream",
          "text": [
            "('apple', 'banana', 'cherry', 'orange')\n"
          ],
          "name": "stdout"
        }
      ]
    },
    {
      "cell_type": "code",
      "metadata": {
        "colab": {
          "base_uri": "https://localhost:8080/"
        },
        "id": "Yjut8J8bDChq",
        "outputId": "4f316a17-7a0e-4949-8533-fbd85aa32890"
      },
      "source": [
        "x=(\"apple\",\"banana\",\"cherry\")\n",
        "y=list(x)\n",
        "y.remove(\"apple\")\n",
        "thistuple=tuple(y)\n",
        "print(thistuple)"
      ],
      "execution_count": null,
      "outputs": [
        {
          "output_type": "stream",
          "text": [
            "('banana', 'cherry')\n"
          ],
          "name": "stdout"
        }
      ]
    },
    {
      "cell_type": "code",
      "metadata": {
        "colab": {
          "base_uri": "https://localhost:8080/"
        },
        "id": "TMAz-jE3DfcD",
        "outputId": "1c12be9d-e957-4baf-bce1-e6985dae9679"
      },
      "source": [
        "x=(\"apple\",\"banana\",\"cherry\")\n",
        "y=list(x)\n",
        "y.clear()\n",
        "thistuple=tuple(y)\n",
        "print(thistuple)"
      ],
      "execution_count": null,
      "outputs": [
        {
          "output_type": "stream",
          "text": [
            "()\n"
          ],
          "name": "stdout"
        }
      ]
    },
    {
      "cell_type": "code",
      "metadata": {
        "colab": {
          "base_uri": "https://localhost:8080/"
        },
        "id": "4YB3TevuECQV",
        "outputId": "f27ff867-2858-417a-ec97-57bf17583f36"
      },
      "source": [
        "fruits=(\"apple\",\"banana\",\"cherry\")\n",
        "(green,yellow,red)=fruits\n",
        "print(green)\n",
        "print(yellow)\n",
        "print(red)"
      ],
      "execution_count": null,
      "outputs": [
        {
          "output_type": "stream",
          "text": [
            "apple\n",
            "banana\n",
            "cherry\n"
          ],
          "name": "stdout"
        }
      ]
    },
    {
      "cell_type": "code",
      "metadata": {
        "colab": {
          "base_uri": "https://localhost:8080/"
        },
        "id": "W5UfZbqcEqTm",
        "outputId": "6ec93aa7-2030-4084-e7be-e4987d0a0e5e"
      },
      "source": [
        "fruits=(\"apple\",\"banana\",\"cherry\",\"orange\",\"mango\")\n",
        "(green,yellow,*red)=fruits\n",
        "print(green)\n",
        "print(yellow)\n",
        "print(red)"
      ],
      "execution_count": null,
      "outputs": [
        {
          "output_type": "stream",
          "text": [
            "apple\n",
            "banana\n",
            "['cherry', 'orange', 'mango']\n"
          ],
          "name": "stdout"
        }
      ]
    },
    {
      "cell_type": "code",
      "metadata": {
        "colab": {
          "base_uri": "https://localhost:8080/"
        },
        "id": "kaHNK3R2F7tj",
        "outputId": "790689c3-b075-4f6d-f17f-627e7e585f23"
      },
      "source": [
        "fruits=(\"apple\",\"banana\",\"cherry\",\"orange\",\"mango\")\n",
        "(green,*yellow,red)=fruits\n",
        "print(green)\n",
        "print(yellow)\n",
        "print(red)"
      ],
      "execution_count": null,
      "outputs": [
        {
          "output_type": "stream",
          "text": [
            "apple\n",
            "['banana', 'cherry', 'orange']\n",
            "mango\n"
          ],
          "name": "stdout"
        }
      ]
    },
    {
      "cell_type": "code",
      "metadata": {
        "colab": {
          "base_uri": "https://localhost:8080/"
        },
        "id": "l-FIJrNIGaNG",
        "outputId": "0377709b-f855-409d-a321-00002fee47ef"
      },
      "source": [
        "fruits=(\"apple\",\"banana\",\"cherry\",\"orange\",\"mango\")\n",
        "for x in fruits:\n",
        "  print(x)"
      ],
      "execution_count": null,
      "outputs": [
        {
          "output_type": "stream",
          "text": [
            "apple\n",
            "banana\n",
            "cherry\n",
            "orange\n",
            "mango\n"
          ],
          "name": "stdout"
        }
      ]
    },
    {
      "cell_type": "code",
      "metadata": {
        "colab": {
          "base_uri": "https://localhost:8080/"
        },
        "id": "-9lVhvdeGoRo",
        "outputId": "5b6ba8b2-9a31-4050-b5d4-342f038f7c21"
      },
      "source": [
        "fruits=(\"apple\",\"banana\",\"cherry\",\"orange\",\"mango\")\n",
        "for i in range(len(fruits)):\n",
        "  print(fruits[i])"
      ],
      "execution_count": null,
      "outputs": [
        {
          "output_type": "stream",
          "text": [
            "apple\n",
            "banana\n",
            "cherry\n",
            "orange\n",
            "mango\n"
          ],
          "name": "stdout"
        }
      ]
    },
    {
      "cell_type": "code",
      "metadata": {
        "id": "Zc6Dbqk1HE68"
      },
      "source": [
        "### Concatenation ,Merge andJoining Data Frames in Pandas"
      ],
      "execution_count": null,
      "outputs": []
    },
    {
      "cell_type": "markdown",
      "metadata": {
        "id": "eWkEhQNRa4Mx"
      },
      "source": [
        "Lets us Understand concetenation"
      ]
    },
    {
      "cell_type": "code",
      "metadata": {
        "colab": {
          "base_uri": "https://localhost:8080/"
        },
        "id": "FbNx9ka4bAHy",
        "outputId": "d6ccd78c-4cae-4661-9d0c-29c9560070e6"
      },
      "source": [
        "import pandas as pd\n",
        "df1=pd.DataFrame({'Item':['A','B','C','D'],\n",
        "                  'Value':[1,2,3,4]})\n",
        "df2=pd.DataFrame({'Item':['E','F','G','H'],\n",
        "                  'Value':[5,6,7,8]})\n",
        "print(df1)\n",
        "print(df2)"
      ],
      "execution_count": null,
      "outputs": [
        {
          "output_type": "stream",
          "text": [
            "  Item  Value\n",
            "0    A      1\n",
            "1    B      2\n",
            "2    C      3\n",
            "3    D      4\n",
            "  Item  Value\n",
            "0    E      5\n",
            "1    F      6\n",
            "2    G      7\n",
            "3    H      8\n"
          ],
          "name": "stdout"
        }
      ]
    },
    {
      "cell_type": "code",
      "metadata": {
        "colab": {
          "base_uri": "https://localhost:8080/",
          "height": 173
        },
        "id": "EX04I97ceANB",
        "outputId": "304b162b-e7cc-4ad1-a45e-f79674420dbf"
      },
      "source": [
        "df1"
      ],
      "execution_count": null,
      "outputs": [
        {
          "output_type": "execute_result",
          "data": {
            "text/html": [
              "<div>\n",
              "<style scoped>\n",
              "    .dataframe tbody tr th:only-of-type {\n",
              "        vertical-align: middle;\n",
              "    }\n",
              "\n",
              "    .dataframe tbody tr th {\n",
              "        vertical-align: top;\n",
              "    }\n",
              "\n",
              "    .dataframe thead th {\n",
              "        text-align: right;\n",
              "    }\n",
              "</style>\n",
              "<table border=\"1\" class=\"dataframe\">\n",
              "  <thead>\n",
              "    <tr style=\"text-align: right;\">\n",
              "      <th></th>\n",
              "      <th>Item</th>\n",
              "      <th>Value</th>\n",
              "    </tr>\n",
              "  </thead>\n",
              "  <tbody>\n",
              "    <tr>\n",
              "      <th>0</th>\n",
              "      <td>A</td>\n",
              "      <td>1</td>\n",
              "    </tr>\n",
              "    <tr>\n",
              "      <th>1</th>\n",
              "      <td>B</td>\n",
              "      <td>2</td>\n",
              "    </tr>\n",
              "    <tr>\n",
              "      <th>2</th>\n",
              "      <td>C</td>\n",
              "      <td>3</td>\n",
              "    </tr>\n",
              "    <tr>\n",
              "      <th>3</th>\n",
              "      <td>D</td>\n",
              "      <td>4</td>\n",
              "    </tr>\n",
              "  </tbody>\n",
              "</table>\n",
              "</div>"
            ],
            "text/plain": [
              "  Item  Value\n",
              "0    A      1\n",
              "1    B      2\n",
              "2    C      3\n",
              "3    D      4"
            ]
          },
          "metadata": {
            "tags": []
          },
          "execution_count": 3
        }
      ]
    },
    {
      "cell_type": "code",
      "metadata": {
        "colab": {
          "base_uri": "https://localhost:8080/",
          "height": 173
        },
        "id": "Yn8xJXWMeL1p",
        "outputId": "e66fece5-616d-484b-b075-64057052a048"
      },
      "source": [
        "df2"
      ],
      "execution_count": null,
      "outputs": [
        {
          "output_type": "execute_result",
          "data": {
            "text/html": [
              "<div>\n",
              "<style scoped>\n",
              "    .dataframe tbody tr th:only-of-type {\n",
              "        vertical-align: middle;\n",
              "    }\n",
              "\n",
              "    .dataframe tbody tr th {\n",
              "        vertical-align: top;\n",
              "    }\n",
              "\n",
              "    .dataframe thead th {\n",
              "        text-align: right;\n",
              "    }\n",
              "</style>\n",
              "<table border=\"1\" class=\"dataframe\">\n",
              "  <thead>\n",
              "    <tr style=\"text-align: right;\">\n",
              "      <th></th>\n",
              "      <th>Item</th>\n",
              "      <th>Value</th>\n",
              "    </tr>\n",
              "  </thead>\n",
              "  <tbody>\n",
              "    <tr>\n",
              "      <th>0</th>\n",
              "      <td>E</td>\n",
              "      <td>5</td>\n",
              "    </tr>\n",
              "    <tr>\n",
              "      <th>1</th>\n",
              "      <td>F</td>\n",
              "      <td>6</td>\n",
              "    </tr>\n",
              "    <tr>\n",
              "      <th>2</th>\n",
              "      <td>G</td>\n",
              "      <td>7</td>\n",
              "    </tr>\n",
              "    <tr>\n",
              "      <th>3</th>\n",
              "      <td>H</td>\n",
              "      <td>8</td>\n",
              "    </tr>\n",
              "  </tbody>\n",
              "</table>\n",
              "</div>"
            ],
            "text/plain": [
              "  Item  Value\n",
              "0    E      5\n",
              "1    F      6\n",
              "2    G      7\n",
              "3    H      8"
            ]
          },
          "metadata": {
            "tags": []
          },
          "execution_count": 4
        }
      ]
    },
    {
      "cell_type": "code",
      "metadata": {
        "colab": {
          "base_uri": "https://localhost:8080/",
          "height": 297
        },
        "id": "1_IKsAlgeURQ",
        "outputId": "f503087d-c551-4ba6-b6a3-55872cf15885"
      },
      "source": [
        "pd.concat([df1,df2])"
      ],
      "execution_count": null,
      "outputs": [
        {
          "output_type": "execute_result",
          "data": {
            "text/html": [
              "<div>\n",
              "<style scoped>\n",
              "    .dataframe tbody tr th:only-of-type {\n",
              "        vertical-align: middle;\n",
              "    }\n",
              "\n",
              "    .dataframe tbody tr th {\n",
              "        vertical-align: top;\n",
              "    }\n",
              "\n",
              "    .dataframe thead th {\n",
              "        text-align: right;\n",
              "    }\n",
              "</style>\n",
              "<table border=\"1\" class=\"dataframe\">\n",
              "  <thead>\n",
              "    <tr style=\"text-align: right;\">\n",
              "      <th></th>\n",
              "      <th>Item</th>\n",
              "      <th>Value</th>\n",
              "    </tr>\n",
              "  </thead>\n",
              "  <tbody>\n",
              "    <tr>\n",
              "      <th>0</th>\n",
              "      <td>A</td>\n",
              "      <td>1</td>\n",
              "    </tr>\n",
              "    <tr>\n",
              "      <th>1</th>\n",
              "      <td>B</td>\n",
              "      <td>2</td>\n",
              "    </tr>\n",
              "    <tr>\n",
              "      <th>2</th>\n",
              "      <td>C</td>\n",
              "      <td>3</td>\n",
              "    </tr>\n",
              "    <tr>\n",
              "      <th>3</th>\n",
              "      <td>D</td>\n",
              "      <td>4</td>\n",
              "    </tr>\n",
              "    <tr>\n",
              "      <th>0</th>\n",
              "      <td>E</td>\n",
              "      <td>5</td>\n",
              "    </tr>\n",
              "    <tr>\n",
              "      <th>1</th>\n",
              "      <td>F</td>\n",
              "      <td>6</td>\n",
              "    </tr>\n",
              "    <tr>\n",
              "      <th>2</th>\n",
              "      <td>G</td>\n",
              "      <td>7</td>\n",
              "    </tr>\n",
              "    <tr>\n",
              "      <th>3</th>\n",
              "      <td>H</td>\n",
              "      <td>8</td>\n",
              "    </tr>\n",
              "  </tbody>\n",
              "</table>\n",
              "</div>"
            ],
            "text/plain": [
              "  Item  Value\n",
              "0    A      1\n",
              "1    B      2\n",
              "2    C      3\n",
              "3    D      4\n",
              "0    E      5\n",
              "1    F      6\n",
              "2    G      7\n",
              "3    H      8"
            ]
          },
          "metadata": {
            "tags": []
          },
          "execution_count": 5
        }
      ]
    },
    {
      "cell_type": "code",
      "metadata": {
        "colab": {
          "base_uri": "https://localhost:8080/"
        },
        "id": "kOK25ysjebu6",
        "outputId": "1baa6048-a30f-4c51-c13c-1f2707e09e14"
      },
      "source": [
        "df3=pd.DataFrame({'Item':['A','B','C','D'],\n",
        "                  'Value':[6,7,8,9]})\n",
        "df4=pd.DataFrame({'Item':['I','J','K','L'],\n",
        "                  'Value':[1,2,3,4]})\n",
        "print(df3)\n",
        "print(df4)"
      ],
      "execution_count": null,
      "outputs": [
        {
          "output_type": "stream",
          "text": [
            "  Item  Value\n",
            "0    A      6\n",
            "1    B      7\n",
            "2    C      8\n",
            "3    D      9\n",
            "  Item  Value\n",
            "0    I      1\n",
            "1    J      2\n",
            "2    K      3\n",
            "3    L      4\n"
          ],
          "name": "stdout"
        }
      ]
    },
    {
      "cell_type": "code",
      "metadata": {
        "colab": {
          "base_uri": "https://localhost:8080/",
          "height": 297
        },
        "id": "lDnZ1UVce_vw",
        "outputId": "844d2ca4-ee2d-4d47-eb9d-7a08900bc06e"
      },
      "source": [
        "pd.concat([df3,df4])"
      ],
      "execution_count": null,
      "outputs": [
        {
          "output_type": "execute_result",
          "data": {
            "text/html": [
              "<div>\n",
              "<style scoped>\n",
              "    .dataframe tbody tr th:only-of-type {\n",
              "        vertical-align: middle;\n",
              "    }\n",
              "\n",
              "    .dataframe tbody tr th {\n",
              "        vertical-align: top;\n",
              "    }\n",
              "\n",
              "    .dataframe thead th {\n",
              "        text-align: right;\n",
              "    }\n",
              "</style>\n",
              "<table border=\"1\" class=\"dataframe\">\n",
              "  <thead>\n",
              "    <tr style=\"text-align: right;\">\n",
              "      <th></th>\n",
              "      <th>Item</th>\n",
              "      <th>Value</th>\n",
              "    </tr>\n",
              "  </thead>\n",
              "  <tbody>\n",
              "    <tr>\n",
              "      <th>0</th>\n",
              "      <td>A</td>\n",
              "      <td>6</td>\n",
              "    </tr>\n",
              "    <tr>\n",
              "      <th>1</th>\n",
              "      <td>B</td>\n",
              "      <td>7</td>\n",
              "    </tr>\n",
              "    <tr>\n",
              "      <th>2</th>\n",
              "      <td>C</td>\n",
              "      <td>8</td>\n",
              "    </tr>\n",
              "    <tr>\n",
              "      <th>3</th>\n",
              "      <td>D</td>\n",
              "      <td>9</td>\n",
              "    </tr>\n",
              "    <tr>\n",
              "      <th>0</th>\n",
              "      <td>I</td>\n",
              "      <td>1</td>\n",
              "    </tr>\n",
              "    <tr>\n",
              "      <th>1</th>\n",
              "      <td>J</td>\n",
              "      <td>2</td>\n",
              "    </tr>\n",
              "    <tr>\n",
              "      <th>2</th>\n",
              "      <td>K</td>\n",
              "      <td>3</td>\n",
              "    </tr>\n",
              "    <tr>\n",
              "      <th>3</th>\n",
              "      <td>L</td>\n",
              "      <td>4</td>\n",
              "    </tr>\n",
              "  </tbody>\n",
              "</table>\n",
              "</div>"
            ],
            "text/plain": [
              "  Item  Value\n",
              "0    A      6\n",
              "1    B      7\n",
              "2    C      8\n",
              "3    D      9\n",
              "0    I      1\n",
              "1    J      2\n",
              "2    K      3\n",
              "3    L      4"
            ]
          },
          "metadata": {
            "tags": []
          },
          "execution_count": 7
        }
      ]
    },
    {
      "cell_type": "code",
      "metadata": {
        "colab": {
          "base_uri": "https://localhost:8080/",
          "height": 297
        },
        "id": "kjN9kdrNfDYf",
        "outputId": "093bd495-48a3-46fe-e94b-e67bb759f045"
      },
      "source": [
        "df1=pd.DataFrame({'Item':['A','B','C','D'],\n",
        "                  'Value':[1,2,3,4]})\n",
        "df2=pd.DataFrame({'Item':['E','F','G','H'],\n",
        "                  'value':[5,6,7,8]})\n",
        "pd.concat([df1,df2])\n"
      ],
      "execution_count": null,
      "outputs": [
        {
          "output_type": "execute_result",
          "data": {
            "text/html": [
              "<div>\n",
              "<style scoped>\n",
              "    .dataframe tbody tr th:only-of-type {\n",
              "        vertical-align: middle;\n",
              "    }\n",
              "\n",
              "    .dataframe tbody tr th {\n",
              "        vertical-align: top;\n",
              "    }\n",
              "\n",
              "    .dataframe thead th {\n",
              "        text-align: right;\n",
              "    }\n",
              "</style>\n",
              "<table border=\"1\" class=\"dataframe\">\n",
              "  <thead>\n",
              "    <tr style=\"text-align: right;\">\n",
              "      <th></th>\n",
              "      <th>Item</th>\n",
              "      <th>Value</th>\n",
              "      <th>value</th>\n",
              "    </tr>\n",
              "  </thead>\n",
              "  <tbody>\n",
              "    <tr>\n",
              "      <th>0</th>\n",
              "      <td>A</td>\n",
              "      <td>1.0</td>\n",
              "      <td>NaN</td>\n",
              "    </tr>\n",
              "    <tr>\n",
              "      <th>1</th>\n",
              "      <td>B</td>\n",
              "      <td>2.0</td>\n",
              "      <td>NaN</td>\n",
              "    </tr>\n",
              "    <tr>\n",
              "      <th>2</th>\n",
              "      <td>C</td>\n",
              "      <td>3.0</td>\n",
              "      <td>NaN</td>\n",
              "    </tr>\n",
              "    <tr>\n",
              "      <th>3</th>\n",
              "      <td>D</td>\n",
              "      <td>4.0</td>\n",
              "      <td>NaN</td>\n",
              "    </tr>\n",
              "    <tr>\n",
              "      <th>0</th>\n",
              "      <td>E</td>\n",
              "      <td>NaN</td>\n",
              "      <td>5.0</td>\n",
              "    </tr>\n",
              "    <tr>\n",
              "      <th>1</th>\n",
              "      <td>F</td>\n",
              "      <td>NaN</td>\n",
              "      <td>6.0</td>\n",
              "    </tr>\n",
              "    <tr>\n",
              "      <th>2</th>\n",
              "      <td>G</td>\n",
              "      <td>NaN</td>\n",
              "      <td>7.0</td>\n",
              "    </tr>\n",
              "    <tr>\n",
              "      <th>3</th>\n",
              "      <td>H</td>\n",
              "      <td>NaN</td>\n",
              "      <td>8.0</td>\n",
              "    </tr>\n",
              "  </tbody>\n",
              "</table>\n",
              "</div>"
            ],
            "text/plain": [
              "  Item  Value  value\n",
              "0    A    1.0    NaN\n",
              "1    B    2.0    NaN\n",
              "2    C    3.0    NaN\n",
              "3    D    4.0    NaN\n",
              "0    E    NaN    5.0\n",
              "1    F    NaN    6.0\n",
              "2    G    NaN    7.0\n",
              "3    H    NaN    8.0"
            ]
          },
          "metadata": {
            "tags": []
          },
          "execution_count": 8
        }
      ]
    },
    {
      "cell_type": "code",
      "metadata": {
        "colab": {
          "base_uri": "https://localhost:8080/",
          "height": 297
        },
        "id": "0GPBfJDDfm7p",
        "outputId": "1985666d-0088-41b5-8d20-579c371f1a81"
      },
      "source": [
        "df1=pd.DataFrame({'Item':['A','B','C','D'],\n",
        "                  'Value':[1,2,3,4]})\n",
        "df2=pd.DataFrame({'Item':['E','F','G','H'],\n",
        "                  'Quantity':[5,6,7,8]})\n",
        "pd.concat([df1,df2])"
      ],
      "execution_count": null,
      "outputs": [
        {
          "output_type": "execute_result",
          "data": {
            "text/html": [
              "<div>\n",
              "<style scoped>\n",
              "    .dataframe tbody tr th:only-of-type {\n",
              "        vertical-align: middle;\n",
              "    }\n",
              "\n",
              "    .dataframe tbody tr th {\n",
              "        vertical-align: top;\n",
              "    }\n",
              "\n",
              "    .dataframe thead th {\n",
              "        text-align: right;\n",
              "    }\n",
              "</style>\n",
              "<table border=\"1\" class=\"dataframe\">\n",
              "  <thead>\n",
              "    <tr style=\"text-align: right;\">\n",
              "      <th></th>\n",
              "      <th>Item</th>\n",
              "      <th>Value</th>\n",
              "      <th>Quantity</th>\n",
              "    </tr>\n",
              "  </thead>\n",
              "  <tbody>\n",
              "    <tr>\n",
              "      <th>0</th>\n",
              "      <td>A</td>\n",
              "      <td>1.0</td>\n",
              "      <td>NaN</td>\n",
              "    </tr>\n",
              "    <tr>\n",
              "      <th>1</th>\n",
              "      <td>B</td>\n",
              "      <td>2.0</td>\n",
              "      <td>NaN</td>\n",
              "    </tr>\n",
              "    <tr>\n",
              "      <th>2</th>\n",
              "      <td>C</td>\n",
              "      <td>3.0</td>\n",
              "      <td>NaN</td>\n",
              "    </tr>\n",
              "    <tr>\n",
              "      <th>3</th>\n",
              "      <td>D</td>\n",
              "      <td>4.0</td>\n",
              "      <td>NaN</td>\n",
              "    </tr>\n",
              "    <tr>\n",
              "      <th>0</th>\n",
              "      <td>E</td>\n",
              "      <td>NaN</td>\n",
              "      <td>5.0</td>\n",
              "    </tr>\n",
              "    <tr>\n",
              "      <th>1</th>\n",
              "      <td>F</td>\n",
              "      <td>NaN</td>\n",
              "      <td>6.0</td>\n",
              "    </tr>\n",
              "    <tr>\n",
              "      <th>2</th>\n",
              "      <td>G</td>\n",
              "      <td>NaN</td>\n",
              "      <td>7.0</td>\n",
              "    </tr>\n",
              "    <tr>\n",
              "      <th>3</th>\n",
              "      <td>H</td>\n",
              "      <td>NaN</td>\n",
              "      <td>8.0</td>\n",
              "    </tr>\n",
              "  </tbody>\n",
              "</table>\n",
              "</div>"
            ],
            "text/plain": [
              "  Item  Value  Quantity\n",
              "0    A    1.0       NaN\n",
              "1    B    2.0       NaN\n",
              "2    C    3.0       NaN\n",
              "3    D    4.0       NaN\n",
              "0    E    NaN       5.0\n",
              "1    F    NaN       6.0\n",
              "2    G    NaN       7.0\n",
              "3    H    NaN       8.0"
            ]
          },
          "metadata": {
            "tags": []
          },
          "execution_count": 9
        }
      ]
    },
    {
      "cell_type": "code",
      "metadata": {
        "colab": {
          "base_uri": "https://localhost:8080/",
          "height": 297
        },
        "id": "KvhBqNlIfwFC",
        "outputId": "03569e3c-7205-477c-a0a9-fdfd5b430d35"
      },
      "source": [
        "df1=pd.DataFrame({'Item':['A','B','C','D'],\n",
        "                  'Value':[1,2,3,4]})\n",
        "df2=pd.DataFrame({'Item':['E','F','G','H'],\n",
        "                  'Quantity':[5,6,7,8]})\n",
        "pd.concat([df1,df2]).reset_index()"
      ],
      "execution_count": null,
      "outputs": [
        {
          "output_type": "execute_result",
          "data": {
            "text/html": [
              "<div>\n",
              "<style scoped>\n",
              "    .dataframe tbody tr th:only-of-type {\n",
              "        vertical-align: middle;\n",
              "    }\n",
              "\n",
              "    .dataframe tbody tr th {\n",
              "        vertical-align: top;\n",
              "    }\n",
              "\n",
              "    .dataframe thead th {\n",
              "        text-align: right;\n",
              "    }\n",
              "</style>\n",
              "<table border=\"1\" class=\"dataframe\">\n",
              "  <thead>\n",
              "    <tr style=\"text-align: right;\">\n",
              "      <th></th>\n",
              "      <th>index</th>\n",
              "      <th>Item</th>\n",
              "      <th>Value</th>\n",
              "      <th>Quantity</th>\n",
              "    </tr>\n",
              "  </thead>\n",
              "  <tbody>\n",
              "    <tr>\n",
              "      <th>0</th>\n",
              "      <td>0</td>\n",
              "      <td>A</td>\n",
              "      <td>1.0</td>\n",
              "      <td>NaN</td>\n",
              "    </tr>\n",
              "    <tr>\n",
              "      <th>1</th>\n",
              "      <td>1</td>\n",
              "      <td>B</td>\n",
              "      <td>2.0</td>\n",
              "      <td>NaN</td>\n",
              "    </tr>\n",
              "    <tr>\n",
              "      <th>2</th>\n",
              "      <td>2</td>\n",
              "      <td>C</td>\n",
              "      <td>3.0</td>\n",
              "      <td>NaN</td>\n",
              "    </tr>\n",
              "    <tr>\n",
              "      <th>3</th>\n",
              "      <td>3</td>\n",
              "      <td>D</td>\n",
              "      <td>4.0</td>\n",
              "      <td>NaN</td>\n",
              "    </tr>\n",
              "    <tr>\n",
              "      <th>4</th>\n",
              "      <td>0</td>\n",
              "      <td>E</td>\n",
              "      <td>NaN</td>\n",
              "      <td>5.0</td>\n",
              "    </tr>\n",
              "    <tr>\n",
              "      <th>5</th>\n",
              "      <td>1</td>\n",
              "      <td>F</td>\n",
              "      <td>NaN</td>\n",
              "      <td>6.0</td>\n",
              "    </tr>\n",
              "    <tr>\n",
              "      <th>6</th>\n",
              "      <td>2</td>\n",
              "      <td>G</td>\n",
              "      <td>NaN</td>\n",
              "      <td>7.0</td>\n",
              "    </tr>\n",
              "    <tr>\n",
              "      <th>7</th>\n",
              "      <td>3</td>\n",
              "      <td>H</td>\n",
              "      <td>NaN</td>\n",
              "      <td>8.0</td>\n",
              "    </tr>\n",
              "  </tbody>\n",
              "</table>\n",
              "</div>"
            ],
            "text/plain": [
              "   index Item  Value  Quantity\n",
              "0      0    A    1.0       NaN\n",
              "1      1    B    2.0       NaN\n",
              "2      2    C    3.0       NaN\n",
              "3      3    D    4.0       NaN\n",
              "4      0    E    NaN       5.0\n",
              "5      1    F    NaN       6.0\n",
              "6      2    G    NaN       7.0\n",
              "7      3    H    NaN       8.0"
            ]
          },
          "metadata": {
            "tags": []
          },
          "execution_count": 10
        }
      ]
    },
    {
      "cell_type": "code",
      "metadata": {
        "colab": {
          "base_uri": "https://localhost:8080/",
          "height": 173
        },
        "id": "F-hPFt26gFYr",
        "outputId": "1a361188-7ccc-4fae-ad55-1dc1eb7e0194"
      },
      "source": [
        "pd.concat([df1,df2],axis=1)"
      ],
      "execution_count": null,
      "outputs": [
        {
          "output_type": "execute_result",
          "data": {
            "text/html": [
              "<div>\n",
              "<style scoped>\n",
              "    .dataframe tbody tr th:only-of-type {\n",
              "        vertical-align: middle;\n",
              "    }\n",
              "\n",
              "    .dataframe tbody tr th {\n",
              "        vertical-align: top;\n",
              "    }\n",
              "\n",
              "    .dataframe thead th {\n",
              "        text-align: right;\n",
              "    }\n",
              "</style>\n",
              "<table border=\"1\" class=\"dataframe\">\n",
              "  <thead>\n",
              "    <tr style=\"text-align: right;\">\n",
              "      <th></th>\n",
              "      <th>Item</th>\n",
              "      <th>Value</th>\n",
              "      <th>Item</th>\n",
              "      <th>Quantity</th>\n",
              "    </tr>\n",
              "  </thead>\n",
              "  <tbody>\n",
              "    <tr>\n",
              "      <th>0</th>\n",
              "      <td>A</td>\n",
              "      <td>1</td>\n",
              "      <td>E</td>\n",
              "      <td>5</td>\n",
              "    </tr>\n",
              "    <tr>\n",
              "      <th>1</th>\n",
              "      <td>B</td>\n",
              "      <td>2</td>\n",
              "      <td>F</td>\n",
              "      <td>6</td>\n",
              "    </tr>\n",
              "    <tr>\n",
              "      <th>2</th>\n",
              "      <td>C</td>\n",
              "      <td>3</td>\n",
              "      <td>G</td>\n",
              "      <td>7</td>\n",
              "    </tr>\n",
              "    <tr>\n",
              "      <th>3</th>\n",
              "      <td>D</td>\n",
              "      <td>4</td>\n",
              "      <td>H</td>\n",
              "      <td>8</td>\n",
              "    </tr>\n",
              "  </tbody>\n",
              "</table>\n",
              "</div>"
            ],
            "text/plain": [
              "  Item  Value Item  Quantity\n",
              "0    A      1    E         5\n",
              "1    B      2    F         6\n",
              "2    C      3    G         7\n",
              "3    D      4    H         8"
            ]
          },
          "metadata": {
            "tags": []
          },
          "execution_count": 11
        }
      ]
    },
    {
      "cell_type": "code",
      "metadata": {
        "id": "oDIVphOBgZ4-"
      },
      "source": [
        ""
      ],
      "execution_count": null,
      "outputs": []
    },
    {
      "cell_type": "markdown",
      "metadata": {
        "id": "rHfPsvvFg3RY"
      },
      "source": [
        "Use Append to add multiple dataframe to another"
      ]
    },
    {
      "cell_type": "code",
      "metadata": {
        "id": "y2lmaMDYhBgy"
      },
      "source": [
        "df1=pd.DataFrame({'Item':['A','B','C','D'],\n",
        "                  'Value':[1,2,3,4]})\n",
        "df2=pd.DataFrame({'Item':['E','F','G','H'],\n",
        "                  'Quantity':[5,6,7,8]})\n",
        "df3=pd.DataFrame({'Item':['A','B','C','D'],\n",
        "                  'Value':[6,7,8,9]})\n"
      ],
      "execution_count": null,
      "outputs": []
    },
    {
      "cell_type": "code",
      "metadata": {
        "colab": {
          "base_uri": "https://localhost:8080/",
          "height": 173
        },
        "id": "urCru9r-iX1q",
        "outputId": "e5f140fc-63fb-456a-9adc-dfdb266e8b1e"
      },
      "source": [
        "dfA=pd.DataFrame({'Key':['K1','K2','K3','K4'],\n",
        "                  'A':['A1','A2','A3','A4'],\n",
        "                  'B':['B1','B2','B3','B4']})\n",
        "dfB=pd.DataFrame({'Key':['K1','K2','K3','K4'],\n",
        "                  'C':['C1','C2','C3','C4'],\n",
        "                  'D':['D1','D2','D3','D4']})\n",
        "pd.merge(dfA,dfB,how='left',on='Key')"
      ],
      "execution_count": null,
      "outputs": [
        {
          "output_type": "execute_result",
          "data": {
            "text/html": [
              "<div>\n",
              "<style scoped>\n",
              "    .dataframe tbody tr th:only-of-type {\n",
              "        vertical-align: middle;\n",
              "    }\n",
              "\n",
              "    .dataframe tbody tr th {\n",
              "        vertical-align: top;\n",
              "    }\n",
              "\n",
              "    .dataframe thead th {\n",
              "        text-align: right;\n",
              "    }\n",
              "</style>\n",
              "<table border=\"1\" class=\"dataframe\">\n",
              "  <thead>\n",
              "    <tr style=\"text-align: right;\">\n",
              "      <th></th>\n",
              "      <th>Key</th>\n",
              "      <th>A</th>\n",
              "      <th>B</th>\n",
              "      <th>C</th>\n",
              "      <th>D</th>\n",
              "    </tr>\n",
              "  </thead>\n",
              "  <tbody>\n",
              "    <tr>\n",
              "      <th>0</th>\n",
              "      <td>K1</td>\n",
              "      <td>A1</td>\n",
              "      <td>B1</td>\n",
              "      <td>C1</td>\n",
              "      <td>D1</td>\n",
              "    </tr>\n",
              "    <tr>\n",
              "      <th>1</th>\n",
              "      <td>K2</td>\n",
              "      <td>A2</td>\n",
              "      <td>B2</td>\n",
              "      <td>C2</td>\n",
              "      <td>D2</td>\n",
              "    </tr>\n",
              "    <tr>\n",
              "      <th>2</th>\n",
              "      <td>K3</td>\n",
              "      <td>A3</td>\n",
              "      <td>B3</td>\n",
              "      <td>C3</td>\n",
              "      <td>D3</td>\n",
              "    </tr>\n",
              "    <tr>\n",
              "      <th>3</th>\n",
              "      <td>K4</td>\n",
              "      <td>A4</td>\n",
              "      <td>B4</td>\n",
              "      <td>C4</td>\n",
              "      <td>D4</td>\n",
              "    </tr>\n",
              "  </tbody>\n",
              "</table>\n",
              "</div>"
            ],
            "text/plain": [
              "  Key   A   B   C   D\n",
              "0  K1  A1  B1  C1  D1\n",
              "1  K2  A2  B2  C2  D2\n",
              "2  K3  A3  B3  C3  D3\n",
              "3  K4  A4  B4  C4  D4"
            ]
          },
          "metadata": {
            "tags": []
          },
          "execution_count": 14
        }
      ]
    },
    {
      "cell_type": "code",
      "metadata": {
        "id": "fLv6aoUBjtMy"
      },
      "source": [
        ""
      ],
      "execution_count": null,
      "outputs": []
    },
    {
      "cell_type": "code",
      "metadata": {
        "colab": {
          "base_uri": "https://localhost:8080/",
          "height": 173
        },
        "id": "5PaL3JHLkBjn",
        "outputId": "2d40f088-e9e8-40ec-9034-435dca9f6de5"
      },
      "source": [
        "dfA=pd.DataFrame({'Key':['K1','K2','K3','K4'],\n",
        "                  'A':['A1','A2','A3','A4'],\n",
        "                  'B':['B1','B2','B3','B4']})\n",
        "dfB=pd.DataFrame({'Key':['K1','K2','K3','K4'],\n",
        "                  'C':['C1','C2','C3','C4'],\n",
        "                  'D':['D1','D2','D3','D4']})\n",
        "pd.merge(dfA,dfB,how='right',on='Key')"
      ],
      "execution_count": null,
      "outputs": [
        {
          "output_type": "execute_result",
          "data": {
            "text/html": [
              "<div>\n",
              "<style scoped>\n",
              "    .dataframe tbody tr th:only-of-type {\n",
              "        vertical-align: middle;\n",
              "    }\n",
              "\n",
              "    .dataframe tbody tr th {\n",
              "        vertical-align: top;\n",
              "    }\n",
              "\n",
              "    .dataframe thead th {\n",
              "        text-align: right;\n",
              "    }\n",
              "</style>\n",
              "<table border=\"1\" class=\"dataframe\">\n",
              "  <thead>\n",
              "    <tr style=\"text-align: right;\">\n",
              "      <th></th>\n",
              "      <th>Key</th>\n",
              "      <th>A</th>\n",
              "      <th>B</th>\n",
              "      <th>C</th>\n",
              "      <th>D</th>\n",
              "    </tr>\n",
              "  </thead>\n",
              "  <tbody>\n",
              "    <tr>\n",
              "      <th>0</th>\n",
              "      <td>K1</td>\n",
              "      <td>A1</td>\n",
              "      <td>B1</td>\n",
              "      <td>C1</td>\n",
              "      <td>D1</td>\n",
              "    </tr>\n",
              "    <tr>\n",
              "      <th>1</th>\n",
              "      <td>K2</td>\n",
              "      <td>A2</td>\n",
              "      <td>B2</td>\n",
              "      <td>C2</td>\n",
              "      <td>D2</td>\n",
              "    </tr>\n",
              "    <tr>\n",
              "      <th>2</th>\n",
              "      <td>K3</td>\n",
              "      <td>A3</td>\n",
              "      <td>B3</td>\n",
              "      <td>C3</td>\n",
              "      <td>D3</td>\n",
              "    </tr>\n",
              "    <tr>\n",
              "      <th>3</th>\n",
              "      <td>K4</td>\n",
              "      <td>A4</td>\n",
              "      <td>B4</td>\n",
              "      <td>C4</td>\n",
              "      <td>D4</td>\n",
              "    </tr>\n",
              "  </tbody>\n",
              "</table>\n",
              "</div>"
            ],
            "text/plain": [
              "  Key   A   B   C   D\n",
              "0  K1  A1  B1  C1  D1\n",
              "1  K2  A2  B2  C2  D2\n",
              "2  K3  A3  B3  C3  D3\n",
              "3  K4  A4  B4  C4  D4"
            ]
          },
          "metadata": {
            "tags": []
          },
          "execution_count": 16
        }
      ]
    },
    {
      "cell_type": "code",
      "metadata": {
        "id": "7rYELNDKkDe7"
      },
      "source": [
        ""
      ],
      "execution_count": null,
      "outputs": []
    },
    {
      "cell_type": "code",
      "metadata": {
        "colab": {
          "base_uri": "https://localhost:8080/",
          "height": 173
        },
        "id": "JEpw_fs4kGH4",
        "outputId": "6b57fc8c-acba-47b3-a422-8f52fc654664"
      },
      "source": [
        "dfA=pd.DataFrame({'Key':['K1','K2','K3','K4'],\n",
        "                  'A':['A1','A2','A3','A4'],\n",
        "                  'B':['B1','B2','B3','B4']})\n",
        "dfB=pd.DataFrame({'Key':['K1','K2','K3','K4'],\n",
        "                  'C':['C1','C2','C3','C4'],\n",
        "                  'D':['D1','D2','D3','D4']})\n",
        "pd.merge(dfA,dfB,how='inner',on='Key')"
      ],
      "execution_count": null,
      "outputs": [
        {
          "output_type": "execute_result",
          "data": {
            "text/html": [
              "<div>\n",
              "<style scoped>\n",
              "    .dataframe tbody tr th:only-of-type {\n",
              "        vertical-align: middle;\n",
              "    }\n",
              "\n",
              "    .dataframe tbody tr th {\n",
              "        vertical-align: top;\n",
              "    }\n",
              "\n",
              "    .dataframe thead th {\n",
              "        text-align: right;\n",
              "    }\n",
              "</style>\n",
              "<table border=\"1\" class=\"dataframe\">\n",
              "  <thead>\n",
              "    <tr style=\"text-align: right;\">\n",
              "      <th></th>\n",
              "      <th>Key</th>\n",
              "      <th>A</th>\n",
              "      <th>B</th>\n",
              "      <th>C</th>\n",
              "      <th>D</th>\n",
              "    </tr>\n",
              "  </thead>\n",
              "  <tbody>\n",
              "    <tr>\n",
              "      <th>0</th>\n",
              "      <td>K1</td>\n",
              "      <td>A1</td>\n",
              "      <td>B1</td>\n",
              "      <td>C1</td>\n",
              "      <td>D1</td>\n",
              "    </tr>\n",
              "    <tr>\n",
              "      <th>1</th>\n",
              "      <td>K2</td>\n",
              "      <td>A2</td>\n",
              "      <td>B2</td>\n",
              "      <td>C2</td>\n",
              "      <td>D2</td>\n",
              "    </tr>\n",
              "    <tr>\n",
              "      <th>2</th>\n",
              "      <td>K3</td>\n",
              "      <td>A3</td>\n",
              "      <td>B3</td>\n",
              "      <td>C3</td>\n",
              "      <td>D3</td>\n",
              "    </tr>\n",
              "    <tr>\n",
              "      <th>3</th>\n",
              "      <td>K4</td>\n",
              "      <td>A4</td>\n",
              "      <td>B4</td>\n",
              "      <td>C4</td>\n",
              "      <td>D4</td>\n",
              "    </tr>\n",
              "  </tbody>\n",
              "</table>\n",
              "</div>"
            ],
            "text/plain": [
              "  Key   A   B   C   D\n",
              "0  K1  A1  B1  C1  D1\n",
              "1  K2  A2  B2  C2  D2\n",
              "2  K3  A3  B3  C3  D3\n",
              "3  K4  A4  B4  C4  D4"
            ]
          },
          "metadata": {
            "tags": []
          },
          "execution_count": 17
        }
      ]
    },
    {
      "cell_type": "code",
      "metadata": {
        "id": "Yth3lxLvkH3_"
      },
      "source": [
        ""
      ],
      "execution_count": null,
      "outputs": []
    },
    {
      "cell_type": "markdown",
      "metadata": {
        "id": "yG9baOCPkTYg"
      },
      "source": [
        "Joining"
      ]
    },
    {
      "cell_type": "code",
      "metadata": {
        "colab": {
          "base_uri": "https://localhost:8080/",
          "height": 173
        },
        "id": "40MUNxQdkWHl",
        "outputId": "06c8ed6f-437b-4230-9e77-dca46d08e5d8"
      },
      "source": [
        "left=pd.DataFrame({'A':['A1','A2','A3','A4'],\n",
        "                  'B':['B1','B2','B3','B4']},\n",
        "                 index=['K1','K2','K3','K4'])\n",
        "left"
      ],
      "execution_count": null,
      "outputs": [
        {
          "output_type": "execute_result",
          "data": {
            "text/html": [
              "<div>\n",
              "<style scoped>\n",
              "    .dataframe tbody tr th:only-of-type {\n",
              "        vertical-align: middle;\n",
              "    }\n",
              "\n",
              "    .dataframe tbody tr th {\n",
              "        vertical-align: top;\n",
              "    }\n",
              "\n",
              "    .dataframe thead th {\n",
              "        text-align: right;\n",
              "    }\n",
              "</style>\n",
              "<table border=\"1\" class=\"dataframe\">\n",
              "  <thead>\n",
              "    <tr style=\"text-align: right;\">\n",
              "      <th></th>\n",
              "      <th>A</th>\n",
              "      <th>B</th>\n",
              "    </tr>\n",
              "  </thead>\n",
              "  <tbody>\n",
              "    <tr>\n",
              "      <th>K1</th>\n",
              "      <td>A1</td>\n",
              "      <td>B1</td>\n",
              "    </tr>\n",
              "    <tr>\n",
              "      <th>K2</th>\n",
              "      <td>A2</td>\n",
              "      <td>B2</td>\n",
              "    </tr>\n",
              "    <tr>\n",
              "      <th>K3</th>\n",
              "      <td>A3</td>\n",
              "      <td>B3</td>\n",
              "    </tr>\n",
              "    <tr>\n",
              "      <th>K4</th>\n",
              "      <td>A4</td>\n",
              "      <td>B4</td>\n",
              "    </tr>\n",
              "  </tbody>\n",
              "</table>\n",
              "</div>"
            ],
            "text/plain": [
              "     A   B\n",
              "K1  A1  B1\n",
              "K2  A2  B2\n",
              "K3  A3  B3\n",
              "K4  A4  B4"
            ]
          },
          "metadata": {
            "tags": []
          },
          "execution_count": 20
        }
      ]
    },
    {
      "cell_type": "code",
      "metadata": {
        "id": "lziq7f2Zk8XE"
      },
      "source": [
        "right=pd.DataFrame({'A':['A1','A2','A3','A4'],\n",
        "                  'B':['B1','B2','B3','B4']},\n",
        "                 index=['K4','K3','K2','K1'])"
      ],
      "execution_count": null,
      "outputs": []
    },
    {
      "cell_type": "code",
      "metadata": {
        "colab": {
          "base_uri": "https://localhost:8080/",
          "height": 173
        },
        "id": "cAyJNRXGlW2b",
        "outputId": "582e255d-18f9-4161-e048-e1ca0481de8e"
      },
      "source": [
        "right"
      ],
      "execution_count": null,
      "outputs": [
        {
          "output_type": "execute_result",
          "data": {
            "text/html": [
              "<div>\n",
              "<style scoped>\n",
              "    .dataframe tbody tr th:only-of-type {\n",
              "        vertical-align: middle;\n",
              "    }\n",
              "\n",
              "    .dataframe tbody tr th {\n",
              "        vertical-align: top;\n",
              "    }\n",
              "\n",
              "    .dataframe thead th {\n",
              "        text-align: right;\n",
              "    }\n",
              "</style>\n",
              "<table border=\"1\" class=\"dataframe\">\n",
              "  <thead>\n",
              "    <tr style=\"text-align: right;\">\n",
              "      <th></th>\n",
              "      <th>A</th>\n",
              "      <th>B</th>\n",
              "    </tr>\n",
              "  </thead>\n",
              "  <tbody>\n",
              "    <tr>\n",
              "      <th>K4</th>\n",
              "      <td>A1</td>\n",
              "      <td>B1</td>\n",
              "    </tr>\n",
              "    <tr>\n",
              "      <th>K3</th>\n",
              "      <td>A2</td>\n",
              "      <td>B2</td>\n",
              "    </tr>\n",
              "    <tr>\n",
              "      <th>K2</th>\n",
              "      <td>A3</td>\n",
              "      <td>B3</td>\n",
              "    </tr>\n",
              "    <tr>\n",
              "      <th>K1</th>\n",
              "      <td>A4</td>\n",
              "      <td>B4</td>\n",
              "    </tr>\n",
              "  </tbody>\n",
              "</table>\n",
              "</div>"
            ],
            "text/plain": [
              "     A   B\n",
              "K4  A1  B1\n",
              "K3  A2  B2\n",
              "K2  A3  B3\n",
              "K1  A4  B4"
            ]
          },
          "metadata": {
            "tags": []
          },
          "execution_count": 22
        }
      ]
    },
    {
      "cell_type": "code",
      "metadata": {
        "colab": {
          "base_uri": "https://localhost:8080/",
          "height": 142
        },
        "id": "MbOGVQZ_lYcG",
        "outputId": "56d1a724-aed6-4944-89bd-494b72b87d16"
      },
      "source": [
        "left=pd.DataFrame({'A':['A1','A2','A3'],\n",
        "                  'B':['B1','B2','B3']},\n",
        "                 index=['K1','K2','K3'])\n",
        "left"
      ],
      "execution_count": null,
      "outputs": [
        {
          "output_type": "execute_result",
          "data": {
            "text/html": [
              "<div>\n",
              "<style scoped>\n",
              "    .dataframe tbody tr th:only-of-type {\n",
              "        vertical-align: middle;\n",
              "    }\n",
              "\n",
              "    .dataframe tbody tr th {\n",
              "        vertical-align: top;\n",
              "    }\n",
              "\n",
              "    .dataframe thead th {\n",
              "        text-align: right;\n",
              "    }\n",
              "</style>\n",
              "<table border=\"1\" class=\"dataframe\">\n",
              "  <thead>\n",
              "    <tr style=\"text-align: right;\">\n",
              "      <th></th>\n",
              "      <th>A</th>\n",
              "      <th>B</th>\n",
              "    </tr>\n",
              "  </thead>\n",
              "  <tbody>\n",
              "    <tr>\n",
              "      <th>K1</th>\n",
              "      <td>A1</td>\n",
              "      <td>B1</td>\n",
              "    </tr>\n",
              "    <tr>\n",
              "      <th>K2</th>\n",
              "      <td>A2</td>\n",
              "      <td>B2</td>\n",
              "    </tr>\n",
              "    <tr>\n",
              "      <th>K3</th>\n",
              "      <td>A3</td>\n",
              "      <td>B3</td>\n",
              "    </tr>\n",
              "  </tbody>\n",
              "</table>\n",
              "</div>"
            ],
            "text/plain": [
              "     A   B\n",
              "K1  A1  B1\n",
              "K2  A2  B2\n",
              "K3  A3  B3"
            ]
          },
          "metadata": {
            "tags": []
          },
          "execution_count": 23
        }
      ]
    },
    {
      "cell_type": "code",
      "metadata": {
        "colab": {
          "base_uri": "https://localhost:8080/",
          "height": 142
        },
        "id": "inuM8-csl5EC",
        "outputId": "75937b3a-f58d-44f7-9163-01252ec966a2"
      },
      "source": [
        "right=pd.DataFrame({'A':['A1','A2','A3'],\n",
        "                  'B':['B1','B2','B3']},\n",
        "                 index=['K3','K2','K1'])\n",
        "right                 "
      ],
      "execution_count": null,
      "outputs": [
        {
          "output_type": "execute_result",
          "data": {
            "text/html": [
              "<div>\n",
              "<style scoped>\n",
              "    .dataframe tbody tr th:only-of-type {\n",
              "        vertical-align: middle;\n",
              "    }\n",
              "\n",
              "    .dataframe tbody tr th {\n",
              "        vertical-align: top;\n",
              "    }\n",
              "\n",
              "    .dataframe thead th {\n",
              "        text-align: right;\n",
              "    }\n",
              "</style>\n",
              "<table border=\"1\" class=\"dataframe\">\n",
              "  <thead>\n",
              "    <tr style=\"text-align: right;\">\n",
              "      <th></th>\n",
              "      <th>A</th>\n",
              "      <th>B</th>\n",
              "    </tr>\n",
              "  </thead>\n",
              "  <tbody>\n",
              "    <tr>\n",
              "      <th>K3</th>\n",
              "      <td>A1</td>\n",
              "      <td>B1</td>\n",
              "    </tr>\n",
              "    <tr>\n",
              "      <th>K2</th>\n",
              "      <td>A2</td>\n",
              "      <td>B2</td>\n",
              "    </tr>\n",
              "    <tr>\n",
              "      <th>K1</th>\n",
              "      <td>A3</td>\n",
              "      <td>B3</td>\n",
              "    </tr>\n",
              "  </tbody>\n",
              "</table>\n",
              "</div>"
            ],
            "text/plain": [
              "     A   B\n",
              "K3  A1  B1\n",
              "K2  A2  B2\n",
              "K1  A3  B3"
            ]
          },
          "metadata": {
            "tags": []
          },
          "execution_count": 26
        }
      ]
    },
    {
      "cell_type": "code",
      "metadata": {
        "colab": {
          "base_uri": "https://localhost:8080/"
        },
        "id": "--4-S0-iqQIm",
        "outputId": "a004098e-a2ec-4fa5-c95a-7d9bc732e0ba"
      },
      "source": [
        "thisdict={\"Brand\":\"Ford\",\r\n",
        "          \"Model\":\"Mustang\",\r\n",
        "          \"Year\":1964}\r\n",
        "print(thisdict)"
      ],
      "execution_count": null,
      "outputs": [
        {
          "output_type": "stream",
          "text": [
            "{'Brand': 'Ford', 'Model': 'Mustang', 'Year': 1964}\n"
          ],
          "name": "stdout"
        }
      ]
    },
    {
      "cell_type": "code",
      "metadata": {
        "colab": {
          "base_uri": "https://localhost:8080/"
        },
        "id": "r2guMJS6qS9T",
        "outputId": "d8b112c0-3f40-46b7-ad81-ca93fcc488f6"
      },
      "source": [
        "print(thisdict[\"Year\"])"
      ],
      "execution_count": null,
      "outputs": [
        {
          "output_type": "stream",
          "text": [
            "1964\n"
          ],
          "name": "stdout"
        }
      ]
    },
    {
      "cell_type": "code",
      "metadata": {
        "colab": {
          "base_uri": "https://localhost:8080/"
        },
        "id": "K2-qbhLXqY74",
        "outputId": "093f3734-0f44-4ed6-a047-91d26d8b1d4f"
      },
      "source": [
        "print(thisdict[\"Model\"])"
      ],
      "execution_count": null,
      "outputs": [
        {
          "output_type": "stream",
          "text": [
            "Mustang\n"
          ],
          "name": "stdout"
        }
      ]
    },
    {
      "cell_type": "code",
      "metadata": {
        "colab": {
          "base_uri": "https://localhost:8080/"
        },
        "id": "7Oj91XAaqbhc",
        "outputId": "ac137ae5-40f2-4ea1-bff2-52f0813319c4"
      },
      "source": [
        "thisdict={\"Brand\":\"Ford\",\r\n",
        "          \"Model\":\"Mustang\",\r\n",
        "          \"Year\":1964,\r\n",
        "          \"Country\":\"India\",\r\n",
        "          \"Year\":\"2020\"}\r\n",
        "print(thisdict[\"Year\"])"
      ],
      "execution_count": null,
      "outputs": [
        {
          "output_type": "stream",
          "text": [
            "2020\n"
          ],
          "name": "stdout"
        }
      ]
    },
    {
      "cell_type": "code",
      "metadata": {
        "id": "1HfQVEVt0JcP"
      },
      "source": [
        ""
      ],
      "execution_count": null,
      "outputs": []
    },
    {
      "cell_type": "code",
      "metadata": {
        "colab": {
          "base_uri": "https://localhost:8080/"
        },
        "id": "3ZXNaw6YqfKC",
        "outputId": "a7d529ca-479c-4aa6-a534-36266f03dae5"
      },
      "source": [
        "print(len(thisdict))"
      ],
      "execution_count": null,
      "outputs": [
        {
          "output_type": "stream",
          "text": [
            "4\n"
          ],
          "name": "stdout"
        }
      ]
    },
    {
      "cell_type": "code",
      "metadata": {
        "colab": {
          "base_uri": "https://localhost:8080/"
        },
        "id": "RvWHOQmDqhyi",
        "outputId": "75cb0ebf-9aa6-4330-96ff-95bb7ac470c4"
      },
      "source": [
        "thisdict={\"Brand\":\"Ford\",\r\n",
        "          \"Model\":\"Mustang\",\r\n",
        "          \"Year\":1964,\r\n",
        "          \"Country\":\"India\",\r\n",
        "          \"Year\":\"2020\",\r\n",
        "          \"Colour\":[\"Red\",\"White\",\"Black\"]}\r\n",
        "print(thisdict[\"Colour\"])"
      ],
      "execution_count": null,
      "outputs": [
        {
          "output_type": "stream",
          "text": [
            "['Red', 'White', 'Black']\n"
          ],
          "name": "stdout"
        }
      ]
    },
    {
      "cell_type": "code",
      "metadata": {
        "colab": {
          "base_uri": "https://localhost:8080/"
        },
        "id": "uD3sCwG3qncX",
        "outputId": "87b4c80c-5262-43c6-c3b8-14d796165658"
      },
      "source": [
        "print(thisdict[\"Colour\"][0])"
      ],
      "execution_count": null,
      "outputs": [
        {
          "output_type": "stream",
          "text": [
            "Red\n"
          ],
          "name": "stdout"
        }
      ]
    },
    {
      "cell_type": "code",
      "metadata": {
        "colab": {
          "base_uri": "https://localhost:8080/"
        },
        "id": "TW6-C22xqsBh",
        "outputId": "eddba899-001e-4e32-db23-854e855704f8"
      },
      "source": [
        "thisdict={\"Brand\":\"Ford\",\r\n",
        "          \"Model\":\"Mustang\",\r\n",
        "          \"Year\":1964,\r\n",
        "          \"Country\":\"India\",\r\n",
        "          \"Year\":\"2020\",\r\n",
        "          \"Colour\":[\"Red\",\"White\",\"Black\"]}\r\n",
        "thisdict.update({\"Aditya\":\"First owner\"})\r\n",
        "print(thisdict)"
      ],
      "execution_count": null,
      "outputs": [
        {
          "output_type": "stream",
          "text": [
            "{'Brand': 'Ford', 'Model': 'Mustang', 'Year': '2020', 'Country': 'India', 'Colour': ['Red', 'White', 'Black'], 'Aditya': 'First owner'}\n"
          ],
          "name": "stdout"
        }
      ]
    },
    {
      "cell_type": "code",
      "metadata": {
        "colab": {
          "base_uri": "https://localhost:8080/"
        },
        "id": "0QFCKYNsqvTj",
        "outputId": "26addd43-d071-45d0-87d7-2aadc547e127"
      },
      "source": [
        "thisdict.pop(\"Colour\")\r\n",
        "print(thisdict)"
      ],
      "execution_count": null,
      "outputs": [
        {
          "output_type": "stream",
          "text": [
            "{'Brand': 'Ford', 'Model': 'Mustang', 'Year': '2020', 'Country': 'India', 'Aditya': 'First owner'}\n"
          ],
          "name": "stdout"
        }
      ]
    },
    {
      "cell_type": "code",
      "metadata": {
        "colab": {
          "base_uri": "https://localhost:8080/"
        },
        "id": "f-9JsPRdqyc-",
        "outputId": "03cc11d9-608d-45e4-e5ef-c0f19acfc4c5"
      },
      "source": [
        "del thisdict['Year']\r\n",
        "print(thisdict)"
      ],
      "execution_count": null,
      "outputs": [
        {
          "output_type": "stream",
          "text": [
            "{'Brand': 'Ford', 'Model': 'Mustang', 'Country': 'India', 'Aditya': 'First owner'}\n"
          ],
          "name": "stdout"
        }
      ]
    },
    {
      "cell_type": "code",
      "metadata": {
        "colab": {
          "base_uri": "https://localhost:8080/"
        },
        "id": "nucJUMQZq1I2",
        "outputId": "7bddcef0-cfdd-4a60-fdd3-6205afe29f9e"
      },
      "source": [
        "thisdict={\"Brand\":\"Ford\",\r\n",
        "          \"Model\":\"Mustang\",\r\n",
        "          \"Year\":1964,\r\n",
        "          \"Country\":\"India\",\r\n",
        "          \"Year\":\"2020\",\r\n",
        "          \"Colour\":[\"Red\",\"White\",\"Black\"]}\r\n",
        "newdict=thisdict.copy()\r\n",
        "print(newdict)"
      ],
      "execution_count": null,
      "outputs": [
        {
          "output_type": "stream",
          "text": [
            "{'Brand': 'Ford', 'Model': 'Mustang', 'Year': '2020', 'Country': 'India', 'Colour': ['Red', 'White', 'Black']}\n"
          ],
          "name": "stdout"
        }
      ]
    },
    {
      "cell_type": "code",
      "metadata": {
        "colab": {
          "base_uri": "https://localhost:8080/"
        },
        "id": "SNI0YkFpq39H",
        "outputId": "5e036f86-ae66-4a5e-b569-c61356073cea"
      },
      "source": [
        "thisdict={\r\n",
        "    \"Child_1\":{\r\n",
        "        \"Name\":\"Manasi\",\r\n",
        "        \"Year\":\"2002\"\r\n",
        "    },\r\n",
        "    \"Child_2\":{\r\n",
        "        \"Name\":\"Vikas\",\r\n",
        "        \"Year\":\"1985\"\r\n",
        "    },\r\n",
        "    \"Child_3\":{\r\n",
        "        \"Name\":\"Payal\",\r\n",
        "        \"Year\":\"2007\"\r\n",
        "    }\r\n",
        "\r\n",
        "}\r\n",
        "print(thisdict)"
      ],
      "execution_count": null,
      "outputs": [
        {
          "output_type": "stream",
          "text": [
            "{'Child_1': {'Name': 'Manasi', 'Year': '2002'}, 'Child_2': {'Name': 'Vikas', 'Year': '1985'}, 'Child_3': {'Name': 'Payal', 'Year': '2007'}}\n"
          ],
          "name": "stdout"
        }
      ]
    },
    {
      "cell_type": "markdown",
      "metadata": {
        "id": "SYHZ5VjfrDhm"
      },
      "source": [
        "#Python Program to find LCM of two number"
      ]
    },
    {
      "cell_type": "code",
      "metadata": {
        "colab": {
          "base_uri": "https://localhost:8080/"
        },
        "id": "V67tU3V0q_L9",
        "outputId": "b00074c9-408b-461a-e8f1-8504411b052f"
      },
      "source": [
        "def lcm(x, y):\r\n",
        "  if x>y:\r\n",
        "    greater=x\r\n",
        "  else:\r\n",
        "    greater=y\r\n",
        "  while(True):\r\n",
        "    if ((greater%x==0) and (greater%y==0)):\r\n",
        "      lcm=greater\r\n",
        "      break\r\n",
        "    greater+=1\r\n",
        "  return lcm\r\n",
        "num_1=int(input(\"Enter first number=\"))\r\n",
        "num_2=int(input(\"Enter second number=\"))\r\n",
        "print(lcm(num_1, num_2))"
      ],
      "execution_count": null,
      "outputs": [
        {
          "output_type": "stream",
          "text": [
            "Enter first number=20\n",
            "Enter second number=24\n",
            "120\n"
          ],
          "name": "stdout"
        }
      ]
    },
    {
      "cell_type": "code",
      "metadata": {
        "id": "4Qc3J52k1QTG"
      },
      "source": [
        ""
      ],
      "execution_count": null,
      "outputs": []
    },
    {
      "cell_type": "markdown",
      "metadata": {
        "id": "6tWIGZRfe12I"
      },
      "source": [
        "dictionary methods"
      ]
    },
    {
      "cell_type": "markdown",
      "metadata": {
        "id": "Q5iV51uue5Xt"
      },
      "source": [
        "**1)clear() , 2)copy() , 3)fromkey() , 4)get() , 5)items() , 6)keys() , 7)pop() , 8)popitem() , 9)setdefault() , 10)update() , 11)values()**"
      ]
    },
    {
      "cell_type": "code",
      "metadata": {
        "id": "V-e-WwxTecAl",
        "colab": {
          "base_uri": "https://localhost:8080/"
        },
        "outputId": "944ed8eb-7369-46c5-c8e3-cb9b07182d04"
      },
      "source": [
        "a=32\n",
        "b=213\n",
        "if b>a :\n",
        "  print(\"b is greater\")\n"
      ],
      "execution_count": null,
      "outputs": [
        {
          "output_type": "stream",
          "text": [
            "b is greater\n"
          ],
          "name": "stdout"
        }
      ]
    },
    {
      "cell_type": "code",
      "metadata": {
        "id": "vxS8MckXgEbd",
        "colab": {
          "base_uri": "https://localhost:8080/"
        },
        "outputId": "9f87bf48-878d-4354-a714-b1ff501c94c8"
      },
      "source": [
        "a=33\n",
        "b=33\n",
        "if b>a :\n",
        "  print(\"b is greater\")\n",
        "elif a==b :\n",
        "  print(\"a and b are equal\")\n"
      ],
      "execution_count": null,
      "outputs": [
        {
          "output_type": "stream",
          "text": [
            "a and b are equal\n"
          ],
          "name": "stdout"
        }
      ]
    },
    {
      "cell_type": "code",
      "metadata": {
        "id": "EAlMQiAqgcLU",
        "colab": {
          "base_uri": "https://localhost:8080/"
        },
        "outputId": "fda3c818-a3ae-4122-dd75-c024959def3f"
      },
      "source": [
        "a=333\n",
        "b=33\n",
        "if b>a :\n",
        "  print(\"b is greater\")\n",
        "elif a==b :\n",
        "  print(\"a and b are equal\")\n",
        "else :\n",
        "  print(\"a is greater than b\")"
      ],
      "execution_count": null,
      "outputs": [
        {
          "output_type": "stream",
          "text": [
            "a is greater than b\n"
          ],
          "name": "stdout"
        }
      ]
    },
    {
      "cell_type": "code",
      "metadata": {
        "id": "pluAGApVgsa4",
        "colab": {
          "base_uri": "https://localhost:8080/"
        },
        "outputId": "438fb0c1-f139-437c-8366-8a462567eb6a"
      },
      "source": [
        "a=332\n",
        "\n",
        "b=33\n",
        "if b>a :\n",
        "  print(\"b is greater\")\n",
        "else :\n",
        "  print(\"a is greater than b\")"
      ],
      "execution_count": null,
      "outputs": [
        {
          "output_type": "stream",
          "text": [
            "a is greater than b\n"
          ],
          "name": "stdout"
        }
      ]
    },
    {
      "cell_type": "code",
      "metadata": {
        "id": "64Pb8hD-g89j",
        "colab": {
          "base_uri": "https://localhost:8080/"
        },
        "outputId": "ba293f35-9740-466c-d0f6-1224369c263b"
      },
      "source": [
        "a=333\n",
        "b=3333\n",
        "if b>a : print(\"b is greater\")"
      ],
      "execution_count": null,
      "outputs": [
        {
          "output_type": "stream",
          "text": [
            "b is greater\n"
          ],
          "name": "stdout"
        }
      ]
    },
    {
      "cell_type": "code",
      "metadata": {
        "id": "lqHdxx01hNun",
        "colab": {
          "base_uri": "https://localhost:8080/"
        },
        "outputId": "0f3be85a-4fde-437d-f459-d2d006b59196"
      },
      "source": [
        "a=333\n",
        "b=33\n",
        "c=444\n",
        "if a>b and c>a :\n",
        "  print(\"both conditions are true.\",a,\"and\",c,\"are greater than\",b)"
      ],
      "execution_count": null,
      "outputs": [
        {
          "output_type": "stream",
          "text": [
            "both conditions are true. 333 and 444 are greater than 33\n"
          ],
          "name": "stdout"
        }
      ]
    },
    {
      "cell_type": "code",
      "metadata": {
        "id": "cIMQMNQ-hxZO",
        "colab": {
          "base_uri": "https://localhost:8080/"
        },
        "outputId": "808929e5-83de-44f3-a2ba-a06499badc98"
      },
      "source": [
        "a=333\n",
        "b=33\n",
        "c=444\n",
        "if b>a or c>a :\n",
        "  print(\"at least one of the conditions is true\")"
      ],
      "execution_count": null,
      "outputs": [
        {
          "output_type": "stream",
          "text": [
            "at least one of the conditions is true\n"
          ],
          "name": "stdout"
        }
      ]
    },
    {
      "cell_type": "markdown",
      "metadata": {
        "id": "Jvf_bZGIiHxV"
      },
      "source": [
        "***nested if***"
      ]
    },
    {
      "cell_type": "code",
      "metadata": {
        "id": "dYmrPWsiiCv6",
        "colab": {
          "base_uri": "https://localhost:8080/"
        },
        "outputId": "c159f200-0ef3-4bb3-ce81-447baca6eb8c"
      },
      "source": [
        "x=42\n",
        "if x>10:\n",
        "  print(\"value is greater than 10\")\n",
        "  if x>20:\n",
        "    print(\"value is greater than 20\")\n",
        "else:\n",
        "  print(\"value is less than 10\")"
      ],
      "execution_count": null,
      "outputs": [
        {
          "output_type": "stream",
          "text": [
            "value is greater than 10\n",
            "value is greater than 20\n"
          ],
          "name": "stdout"
        }
      ]
    },
    {
      "cell_type": "markdown",
      "metadata": {
        "id": "W5yV4qH5jNKM"
      },
      "source": [
        "***while loop***"
      ]
    },
    {
      "cell_type": "code",
      "metadata": {
        "id": "WgQLrjepi2Vy",
        "colab": {
          "base_uri": "https://localhost:8080/"
        },
        "outputId": "d91acb52-400b-4b53-d7eb-1d30fcc698de"
      },
      "source": [
        "i=1\n",
        "while i<6 :\n",
        "  print(i)\n",
        "  i+=1\n"
      ],
      "execution_count": null,
      "outputs": [
        {
          "output_type": "stream",
          "text": [
            "1\n",
            "2\n",
            "3\n",
            "4\n",
            "5\n"
          ],
          "name": "stdout"
        }
      ]
    },
    {
      "cell_type": "code",
      "metadata": {
        "id": "7qpTkGH1jcRV",
        "colab": {
          "base_uri": "https://localhost:8080/"
        },
        "outputId": "2072b290-6a80-46c1-f013-72d7a0bd0c94"
      },
      "source": [
        "i=1\n",
        "while i<6 :\n",
        "  print(i)\n",
        "  if i==3:\n",
        "    break\n",
        "  i+=1\n"
      ],
      "execution_count": null,
      "outputs": [
        {
          "output_type": "stream",
          "text": [
            "1\n",
            "2\n",
            "3\n"
          ],
          "name": "stdout"
        }
      ]
    },
    {
      "cell_type": "code",
      "metadata": {
        "id": "MQbre4pFjs9s",
        "colab": {
          "base_uri": "https://localhost:8080/"
        },
        "outputId": "41d20cc6-79d8-434f-f28e-fd5fb9b74a67"
      },
      "source": [
        "i=1\n",
        "while i<6 :\n",
        "  print(i)\n",
        "  i+=1\n",
        "else:\n",
        "  print(\"i is no longer less than 6\")"
      ],
      "execution_count": null,
      "outputs": [
        {
          "output_type": "stream",
          "text": [
            "1\n",
            "2\n",
            "3\n",
            "4\n",
            "5\n",
            "i is no longer less than 6\n"
          ],
          "name": "stdout"
        }
      ]
    },
    {
      "cell_type": "code",
      "metadata": {
        "id": "3XG5AnAXZgQ-"
      },
      "source": [
        ""
      ],
      "execution_count": null,
      "outputs": []
    }
  ]
}